{
 "cells": [
  {
   "cell_type": "markdown",
   "metadata": {},
   "source": [
    "### Imports"
   ]
  },
  {
   "cell_type": "code",
   "execution_count": null,
   "metadata": {},
   "outputs": [],
   "source": [
    "%load_ext autoreload\n",
    "%autoreload 2\n",
    "\n",
    "from astropy.coordinates import SkyCoord\n",
    "import astropy.units as u\n",
    "import numpy as np\n",
    "from survey_tools import healpix\n",
    "import aomap"
   ]
  },
  {
   "cell_type": "markdown",
   "metadata": {},
   "source": [
    "### Config"
   ]
  },
  {
   "cell_type": "code",
   "execution_count": null,
   "metadata": {},
   "outputs": [],
   "source": [
    "config = aomap.read_config('config.yaml')"
   ]
  },
  {
   "cell_type": "markdown",
   "metadata": {},
   "source": [
    "### Plot Empty Map"
   ]
  },
  {
   "cell_type": "code",
   "execution_count": null,
   "metadata": {},
   "outputs": [],
   "source": [
    "aomap.plot_map(projection='astro', boundaries_level=0, tissot=False)"
   ]
  },
  {
   "cell_type": "markdown",
   "metadata": {},
   "source": [
    "### Plot Full Map"
   ]
  },
  {
   "cell_type": "code",
   "execution_count": null,
   "metadata": {},
   "outputs": [],
   "source": [
    "map_level = 9\n",
    "aomap.plot_map(aomap.get_map_data(config, map_level, 'star-count'),\n",
    "    projection='astro', boundaries_level=0, galactic=True\n",
    ")"
   ]
  },
  {
   "cell_type": "markdown",
   "metadata": {},
   "source": [
    "### Plot Map with Contours"
   ]
  },
  {
   "cell_type": "code",
   "execution_count": null,
   "metadata": {},
   "outputs": [],
   "source": [
    "map_level = 9\n",
    "aomap.plot_map(aomap.get_map_data(config, map_level, 'star-count'),\n",
    "    contours=True, contour_levels=[5e2, 1e4], projection='cart'\n",
    ")"
   ]
  },
  {
   "cell_type": "code",
   "execution_count": null,
   "metadata": {},
   "outputs": [],
   "source": [
    "map_level = 9\n",
    "contour_level = 6\n",
    "aomap.plot_map(aomap.get_map_data(config, map_level, 'star-count'),\n",
    "    contours=aomap.get_map_data(config, contour_level, 'star-density'),\n",
    "    contour_levels=[1, 10], projection='cart', galactic=True\n",
    ")"
   ]
  },
  {
   "cell_type": "markdown",
   "metadata": {},
   "source": [
    "### Plot Partial Map"
   ]
  },
  {
   "cell_type": "code",
   "execution_count": null,
   "metadata": {},
   "outputs": [],
   "source": [
    "map_level = 9\n",
    "plot_level = 1\n",
    "plot_pixs = 26\n",
    "\n",
    "aomap.plot_map(aomap.get_map_data(config, map_level, 'star-count', level=plot_level, pixs=plot_pixs),\n",
    "    projection='astro', boundaries_level=plot_level, boundaries_pixs=plot_pixs\n",
    ")"
   ]
  },
  {
   "cell_type": "markdown",
   "metadata": {},
   "source": [
    "### Plot Inner Level Data"
   ]
  },
  {
   "cell_type": "code",
   "execution_count": null,
   "metadata": {},
   "outputs": [],
   "source": [
    "object_name = 'cosmos'\n",
    "match object_name:\n",
    "    case 'cosmos':\n",
    "        ra = 150.0\n",
    "        dec = 2.0\n",
    "    case 'omegacentauri':\n",
    "        ra = 201.05\n",
    "        dec = -47.48\n",
    "    case 'galcenter':\n",
    "        ra = 266.42\n",
    "        dec = -29.00\n",
    "    case 'andromeda':\n",
    "        ra = 10.68\n",
    "        dec = 41.27\n",
    "    case 'lmc':\n",
    "        ra = 80.89\n",
    "        dec = -69.76\n",
    "    case 'smc':\n",
    "        ra = 13.19\n",
    "        dec = -72.83\n",
    "\n",
    "outer_pix = healpix.get_healpix_from_skycoord(config.outer_level, SkyCoord(ra=ra*u.deg, dec=dec*u.deg))\n",
    "print(f\"Outer pixel: {outer_pix}\")\n",
    "\n",
    "outer_pixs = np.concatenate([np.array([outer_pix]), healpix.get_neighbours(config.outer_level, outer_pix)])\n",
    "\n",
    "aomap.plot_map(aomap.get_map_data(config, config.inner_level, 'star-count', level=config.outer_level, pixs=outer_pixs),\n",
    "    projection='astro', norm='lin', boundaries_level=config.outer_level, boundaries_pixs=outer_pixs\n",
    ")"
   ]
  },
  {
   "cell_type": "markdown",
   "metadata": {},
   "source": [
    "### Save Map Data to FITS File"
   ]
  },
  {
   "cell_type": "code",
   "execution_count": null,
   "metadata": {},
   "outputs": [],
   "source": [
    "map_level = 9\n",
    "aomap.save_map(config, aomap.get_map_data(config, map_level, 'star-count'), 'star-count.fits', overwrite=True)"
   ]
  }
 ],
 "metadata": {
  "kernelspec": {
   "display_name": ".venv",
   "language": "python",
   "name": "python3"
  },
  "language_info": {
   "codemirror_mode": {
    "name": "ipython",
    "version": 3
   },
   "file_extension": ".py",
   "mimetype": "text/x-python",
   "name": "python",
   "nbconvert_exporter": "python",
   "pygments_lexer": "ipython3",
   "version": "3.13.1"
  }
 },
 "nbformat": 4,
 "nbformat_minor": 2
}
