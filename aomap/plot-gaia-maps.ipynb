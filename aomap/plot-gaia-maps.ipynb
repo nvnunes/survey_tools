{
 "cells": [
  {
   "cell_type": "markdown",
   "metadata": {},
   "source": [
    "### Imports"
   ]
  },
  {
   "cell_type": "code",
   "execution_count": null,
   "metadata": {},
   "outputs": [],
   "source": [
    "%load_ext autoreload\n",
    "%autoreload 2\n",
    "\n",
    "import astropy.units as u\n",
    "import numpy as np\n",
    "import aomap\n",
    "from survey_tools import healpix"
   ]
  },
  {
   "cell_type": "markdown",
   "metadata": {},
   "source": [
    "### Options"
   ]
  },
  {
   "cell_type": "code",
   "execution_count": null,
   "metadata": {},
   "outputs": [],
   "source": [
    "config = aomap.read_config('config.yaml')\n",
    "map_level = 9"
   ]
  },
  {
   "cell_type": "markdown",
   "metadata": {},
   "source": [
    "### Report Stats"
   ]
  },
  {
   "cell_type": "code",
   "execution_count": null,
   "metadata": {},
   "outputs": [],
   "source": [
    "map_data = aomap.get_map_data(config, map_level, 'star-count')\n",
    "total_stars = np.sum(map_data.values)\n",
    "print(f'Total Stars: {total_stars:,.0f}')\n",
    "\n",
    "print(f'Map Pixels: {healpix.get_resolution(map_level).to(u.arcmin):,.2f}')\n",
    "print(f'Map Pixel Area: {healpix.get_area(map_level).to(u.degree**2):,.2f}')\n",
    "print(f'Outer Pixels: {healpix.get_resolution(config.outer_level).to(u.degree):,.2f}')\n",
    "print(f'Outer Pixel Area: {healpix.get_area(config.outer_level).to(u.degree**2):,.2f}')\n",
    "print(f'Inner Pixels: {healpix.get_resolution(config.inner_level).to(u.arcsec):,.2f}')\n",
    "print(f'Inner Pixel Area: {healpix.get_area(config.inner_level).to(u.arcmin**2):,.4f}')\n",
    "\n",
    "del map_data, total_stars"
   ]
  },
  {
   "cell_type": "markdown",
   "metadata": {},
   "source": [
    "### Plot Gaia Stellar Density"
   ]
  },
  {
   "cell_type": "code",
   "execution_count": null,
   "metadata": {},
   "outputs": [],
   "source": [
    "aomap.plot_map(aomap.get_map_data(config, map_level, 'star-density'), galactic=True, width=15, dpi=150, grid=False, norm='symlog', cmap='gray', cbar_format='%g')"
   ]
  },
  {
   "cell_type": "markdown",
   "metadata": {},
   "source": [
    "### Plot Gaia TGE Dust Extinction"
   ]
  },
  {
   "cell_type": "code",
   "execution_count": null,
   "metadata": {},
   "outputs": [],
   "source": [
    "aomap.plot_map(aomap.get_map_data(config, map_level, 'dust-extinction'), galactic=True, width=15, dpi=150, grid=False, norm='log', vmin=0.2, vmax=10.0, cmap='inferno')"
   ]
  }
 ],
 "metadata": {
  "kernelspec": {
   "display_name": "Python 3",
   "language": "python",
   "name": "python3"
  },
  "language_info": {
   "codemirror_mode": {
    "name": "ipython",
    "version": 3
   },
   "file_extension": ".py",
   "mimetype": "text/x-python",
   "name": "python",
   "nbconvert_exporter": "python",
   "pygments_lexer": "ipython3",
   "version": "3.13.2"
  }
 },
 "nbformat": 4,
 "nbformat_minor": 2
}
