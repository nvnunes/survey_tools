{
 "cells": [
  {
   "cell_type": "markdown",
   "metadata": {},
   "source": [
    "### Imports"
   ]
  },
  {
   "cell_type": "code",
   "execution_count": null,
   "metadata": {},
   "outputs": [],
   "source": [
    "%load_ext autoreload\n",
    "%autoreload 2\n",
    "\n",
    "from astropy.coordinates import SkyCoord\n",
    "import astropy.units as u\n",
    "import matplotlib.pyplot as plt\n",
    "import numpy as np\n",
    "import aomap\n",
    "from survey_tools import healpix\n",
    "from survey_tools.utility import plot"
   ]
  },
  {
   "cell_type": "markdown",
   "metadata": {},
   "source": [
    "### Options"
   ]
  },
  {
   "cell_type": "code",
   "execution_count": null,
   "metadata": {},
   "outputs": [],
   "source": [
    "config = aomap.read_config('config.yaml')\n",
    "ao_system_name = 'GNAO-Optimal'\n",
    "\n",
    "object_name = 'cosmos'\n",
    "match object_name:\n",
    "    case 'cosmos':\n",
    "        ra = 150.0\n",
    "        dec = 2.0\n",
    "    case 'omegacentauri':\n",
    "        ra = 201.05\n",
    "        dec = -47.48\n",
    "    case 'galcenter':\n",
    "        ra = 266.42\n",
    "        dec = -29.00\n",
    "    case 'andromeda':\n",
    "        ra = 10.68\n",
    "        dec = 41.27\n",
    "    case 'lmc':\n",
    "        ra = 80.89\n",
    "        dec = -69.76 + 8\n",
    "    case 'smc':\n",
    "        ra = 13.19\n",
    "        dec = -72.83\n",
    "    case 'm13':\n",
    "        ra = 250.4\n",
    "        dec = 36.46\n",
    "\n",
    "outer_pix = healpix.get_healpix_from_skycoord(config.outer_level, SkyCoord(ra=ra*u.deg, dec=dec*u.deg))\n",
    "print(f\"Outer pixel: {outer_pix}\")"
   ]
  },
  {
   "cell_type": "markdown",
   "metadata": {},
   "source": [
    "### Steller Density Limit"
   ]
  },
  {
   "cell_type": "code",
   "execution_count": null,
   "metadata": {},
   "outputs": [],
   "source": [
    "aomap.plot_map(aomap.get_map_data(config, 9, 'star-density'),\n",
    "               milkyway=True, milkyway_width=20,\n",
    "               surveys=[['ews', {'edgecolor': 'red', 'linewidth': 1.5, 'linestyle': 'solid'}],\n",
    "                        ['edf-north', {'edgecolor': 'pink', 'linewidth': 1.5, 'linestyle': 'solid'}],\n",
    "                        ['edf-south', {'edgecolor': 'pink', 'linewidth': 1.5, 'linestyle': 'solid'}],\n",
    "                        ['edf-fornax', {'edgecolor': 'pink', 'linewidth': 1.5, 'linestyle': 'solid'}]],\n",
    "               points=[[ra, dec, object_name.upper()], {'marker': 's', 's': 25, 'edgecolor': 'white', 'facecolor': 'none'}],\n",
    "               rotation=110, projection='cart', width=15,\n",
    "               norm='linear', vmin=None, vmax=config.asterisms_max_star_density\n",
    ")"
   ]
  },
  {
   "cell_type": "markdown",
   "metadata": {},
   "source": [
    "### Find Asterisms"
   ]
  },
  {
   "cell_type": "code",
   "execution_count": null,
   "metadata": {},
   "outputs": [],
   "source": [
    "asterisms, stars, ngs, ao_system, overlap_level = aomap.find_outer_asterisms(config, outer_pix, ao_system_name, return_detail=True, use_cache=True, verbose=True)\n",
    "\n",
    "num_stars = len(stars)\n",
    "print(f\"Num Stars    : {num_stars}\")\n",
    "num_ngs = len(ngs)\n",
    "print(f\"Num NGS      : {num_ngs}\")\n",
    "num_asterisms = len(asterisms)\n",
    "print(f\"Num Asterisms: {num_asterisms}\")"
   ]
  },
  {
   "cell_type": "markdown",
   "metadata": {},
   "source": [
    "### Plot"
   ]
  },
  {
   "cell_type": "code",
   "execution_count": null,
   "metadata": {},
   "outputs": [],
   "source": [
    "fig, ax = plot.create_plot(title=f\"GAIA Stars\")\n",
    "values, bins, _ = ax.hist(stars[ao_system['band']], min(30,int(np.sqrt(num_stars))), rwidth=0.9, color='blue')\n",
    "plot.format_hist(ax, values=values, bins=bins, xtickspacing=2, xforceinteger=True, ytickspacing=100)\n",
    "ax.set_xlabel('R')\n",
    "ax.set_ylabel('Stars')\n",
    "ax.axvline(16.0, linestyle='--', color='k')\n",
    "ax.text(16.0+0.1, ax.get_ylim()[1] * 0.95, 'Optimal', rotation=90, verticalalignment='top', color='k')\n",
    "ax.axvline(17.0, linestyle='--', color='k')\n",
    "ax.text(17.0+0.1, ax.get_ylim()[1] * 0.95, 'Nominal', rotation=90, verticalalignment='top', color='k')\n",
    "ax.axvline(18.5, linestyle='--', color='k')\n",
    "ax.text(18.5+0.1, ax.get_ylim()[1] * 0.95, 'Limit', rotation=90, verticalalignment='top', color='k')\n",
    "plt.show()"
   ]
  },
  {
   "cell_type": "code",
   "execution_count": null,
   "metadata": {},
   "outputs": [],
   "source": [
    "zoom_levels = 0\n",
    "zoom_pix_offset = np.array([0,1,2,3]) if zoom_levels > 0 else 0\n",
    "plot_type = 'dust' # dust or stars\n",
    "\n",
    "level = config.outer_level + zoom_levels\n",
    "pixs = outer_pix * 4**(level - config.outer_level) + zoom_pix_offset\n",
    "\n",
    "aomap.plot_map(aomap.get_map_data(config, (config.max_data_level if plot_type == 'dust' else config.inner_level), ('dust-extinction' if plot_type == 'dust' else 'star-density'), level=level, pixs=pixs),\n",
    "    stars=[stars if len(stars) < 10000 else ngs, {'band': ao_system['band'], 'min_mag': 16, 'max_mag': 19, 'max_size': 50, 'fc': 'white', 'ec': 'black'}],\n",
    "    asterisms=[asterisms, {'fov': ao_system['fov'], 'fov_1ngs': ao_system['fov_1ngs']}],\n",
    "    projection='astro', norm='linear', width=12, boundaries_level=config.outer_level, boundaries_pixs=0, cbar_format=('%.3f' if plot_type == 'dust' else '%d')\n",
    ")"
   ]
  }
 ],
 "metadata": {
  "kernelspec": {
   "display_name": "Python 3",
   "language": "python",
   "name": "python3"
  },
  "language_info": {
   "codemirror_mode": {
    "name": "ipython",
    "version": 3
   },
   "file_extension": ".py",
   "mimetype": "text/x-python",
   "name": "python",
   "nbconvert_exporter": "python",
   "pygments_lexer": "ipython3",
   "version": "3.13.2"
  }
 },
 "nbformat": 4,
 "nbformat_minor": 2
}
