{
 "cells": [
  {
   "cell_type": "code",
   "execution_count": null,
   "id": "214c6aab",
   "metadata": {},
   "outputs": [],
   "source": [
    "from tabulate import tabulate\n",
    "from astropy.coordinates import SkyCoord\n",
    "from astropy.table import Table\n",
    "import astropy.units as u"
   ]
  },
  {
   "cell_type": "code",
   "execution_count": null,
   "id": "bfa35e5f",
   "metadata": {},
   "outputs": [],
   "source": [
    "fits_path = '../output'\n",
    "\n",
    "# Load asterisms\n",
    "fits_file = f\"{fits_path}/asterisms-GNAO-Optimal.fits\"\n",
    "asterisms = Table.read(fits_file, format='fits')\n",
    "print('Number of asterisms:', len(asterisms))\n",
    "\n",
    "# Load targets\n",
    "fits_file = f\"{fits_path}/sample-targets.fits\"\n",
    "targets = Table.read(fits_file, format='fits')\n",
    "print('Number of targets:', len(targets))"
   ]
  },
  {
   "cell_type": "code",
   "execution_count": null,
   "id": "00a8d914",
   "metadata": {},
   "outputs": [],
   "source": [
    "# Match targets to asterisms\n",
    "asterism_catalog = SkyCoord(ra=asterisms['ra'], dec=asterisms['dec'], unit='deg', frame='icrs')\n",
    "targets_catalog = SkyCoord(ra=targets['ra'], dec=targets['dec'], unit='deg', frame='icrs')\n",
    "idx, sep, _ = targets_catalog.match_to_catalog_sky(asterism_catalog)\n",
    "closest_asterisms = asterisms['id'][idx]\n",
    "fov = 2*u.arcmin\n",
    "target_filter = sep < fov/2\n",
    "\n",
    "matches = targets[target_filter]\n",
    "matches['asterism_id'] = closest_asterisms[target_filter]\n",
    "matches.sort(['field', 'id'])\n",
    "\n",
    "print('Number of targets near an optimal asterism:', len(matches))\n",
    "display(tabulate(matches, headers=matches.colnames, tablefmt='html', \n",
    "                 floatfmt=(\"\", \".0f\", \".5f\", \".5f\", \".3f\", \".1f\", \".1f\", \".1f\", \".0f\")))"
   ]
  }
 ],
 "metadata": {
  "kernelspec": {
   "display_name": "Python 3",
   "language": "python",
   "name": "python3"
  },
  "language_info": {
   "codemirror_mode": {
    "name": "ipython",
    "version": 3
   },
   "file_extension": ".py",
   "mimetype": "text/x-python",
   "name": "python",
   "nbconvert_exporter": "python",
   "pygments_lexer": "ipython3",
   "version": "3.12.9"
  }
 },
 "nbformat": 4,
 "nbformat_minor": 5
}
