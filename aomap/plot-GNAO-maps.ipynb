{
 "cells": [
  {
   "cell_type": "markdown",
   "metadata": {},
   "source": [
    "### Imports"
   ]
  },
  {
   "cell_type": "code",
   "execution_count": null,
   "metadata": {},
   "outputs": [],
   "source": [
    "%load_ext autoreload\n",
    "%autoreload 2\n",
    "\n",
    "import numpy as np\n",
    "import aomap"
   ]
  },
  {
   "cell_type": "markdown",
   "metadata": {},
   "source": [
    "### Options"
   ]
  },
  {
   "cell_type": "code",
   "execution_count": null,
   "metadata": {},
   "outputs": [],
   "source": [
    "config = aomap.read_config('config.yaml')\n",
    "\n",
    "map_level = 6\n",
    "contour_level = 6\n",
    "\n",
    "plot_options = {\n",
    "    'projection': 'cart',\n",
    "    'width': 12,\n",
    "    'dpi': 150,\n",
    "}\n",
    "\n",
    "plot_options_cuts = plot_options.copy()\n",
    "plot_options_cuts.update({\n",
    "    'milkyway': True,\n",
    "    'milkyway_width': 20,\n",
    "    'ecliptic': True,\n",
    "    'ecliptic_width': config.min_ecliptic_latitude,\n",
    "    'colors': {\n",
    "        'milkyway': 'black',\n",
    "        'ecliptic': 'white',\n",
    "    }\n",
    "})\n",
    "\n",
    "damjanov_fields = np.array([\n",
    "    [120.482869,-14.597538],\n",
    "    [121.388898,-14.880168],\n",
    "    [111.011109, -1.454012], # AODF\n",
    "    [291.738482,-21.001904],\n",
    "    [291.412554,-20.136597],\n",
    "    [291.513691,-23.100582],\n",
    "    [288.368826,-33.498226],\n",
    "    [287.377281,-33.898403],\n",
    "    [281.383352,-44.304260],\n",
    "    [282.894087,-39.697643],\n",
    "    [282.048454,-43.052971],\n",
    "    [280.914145,-43.451584],\n",
    "    [280.465880,-42.594566],\n",
    "    [281.147461,-41.343830],\n",
    "    [280.725803,-40.483150],\n",
    "    [280.037327,-41.733521],\n",
    "    [279.627285,-40.868729],\n",
    "    [276.995001,-51.796848],\n",
    "    [277.270060,-49.695045],\n",
    "    [276.471405,-50.939758],\n",
    "    [275.975933,-50.078022],\n",
    "    [280.004253,-46.805515],\n",
    "    [280.224466,-44.702126],\n",
    "    [279.517221,-45.951962],\n",
    "    [279.053192,-45.093948],\n",
    "    [279.286595,-48.055084],\n",
    "    [278.790465,-47.200886],\n",
    "    [278.042193,-48.448666],\n",
    "    [277.562342,-47.589100],\n",
    "    [278.318539,-46.342167],\n",
    "    [277.869272,-45.479275],\n",
    "    [277.106238,-46.725319],\n",
    "    [276.672335,-45.857643],\n",
    "    [279.768362,-43.844673],\n",
    "    [279.332886,-42.983139],\n",
    "    [278.610821,-44.231800],\n",
    "    [278.188648,-43.365822],\n",
    "    [278.916779,-42.117817],\n",
    "    [278.518810,-41.248981],\n",
    "    [277.785473,-42.496300],\n",
    "    [277.441149,-44.612515],\n",
    "    [276.259146,-44.986370],\n",
    "    [275.865355,-44.111774],\n",
    "    [276.643181,-42.868542],\n",
    "    [275.489674,-43.234104],\n",
    "    [276.782313,-48.834480],\n",
    "    [276.319513,-47.969666],\n",
    "    [282.603064,-33.747120],\n",
    "    [281.668968,-37.117062],\n",
    "    [275.914707,-41.112305],\n",
    "    [262.518425,-59.927586],\n",
    "    [308.507824,18.694595],\n",
    "    [307.566290,18.474026],\n",
    "    [121.229138,-15.787851],\n",
    "    [122.142405,-16.064194],\n",
    "    [265.125761,-61.431816],\n",
    "    [264.673376,-60.540405],\n",
    "    [263.739653,-62.619217],\n",
    "    [262.256327,-63.796349],\n",
    "    [261.829090,-62.898552],\n",
    "    [263.297710,-61.724682],\n",
    "    [262.891788,-60.827374],\n",
    "    [260.255728,-64.060493],\n",
    "    [255.058737,-68.366348],\n",
    "    [254.759531,-67.455254],\n",
    "    [244.859047,-71.660446],\n",
    "    [244.920645,-70.742401],\n",
    "])\n",
    "\n",
    "extragalactic_3d_hst_fields = np.array([\n",
    "    [214.65  ,  52.65  , 'AEGIS'],\n",
    "    [150.1292,   2.40  , 'COSMOS'],\n",
    "    [188.9790,  62.1976, 'GOODS-N'],\n",
    "    [ 53.1250, -27.7886, 'GOODS-S'],\n",
    "    [ 34.4541,  -5.2006, 'UDS']\n",
    "])"
   ]
  },
  {
   "cell_type": "markdown",
   "metadata": {},
   "source": [
    "### NGS Density"
   ]
  },
  {
   "cell_type": "code",
   "execution_count": null,
   "metadata": {},
   "outputs": [],
   "source": [
    "aomap.plot_map(aomap.get_map_data(config, map_level, 'ngs-pix-density-GNAO-Limit'), vmin=0.1, vmax=20.0, **plot_options)"
   ]
  },
  {
   "cell_type": "code",
   "execution_count": null,
   "metadata": {},
   "outputs": [],
   "source": [
    "aomap.plot_map(aomap.get_map_data(config, map_level, 'ngs-pix-density-GNAO-Nominal'), vmin=0.1, vmax=20.0, **plot_options)"
   ]
  },
  {
   "cell_type": "code",
   "execution_count": null,
   "metadata": {},
   "outputs": [],
   "source": [
    "aomap.plot_map(aomap.get_map_data(config, map_level, 'ngs-pix-density-GNAO-Optimal'), vmin=0.1, vmax=20.0, **plot_options)"
   ]
  },
  {
   "cell_type": "markdown",
   "metadata": {},
   "source": [
    "### AO-Friendly Areas: GNAO Limit"
   ]
  },
  {
   "cell_type": "code",
   "execution_count": null,
   "metadata": {},
   "outputs": [],
   "source": [
    "aomap.plot_map(aomap.get_map_data(config, map_level, 'ao-friendly-GNAO-Limit'),\n",
    "               contours=aomap.get_map_data(config, contour_level, 'dust-extinction'),\n",
    "               contour_levels=[config.max_dust_extinction], **plot_options_cuts)"
   ]
  },
  {
   "cell_type": "markdown",
   "metadata": {},
   "source": [
    "### AO-Friendly Areas: GNAO Nominal"
   ]
  },
  {
   "cell_type": "code",
   "execution_count": null,
   "metadata": {},
   "outputs": [],
   "source": [
    "aomap.plot_map(aomap.get_map_data(config, map_level, 'ao-friendly-GNAO-Nominal'),\n",
    "               contours=aomap.get_map_data(config, contour_level, 'dust-extinction'),\n",
    "               contour_levels=[config.max_dust_extinction], **plot_options_cuts)"
   ]
  },
  {
   "cell_type": "markdown",
   "metadata": {},
   "source": [
    "### AO-Friendly Areas: GNAO Optimal"
   ]
  },
  {
   "cell_type": "code",
   "execution_count": null,
   "metadata": {},
   "outputs": [],
   "source": [
    "aomap.plot_map(aomap.get_map_data(config, map_level, 'ao-friendly-GNAO-Optimal'),\n",
    "               contours=aomap.get_map_data(config, contour_level, 'dust-extinction'),\n",
    "               contour_levels=[config.max_dust_extinction], **plot_options_cuts)"
   ]
  },
  {
   "cell_type": "code",
   "execution_count": null,
   "metadata": {},
   "outputs": [],
   "source": [
    "aomap.plot_map(aomap.get_map_data(config, map_level, 'ao-friendly-GNAO-Optimal'),\n",
    "               norm='linear', vmin=1, vmax=3, **plot_options_cuts)"
   ]
  },
  {
   "cell_type": "code",
   "execution_count": null,
   "metadata": {},
   "outputs": [],
   "source": [
    "def get_ao_field_pixs(level):\n",
    "    match level:\n",
    "        case 1:\n",
    "            return [21,39,14,12,46,41,40]\n",
    "        case 2:\n",
    "            return [84,158,[58,59],[48,50],186,164,161]\n",
    "        case 3:\n",
    "            return [337,635,[232,233,236],[194,200,201],[744,745],656,645]\n",
    "        case 4:\n",
    "            return [1349,2542,[929,933,945],[779,801,804,806,807],[2977,2980],2624,[2580,2581,2582]]\n",
    "        case 5:\n",
    "            return [5396,10168,[3716,3717,3735,3781],[3118,3119,3216,3217,3224,3225,3228],[11909,11920,11922],[10496,10498],[10323,10326,10328]]\n"
   ]
  },
  {
   "cell_type": "code",
   "execution_count": null,
   "metadata": {},
   "outputs": [],
   "source": [
    "level = 5\n",
    "for pix in get_ao_field_pixs(level):\n",
    "    aomap.plot_map(aomap.get_map_data(config, map_level, 'ao-friendly-GNAO-Optimal', level=level, pixs=pix),\n",
    "                   norm='linear', vmin=1.0, vmax=2.0, **plot_options_cuts)\n",
    "del level, pix"
   ]
  },
  {
   "cell_type": "markdown",
   "metadata": {},
   "source": [
    "### Compare to Other Surveys"
   ]
  },
  {
   "cell_type": "code",
   "execution_count": null,
   "metadata": {},
   "outputs": [],
   "source": [
    "aomap.plot_map(aomap.get_map_data(config, map_level, 'ngs-pix-density-GNAO-Optimal'),\n",
    "               contours=aomap.get_map_data(config, contour_level, 'dust-extinction'),\n",
    "               contour_levels=[config.max_dust_extinction, 10], # Av [mag]\n",
    "               contour_filled = True,\n",
    "               contour_colors = 'black',\n",
    "               contour_alpha = 0.25,\n",
    "               surveys=[['ews', {'edgecolor': 'red', 'linewidth': 1.5, 'linestyle': 'solid'}],\n",
    "                        ['edf-north', {'edgecolor': 'pink', 'linewidth': 1.5, 'linestyle': 'solid'}],\n",
    "                        ['edf-south', {'edgecolor': 'pink', 'linewidth': 1.5, 'linestyle': 'solid'}],\n",
    "                        ['edf-fornax', {'edgecolor': 'pink', 'linewidth': 1.5, 'linestyle': 'solid'}]],\n",
    "               points=[extragalactic_3d_hst_fields, {'marker': 's', 'edgecolor': 'yellow', 'facecolor': 'none'}],\n",
    "               rotation=110, vmin=0.1, vmax=20, **plot_options_cuts)"
   ]
  },
  {
   "cell_type": "code",
   "execution_count": null,
   "metadata": {},
   "outputs": [],
   "source": [
    "aomap.plot_map(aomap.get_map_data(config, map_level, 'ngs-pix-density-GNAO-Optimal'),\n",
    "               contours=aomap.get_map_data(config, contour_level, 'dust-extinction'),\n",
    "               contour_levels=[config.max_dust_extinction, 10], # Av [mag]\n",
    "               contour_filled = True,\n",
    "               contour_colors = 'black',\n",
    "               contour_alpha = 0.25,\n",
    "               surveys=[['ews', {'edgecolor': 'red', 'linewidth': 1.5, 'linestyle': 'solid'}],\n",
    "                        ['edf-north', {'edgecolor': 'pink', 'linewidth': 1.5, 'linestyle': 'solid'}],\n",
    "                        ['edf-south', {'edgecolor': 'pink', 'linewidth': 1.5, 'linestyle': 'solid'}],\n",
    "                        ['edf-fornax', {'edgecolor': 'pink', 'linewidth': 1.5, 'linestyle': 'solid'}]],\n",
    "               points=[extragalactic_3d_hst_fields, {'marker': 's', 'edgecolor': 'yellow', 'facecolor': 'none'}],\n",
    "               galactic=True, vmin=0.1, vmax=20, **plot_options_cuts)"
   ]
  },
  {
   "cell_type": "code",
   "execution_count": null,
   "metadata": {},
   "outputs": [],
   "source": [
    "aomap.plot_map(aomap.get_map_data(config, map_level, 'ao-friendly-GNAO-Optimal'),\n",
    "               points=[[damjanov_fields, {'marker': 's', 'edgecolor': 'blue', 'facecolor': 'none'}],\n",
    "                       [extragalactic_3d_hst_fields, {'marker': 's', 'edgecolor': 'yellow', 'facecolor': 'none'}]],\n",
    "               surveys=['ews'],\n",
    "               rotation=110, norm='linear', vmin=1.0, vmax=None, **plot_options_cuts)"
   ]
  }
 ],
 "metadata": {
  "kernelspec": {
   "display_name": ".venv",
   "language": "python",
   "name": "python3"
  },
  "language_info": {
   "codemirror_mode": {
    "name": "ipython",
    "version": 3
   },
   "file_extension": ".py",
   "mimetype": "text/x-python",
   "name": "python",
   "nbconvert_exporter": "python",
   "pygments_lexer": "ipython3",
   "version": "3.13.1"
  }
 },
 "nbformat": 4,
 "nbformat_minor": 2
}
