{
 "cells": [
  {
   "cell_type": "markdown",
   "metadata": {},
   "source": [
    "### Imports"
   ]
  },
  {
   "cell_type": "code",
   "execution_count": null,
   "metadata": {},
   "outputs": [],
   "source": [
    "%load_ext autoreload\n",
    "%autoreload 2\n",
    "\n",
    "from astropy.coordinates import SkyCoord\n",
    "import astropy.units as u\n",
    "import numpy as np\n",
    "import aomap\n",
    "from survey_tools import healpix"
   ]
  },
  {
   "cell_type": "markdown",
   "metadata": {},
   "source": [
    "### Options"
   ]
  },
  {
   "cell_type": "code",
   "execution_count": null,
   "metadata": {},
   "outputs": [],
   "source": [
    "config = aomap.read_config('config.yaml')\n",
    "\n",
    "ao_system_name = 'GNAO-Optimal'\n",
    "dec_limit = [-20,60]\n",
    "map_level = 6\n",
    "\n",
    "ao_system = next((system for system in config.ao_systems if system['name'] == ao_system_name), None)"
   ]
  },
  {
   "cell_type": "code",
   "execution_count": null,
   "metadata": {},
   "outputs": [],
   "source": [
    "print(f\"Map Resolution: {healpix.get_resolution(map_level).to(u.deg):.2f}\")\n",
    "print(f\"Map Area: {healpix.get_area(map_level).to(u.deg**2):.2f}\")"
   ]
  },
  {
   "cell_type": "markdown",
   "metadata": {},
   "source": [
    "### Asterism Coverage"
   ]
  },
  {
   "cell_type": "code",
   "execution_count": null,
   "metadata": {},
   "outputs": [],
   "source": [
    "map_data = aomap.get_map_data(config, map_level, f\"asterism-coverage-{ao_system_name}\", survey='ews', dec_limit=dec_limit)\n",
    "mean_coverage = np.mean(map_data.values)\n",
    "print(f'Average Coverage over EWS within Dec Limit: {mean_coverage:.1%}')\n",
    "\n",
    "min_coverage = 0.50\n",
    "total_pix = len(map_data.values)\n",
    "pixs_filter = map_data.values >= min_coverage\n",
    "num_pix = np.sum(pixs_filter)\n",
    "print(f'Fraction of Pix with Coverage >= {min_coverage:.0%}: {num_pix/total_pix:.1%} ({num_pix}/{total_pix})')\n"
   ]
  },
  {
   "cell_type": "code",
   "execution_count": null,
   "metadata": {},
   "outputs": [],
   "source": [
    "aomap.plot_map(aomap.get_map_data(config, map_level, f\"asterism-coverage-{ao_system_name}\"),\n",
    "               milkyway=True, milkyway_width=20,\n",
    "               surveys=[['ews', {'edgecolor': 'red', 'linewidth': 1.5, 'linestyle': 'solid'}],\n",
    "                        ['edf-north', {'edgecolor': 'pink', 'linewidth': 1.5, 'linestyle': 'solid'}],\n",
    "                        ['edf-south', {'edgecolor': 'pink', 'linewidth': 1.5, 'linestyle': 'solid'}],\n",
    "                        ['edf-fornax', {'edgecolor': 'pink', 'linewidth': 1.5, 'linestyle': 'solid'}]],\n",
    "               rotation=110, projection='cart', width=15, vmax=1.0\n",
    ")"
   ]
  },
  {
   "cell_type": "code",
   "execution_count": null,
   "metadata": {},
   "outputs": [],
   "source": [
    "aomap.plot_map(aomap.get_map_data(config, map_level, f\"asterism-coverage-{ao_system_name}\", survey='ews', dec_limit=dec_limit),\n",
    "               milkyway=True, milkyway_width=20,\n",
    "               surveys=[['ews', {'edgecolor': 'red', 'linewidth': 1.5, 'linestyle': 'solid'}],\n",
    "                        ['edf-north', {'edgecolor': 'pink', 'linewidth': 1.5, 'linestyle': 'solid'}],\n",
    "                        ['edf-south', {'edgecolor': 'pink', 'linewidth': 1.5, 'linestyle': 'solid'}],\n",
    "                        ['edf-fornax', {'edgecolor': 'pink', 'linewidth': 1.5, 'linestyle': 'solid'}]],\n",
    "               lines=[{'dec': dec_limit[0], 'ls': '--'}, {'dec': dec_limit[1], 'ls': '--'}],\n",
    "               rotation=110, projection='cart', zoom=False, width=15, vmax=1.0\n",
    ")"
   ]
  },
  {
   "cell_type": "markdown",
   "metadata": {},
   "source": [
    "### Asterism Counts and Density"
   ]
  },
  {
   "cell_type": "code",
   "execution_count": null,
   "metadata": {},
   "outputs": [],
   "source": [
    "map_data = aomap.get_map_data(config, map_level, f\"asterism-count-{ao_system_name}\")\n",
    "total_asterisms = np.sum(map_data.values)\n",
    "print(f'\\nTotal Asterisms: {total_asterisms:,.0f}')\n",
    "\n",
    "map_data = aomap.get_map_data(config, config.max_data_level, f\"asterism-count-{ao_system_name}\", survey='ews', dec_limit=dec_limit)\n",
    "total_asterisms = np.sum(map_data.values)\n",
    "print(f'Usable Asterisms: {total_asterisms:,.0f}')"
   ]
  },
  {
   "cell_type": "code",
   "execution_count": null,
   "metadata": {},
   "outputs": [],
   "source": [
    "aomap.plot_map(aomap.get_map_data(config, map_level, f\"asterism-count-{ao_system_name}\"),\n",
    "               milkyway=True, milkyway_width=20,\n",
    "               surveys=[['ews', {'edgecolor': 'red', 'linewidth': 1.5, 'linestyle': 'solid'}],\n",
    "                        ['edf-north', {'edgecolor': 'pink', 'linewidth': 1.5, 'linestyle': 'solid'}],\n",
    "                        ['edf-south', {'edgecolor': 'pink', 'linewidth': 1.5, 'linestyle': 'solid'}],\n",
    "                        ['edf-fornax', {'edgecolor': 'pink', 'linewidth': 1.5, 'linestyle': 'solid'}]],\n",
    "               rotation=110, projection='cart', width=15, norm='symlog', vmax=1000\n",
    ")"
   ]
  },
  {
   "cell_type": "code",
   "execution_count": null,
   "metadata": {},
   "outputs": [],
   "source": [
    "aomap.plot_map(aomap.get_map_data(config, map_level, f\"asterism-count-{ao_system_name}\", survey='ews', dec_limit=dec_limit),\n",
    "               milkyway=True, milkyway_width=20,\n",
    "               surveys=[['ews', {'edgecolor': 'red', 'linewidth': 1.5, 'linestyle': 'solid'}],\n",
    "                        ['edf-north', {'edgecolor': 'pink', 'linewidth': 1.5, 'linestyle': 'solid'}],\n",
    "                        ['edf-south', {'edgecolor': 'pink', 'linewidth': 1.5, 'linestyle': 'solid'}],\n",
    "                        ['edf-fornax', {'edgecolor': 'pink', 'linewidth': 1.5, 'linestyle': 'solid'}]],\n",
    "               lines=[{'dec': dec_limit[0], 'ls': '--'}, {'dec': dec_limit[1], 'ls': '--'}],\n",
    "               rotation=110, projection='cart', zoom=False, width=15, norm='symlog', vmin=1, vmax=1000\n",
    ")"
   ]
  },
  {
   "cell_type": "markdown",
   "metadata": {},
   "source": [
    "### Plot Asterims"
   ]
  },
  {
   "cell_type": "code",
   "execution_count": null,
   "metadata": {},
   "outputs": [],
   "source": [
    "level = 6\n",
    "plot_type = 'dust' # dust or stars\n",
    "\n",
    "pix = None\n",
    "ra = None\n",
    "dec = None\n",
    "object_name = 'cosmos'\n",
    "\n",
    "if pix is None:\n",
    "    if ra is None or dec is None:\n",
    "        match object_name:\n",
    "            case 'cosmos':\n",
    "                ra = 150.0\n",
    "                dec = 2.0\n",
    "            case 'omegacentauri':\n",
    "                ra = 201.05\n",
    "                dec = -47.48\n",
    "            case 'galcenter':\n",
    "                ra = 266.42\n",
    "                dec = -29.00\n",
    "            case 'andromeda':\n",
    "                ra = 10.68\n",
    "                dec = 41.27\n",
    "            case 'lmc':\n",
    "                ra = 80.89\n",
    "                dec = -69.76 + 8\n",
    "            case 'smc':\n",
    "                ra = 13.19\n",
    "                dec = -72.83\n",
    "            case 'm13':\n",
    "                ra = 250.4\n",
    "                dec = 36.46\n",
    "            case 'ngp':\n",
    "                ra = 192.8595\n",
    "                dec = 27.1283\n",
    "            case 'sgp':\n",
    "                ra = 12.8595\n",
    "                dec = -27.1283\n",
    "            case _:\n",
    "                ra = 0.0\n",
    "                dec = 0.0\n",
    "\n",
    "    pix = healpix.get_healpix_from_skycoord(level, SkyCoord(ra=ra*u.deg, dec=dec*u.deg))\n",
    "    outer_pix = healpix.get_healpix_from_skycoord(config.outer_level, SkyCoord(ra=ra*u.deg, dec=dec*u.deg))\n",
    "else:\n",
    "    if level < config.outer_level:\n",
    "        raise ValueError(f\"Level {level} must be greater than or equal to {config.outer_level}\")\n",
    "    elif level == config.outer_level:\n",
    "        outer_pix = pix\n",
    "    else:\n",
    "        outer_pix = healpix.get_parent_pixel(level, pix, config.outer_level)\n",
    "\n",
    "print(f\"Outer Pixel: {outer_pix}\")\n",
    "\n",
    "asterisms = aomap.load_asterisms(config, outer_pix, ao_system_name)\n",
    "stars = aomap.get_outer_stars(config, outer_pix, required_band=ao_system['band'], use_cache=True)\n",
    "print(f\"Total Asterisms in Outer Pixel: {len(asterisms):,.0f}\")\n",
    "print(f\"Total Stars in Outer Pixel: {len(stars):,.0f}\")\n",
    "\n",
    "print(f\"Zoom Level {level} Pixel: {pix}\")\n",
    "\n",
    "plot_level = config.max_data_level if plot_type == 'dust' else config.inner_level\n",
    "min_mag = int(np.floor(ao_system['nom_mag']))\n",
    "max_mag = int(np.ceil(ao_system['max_mag'])) if ao_system['nom_mag'] < ao_system['max_mag'] else 19\n",
    "\n",
    "aomap.plot_map(aomap.get_map_data(config, plot_level, ('dust-extinction' if plot_type == 'dust' else 'star-density'), level=level, pixs=pix),\n",
    "    stars=[stars, {'band': ao_system['band'], 'min_mag': min_mag, 'max_mag': max_mag, 'max_size': 50, 'fc': 'white', 'ec': 'black'}],\n",
    "    asterisms=[asterisms, {'fov': ao_system['fov'], 'fov_1ngs': ao_system['fov_1ngs']}],\n",
    "    projection='astro', norm='linear', width=12, boundaries_level=level+1, boundaries_pixs=0, cbar_format=('%.3f' if plot_type == 'dust' else '%d')\n",
    ")"
   ]
  }
 ],
 "metadata": {
  "kernelspec": {
   "display_name": "Python 3",
   "language": "python",
   "name": "python3"
  },
  "language_info": {
   "codemirror_mode": {
    "name": "ipython",
    "version": 3
   },
   "file_extension": ".py",
   "mimetype": "text/x-python",
   "name": "python",
   "nbconvert_exporter": "python",
   "pygments_lexer": "ipython3",
   "version": "3.13.2"
  }
 },
 "nbformat": 4,
 "nbformat_minor": 2
}
