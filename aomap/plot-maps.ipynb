{
 "cells": [
  {
   "cell_type": "markdown",
   "metadata": {},
   "source": [
    "### Imports"
   ]
  },
  {
   "cell_type": "code",
   "execution_count": null,
   "metadata": {},
   "outputs": [],
   "source": [
    "%load_ext autoreload\n",
    "%autoreload 2\n",
    "\n",
    "import astropy.units as u\n",
    "import numpy as np\n",
    "import aomap\n",
    "from survey_tools import healpix"
   ]
  },
  {
   "cell_type": "markdown",
   "metadata": {},
   "source": [
    "### Options"
   ]
  },
  {
   "cell_type": "code",
   "execution_count": null,
   "metadata": {},
   "outputs": [],
   "source": [
    "config = aomap.read_config('config.yaml')\n",
    "\n",
    "map_level = 6\n",
    "contour_level = 6\n",
    "\n",
    "plot_options = {\n",
    "    'projection': 'cart',\n",
    "    'width': 12,\n",
    "    'dpi': 150,\n",
    "    'milkyway': True,\n",
    "    'milkyway_width': 20,\n",
    "    'ecliptic': True,\n",
    "    'ecliptic_width': 20,\n",
    "    'colors': {\n",
    "        'milkyway': 'black',\n",
    "        'ecliptic': 'white',\n",
    "    }\n",
    "}\n",
   ]
  },
  {
   "cell_type": "markdown",
   "metadata": {},
   "source": [
    "### Stellar Density"
   ]
  },
  {
   "cell_type": "code",
   "execution_count": null,
   "metadata": {},
   "outputs": [],
   "source": [
    "aomap.plot_map(aomap.get_map_data(config, map_level, 'star-density'), **plot_options)"
   ]
  },
  {
   "cell_type": "code",
   "execution_count": null,
   "metadata": {},
   "outputs": [],
   "source": [
    "aomap.plot_map(aomap.get_map_data(config, map_level, 'ngs-pix-density-GNAO-Nominal'), **plot_options)"
   ]
  },
  {
   "cell_type": "code",
   "execution_count": null,
   "metadata": {},
   "outputs": [],
   "source": [
    "aomap.plot_map(aomap.get_map_data(config, map_level, 'ngs-pix-density-GNAO-Optimal'), **plot_options)"
   ]
  },
  {
   "cell_type": "markdown",
   "metadata": {},
   "source": [
    "### Dust Extinction"
   ]
  },
  {
   "cell_type": "code",
   "execution_count": null,
   "metadata": {},
   "outputs": [],
   "source": [
    "aomap.plot_map(aomap.get_map_data(config, map_level, 'dust-extinction'), **plot_options)"
   ]
  },
  {
   "cell_type": "markdown",
   "metadata": {},
   "source": [
    "### AO-Friendly Areas: GNAO Nominal"
   ]
  },
  {
   "cell_type": "code",
   "execution_count": null,
   "metadata": {},
   "outputs": [],
   "source": [
    "aomap.plot_map(aomap.get_map_data(config, map_level, 'ao-friendly-GNAO-Nominal'),\n",
    "               contours=aomap.get_map_data(config, contour_level, 'dust-extinction'),\n",
    "               contour_levels=[config.max_dust_extinction], **plot_options)"
   ]
  },
  {
   "cell_type": "code",
   "execution_count": null,
   "metadata": {},
   "outputs": [],
   "source": [
    "aomap.plot_map(aomap.get_map_data(config, map_level, 'ao-friendly-GNAO-Nominal'), **plot_options)"
   ]
  },
  {
   "cell_type": "markdown",
   "metadata": {},
   "source": [
    "### AO-Friendly Areas: GNAO Optimal"
   ]
  },
  {
   "cell_type": "code",
   "execution_count": null,
   "metadata": {},
   "outputs": [],
   "source": [
    "aomap.plot_map(aomap.get_map_data(config, map_level, 'ao-friendly-GNAO-Optimal'),\n",
    "               contours=aomap.get_map_data(config, contour_level, 'dust-extinction'),\n",
    "               contour_levels=[config.max_dust_extinction], **plot_options)"
   ]
  },
  {
   "cell_type": "code",
   "execution_count": null,
   "metadata": {},
   "outputs": [],
   "source": [
    "aomap.plot_map(aomap.get_map_data(config, map_level, 'ao-friendly-GNAO-Optimal'), **plot_options)"
   ]
  },
  {
   "cell_type": "code",
   "execution_count": null,
   "metadata": {},
   "outputs": [],
   "source": [
    "level = 3\n",
    "match level:\n",
    "    case 1:\n",
    "        pixs = [21,39,14]\n",
    "    case 2:\n",
    "        pixs = [85,158,[58,59]]\n",
    "    case 3:\n",
    "        pixs = [[340,342],[633,635],[233,236]]\n",
    "    case 4:\n",
    "        pixs = [[1362,1368],[2535,2541],[935,946]]\n",
    "    case 5:\n",
    "        pixs = [[5448,5450,5472,5475],[10142,10164,10167],[3740,3741,3784,3785]]\n",
    "\n",
    "for pix in pixs:\n",
    "    aomap.plot_map(aomap.get_map_data(config, map_level, 'ao-friendly-GNAO-Optimal', level=level, pixs=pix),\n",
    "                   norm='linear', vmin=1.0, vmax=2.0, **plot_options)\n",
    "\n",
    "del level, pixs, pix"
   ]
  },
  {
   "cell_type": "code",
   "execution_count": null,
   "metadata": {},
   "outputs": [],
   "source": [
   ]
  },
  {
   "cell_type": "code",
   "execution_count": null,
   "metadata": {},
   "outputs": [],
   "source": [
   ]
  }
 ],
 "metadata": {
  "kernelspec": {
   "display_name": ".venv",
   "language": "python",
   "name": "python3"
  },
  "language_info": {
   "codemirror_mode": {
    "name": "ipython",
    "version": 3
   },
   "file_extension": ".py",
   "mimetype": "text/x-python",
   "name": "python",
   "nbconvert_exporter": "python",
   "pygments_lexer": "ipython3",
   "version": "3.13.1"
  }
 },
 "nbformat": 4,
 "nbformat_minor": 2
}
