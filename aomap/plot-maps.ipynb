{
 "cells": [
  {
   "cell_type": "markdown",
   "metadata": {},
   "source": [
    "### Imports"
   ]
  },
  {
   "cell_type": "code",
   "metadata": {},
   "source": [
    "%load_ext autoreload\n",
    "%autoreload 2\n",
    "\n",
    "import numpy as np\n",
    "import aomap"
   ],
   "outputs": [],
   "execution_count": null
  },
  {
   "cell_type": "markdown",
   "metadata": {},
   "source": [
    "### Options"
   ]
  },
  {
   "cell_type": "code",
   "metadata": {},
   "source": [
    "config = aomap.read_config('config.yaml')\n",
    "\n",
    "map_level = 9\n",
    "\n",
    "plot_options = {\n",
    "    'projection': 'astro',\n",
    "    'width': 12,\n",
    "    'dpi': 150,\n",
    "    'milkyway': True,\n",
    "    'milkyway_width': 15\n",
    "}"
   ],
   "outputs": [],
   "execution_count": null
  },
  {
   "cell_type": "markdown",
   "metadata": {},
   "source": [
    "### Report Stats"
   ]
  },
  {
   "cell_type": "code",
   "metadata": {},
   "source": [
    "map_data = aomap.get_map_data(config, map_level, 'star-count')\n",
    "total_stars = np.sum(map_data.values)\n",
    "print(f'Total Stars: {total_stars:,.0f}')\n",
    "del map_data, total_stars"
   ],
   "outputs": [],
   "execution_count": null
  },
  {
   "cell_type": "markdown",
   "metadata": {},
   "source": [
    "### Plot Gaia Stellar Density"
   ]
  },
  {
   "cell_type": "code",
   "metadata": {},
   "source": [
    "aomap.plot_map(aomap.get_map_data(config, map_level, 'star-density'), galactic=True, width=15, dpi=150, grid=False, norm='symlog', cmap='gray')"
   ],
   "outputs": [],
   "execution_count": null
  },
  {
   "cell_type": "markdown",
   "metadata": {},
   "source": [
    "### Plot Other Maps"
   ]
  },
  {
   "cell_type": "code",
   "metadata": {},
   "source": "aomap.plot_map(aomap.get_map_data(config, map_level, 'star-density'), **plot_options)",
   "outputs": [],
   "execution_count": null
  },
  {
   "metadata": {},
   "cell_type": "code",
   "source": "aomap.plot_map(aomap.get_map_data(config, map_level, 'dust-extinction', level =6 , pixs=27000), **plot_options)",
   "outputs": [],
   "execution_count": null
  },
  {
   "metadata": {},
   "cell_type": "code",
   "source": "aomap.plot_map(aomap.get_map_data(config, map_level, 'dust-extinction'), **plot_options)",
   "outputs": [],
   "execution_count": null
  },
  {
   "cell_type": "code",
   "metadata": {},
   "source": [
    "aomap.plot_map(aomap.get_map_data(config, map_level, 'ao-friendly'), **plot_options)"
   ],
   "outputs": [],
   "execution_count": null
  },
  {
   "cell_type": "code",
   "metadata": {},
   "source": [
    "aomap.plot_map(aomap.get_map_data(config, map_level, 'ngs-density-GNAO-Nominal'), **plot_options)"
   ],
   "outputs": [],
   "execution_count": null
  },
  {
   "cell_type": "code",
   "metadata": {},
   "source": [
    "aomap.plot_map(aomap.get_map_data(config, map_level, 'ao-friendly-GNAO-Nominal'), **plot_options)"
   ],
   "outputs": [],
   "execution_count": null
  },
  {
   "cell_type": "code",
   "metadata": {},
   "source": [
    "aomap.plot_map(aomap.get_map_data(config, map_level, 'ngs-density-GNAO-Optimal'), **plot_options)"
   ],
   "outputs": [],
   "execution_count": null
  },
  {
   "cell_type": "code",
   "metadata": {},
   "source": [
    "aomap.plot_map(aomap.get_map_data(config, map_level, 'ao-friendly-GNAO-Optimal'), **plot_options)"
   ],
   "outputs": [],
   "execution_count": null
  }
 ],
 "metadata": {
  "kernelspec": {
   "display_name": ".venv",
   "language": "python",
   "name": "python3"
  },
  "language_info": {
   "codemirror_mode": {
    "name": "ipython",
    "version": 3
   },
   "file_extension": ".py",
   "mimetype": "text/x-python",
   "name": "python",
   "nbconvert_exporter": "python",
   "pygments_lexer": "ipython3",
   "version": "3.13.1"
  }
 },
 "nbformat": 4,
 "nbformat_minor": 2
}
