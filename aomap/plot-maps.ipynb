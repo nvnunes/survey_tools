{
 "cells": [
  {
   "cell_type": "markdown",
   "metadata": {},
   "source": [
    "### Imports"
   ]
  },
  {
   "cell_type": "code",
   "metadata": {},
   "source": [
    "%load_ext autoreload\n",
    "%autoreload 2\n",
    "\n",
    "import numpy as np\n",
    "import aomap"
   ],
   "outputs": [],
   "execution_count": null
  },
  {
   "cell_type": "markdown",
   "metadata": {},
   "source": [
    "### Options"
   ]
  },
  {
   "cell_type": "code",
   "metadata": {},
   "source": [
    "config = aomap.read_config('config.yaml')\n",
    "\n",
    "map_level = 9\n",
    "contour_level = 6\n",
    "\n",
    "plot_options = {\n",
    "    'projection': 'cart',\n",
    "    'width': 12,\n",
    "    'dpi': 150,\n",
    "    'milkyway': True,\n",
    "    'milkyway_width': 15,\n",
    "    'ecliptic': True,\n",
    "    'ecliptic_width': 10\n",
    "}"
   ],
   "outputs": [],
   "execution_count": null
  },
  {
   "cell_type": "markdown",
   "metadata": {},
   "source": [
    "### Report Stats"
   ]
  },
  {
   "cell_type": "code",
   "metadata": {},
   "source": [
    "map_data = aomap.get_map_data(config, map_level, 'star-count')\n",
    "total_stars = np.sum(map_data.values)\n",
    "print(f'Total Stars: {total_stars:,.0f}')\n",
    "del map_data, total_stars"
   ],
   "outputs": [],
   "execution_count": null
  },
  {
   "cell_type": "markdown",
   "metadata": {},
   "source": [
    "### Plot Gaia Stellar Density"
   ]
  },
  {
   "cell_type": "code",
   "metadata": {},
   "source": [
    "aomap.plot_map(aomap.get_map_data(config, map_level, 'star-density'), galactic=True, width=15, dpi=150, grid=False, norm='symlog', cmap='gray')"
   ],
   "outputs": [],
   "execution_count": null
  },
  {
   "cell_type": "markdown",
   "metadata": {},
   "source": [
    "### Plot Gaia TGE Dust Extinction"
   ]
  },
  {
   "cell_type": "code",
   "execution_count": null,
   "metadata": {},
   "outputs": [],
   "source": [
    "aomap.plot_map(aomap.get_map_data(config, map_level, 'dust-extinction'), galactic=True, width=15, dpi=150, grid=False, norm='log', vmin=0.2, vmax=10.0, cmap='inferno')"
   ]
  },
  {
   "cell_type": "markdown",
   "metadata": {},
   "source": [
    "### Plot Other Maps"
   ]
  },
  {
   "cell_type": "code",
   "execution_count": null,
   "metadata": {},
   "outputs": [],
   "source": [
    "aomap.plot_map(aomap.get_map_data(config, map_level, 'star-density'), **plot_options)"
   ]
  },
  {
   "cell_type": "code",
   "execution_count": null,
   "metadata": {},
   "outputs": [],
   "source": [
    "aomap.plot_map(aomap.get_map_data(config, map_level, 'dust-extinction'), **plot_options)"
   ]
  },
  {
   "cell_type": "code",
   "execution_count": null,
   "metadata": {},
   "outputs": [],
   "source": [
    "aomap.plot_map(aomap.get_map_data(config, map_level, 'ao-friendly'),\n",
    "               contours=aomap.get_map_data(config, contour_level, 'dust-extinction'),\n",
    "               contour_levels=[config.max_dust_extinction], **plot_options)"
   ]
  },
  {
   "cell_type": "code",
   "execution_count": null,
   "metadata": {},
   "outputs": [],
   "source": [
    "aomap.plot_map(aomap.get_map_data(config, map_level, 'ngs-density-GNAO-Nominal'), **plot_options)"
   ]
  },
  {
   "cell_type": "code",
   "execution_count": null,
   "metadata": {},
   "outputs": [],
   "source": [
    "aomap.plot_map(aomap.get_map_data(config, map_level, 'ao-friendly-GNAO-Nominal'),\n",
    "               contours=aomap.get_map_data(config, contour_level, 'dust-extinction'),\n",
    "               contour_levels=[config.max_dust_extinction], **plot_options)"
   ]
  },
  {
   "cell_type": "code",
   "execution_count": null,
   "metadata": {},
   "outputs": [],
   "source": [
    "aomap.plot_map(aomap.get_map_data(config, map_level, 'ngs-density-GNAO-Optimal'), **plot_options)"
   ]
  },
  {
   "cell_type": "code",
   "execution_count": null,
   "metadata": {},
   "outputs": [],
   "source": [
    "aomap.plot_map(aomap.get_map_data(config, map_level, 'ao-friendly-GNAO-Optimal'),\n",
    "               contours=aomap.get_map_data(config, contour_level, 'dust-extinction'),\n",
    "               contour_levels=[config.max_dust_extinction], **plot_options)"
   ]
  }
 ],
 "metadata": {
  "kernelspec": {
   "display_name": ".venv",
   "language": "python",
   "name": "python3"
  },
  "language_info": {
   "codemirror_mode": {
    "name": "ipython",
    "version": 3
   },
   "file_extension": ".py",
   "mimetype": "text/x-python",
   "name": "python",
   "nbconvert_exporter": "python",
   "pygments_lexer": "ipython3",
   "version": "3.13.1"
  }
 },
 "nbformat": 4,
 "nbformat_minor": 2
}
