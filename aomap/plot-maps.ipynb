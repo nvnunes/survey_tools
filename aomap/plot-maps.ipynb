{
 "cells": [
  {
   "cell_type": "markdown",
   "metadata": {},
   "source": [
    "### Imports"
   ]
  },
  {
   "cell_type": "code",
   "execution_count": null,
   "metadata": {},
   "outputs": [],
   "source": [
    "%load_ext autoreload\n",
    "%autoreload 2\n",
    "\n",
    "import numpy as np\n",
    "from aomap import Maps"
   ]
  },
  {
   "cell_type": "markdown",
   "metadata": {},
   "source": [
    "### Options"
   ]
  },
  {
   "cell_type": "code",
   "execution_count": 40,
   "metadata": {},
   "outputs": [],
   "source": [
    "level=6\n",
    "projection='cart' # mollweide, cart, hammer, lambert, aitoff\n",
    "width=8\n",
    "xsize=width*150\n",
    "norm='symlog2'\n",
    "cmap='gray'"
   ]
  },
  {
   "cell_type": "markdown",
   "metadata": {},
   "source": [
    "### Plot Maps"
   ]
  },
  {
   "cell_type": "code",
   "execution_count": null,
   "metadata": {},
   "outputs": [],
   "source": [
    "maps = Maps.load('config.yaml', level=level)\n",
    "\n",
    "total_stars = np.sum(maps.get_map_values('star-count'))\n",
    "print(f'Total Stars: {total_stars:,.0f}')\n",
    "\n",
    "maps.plot(key='star-count', coordsys='galactic', projection=projection, rotation=0, width=width, xsize=xsize, norm=norm, cmap=cmap)\n",
    "maps.plot(key='star-count', coordsys='celestial', projection=projection, rotation=0, width=width, xsize=xsize, norm=norm, cmap=cmap)\n",
    "maps.plot(key='stellar-density', coordsys='galactic', projection=projection, rotation=0, width=width, xsize=xsize, norm=norm, cmap=cmap, grid=False)\n",
    "maps.plot(key='stellar-density', coordsys='celestial', projection=projection, rotation=0, width=width, xsize=xsize, norm=norm, cmap=cmap)\n",
    "\n",
    "maps.close()"
   ]
  }
 ],
 "metadata": {
  "kernelspec": {
   "display_name": ".venv",
   "language": "python",
   "name": "python3"
  },
  "language_info": {
   "codemirror_mode": {
    "name": "ipython",
    "version": 3
   },
   "file_extension": ".py",
   "mimetype": "text/x-python",
   "name": "python",
   "nbconvert_exporter": "python",
   "pygments_lexer": "ipython3",
   "version": "3.13.1"
  }
 },
 "nbformat": 4,
 "nbformat_minor": 2
}
