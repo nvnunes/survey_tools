{
 "cells": [
  {
   "cell_type": "markdown",
   "metadata": {},
   "source": [
    "### Imports"
   ]
  },
  {
   "cell_type": "code",
   "execution_count": null,
   "metadata": {},
   "outputs": [],
   "source": [
    "%load_ext autoreload\n",
    "%autoreload 2\n",
    "\n",
    "import numpy as np\n",
    "import aomap"
   ]
  },
  {
   "cell_type": "markdown",
   "metadata": {},
   "source": [
    "### Options"
   ]
  },
  {
   "cell_type": "code",
   "execution_count": 40,
   "metadata": {},
   "outputs": [],
   "source": [
    "level=9\n",
    "projection='mollweide' # cart, mollweide, hammer, lambert, aitoff\n",
    "width=15\n",
    "xsize=width*150\n",
    "norm='symlog2'\n",
    "cmap='gray'"
   ]
  },
  {
   "cell_type": "markdown",
   "metadata": {},
   "source": [
    "### Plot Maps"
   ]
  },
  {
   "cell_type": "code",
   "execution_count": null,
   "metadata": {},
   "outputs": [],
   "source": [
    "config = aomap.read_config('config.yaml')\n",
    "\n",
    "map_data = aomap.get_map_data(config, level, 'star-count')\n",
    "aomap.save_map(config, map_data, overwrite=True)\n",
    "total_stars = np.sum(map_data.values)\n",
    "print(f'Total Stars: {total_stars:,.0f}')\n",
    "aomap.plot_map(config, map_data, coordsys='galactic', projection=projection, rotation=0, width=width, xsize=xsize, norm=norm, cmap=cmap)\n",
    "aomap.plot_map(config, map_data, coordsys='celestial', projection=projection, rotation=0, width=width, xsize=xsize, norm=norm, cmap=cmap)\n",
    "\n",
    "map_data = aomap.get_map_data(config, level, 'star-density')\n",
    "aomap.save_map(config, map_data, overwrite=True)\n",
    "aomap.plot_map(config, map_data, coordsys='galactic', projection=projection, rotation=0, width=width, xsize=xsize, norm=norm, cmap=cmap, grid=False)\n",
    "aomap.plot_map(config, map_data, coordsys='celestial', projection=projection, rotation=0, width=width, xsize=xsize, norm=norm, cmap=cmap)"
   ]
  }
 ],
 "metadata": {
  "kernelspec": {
   "display_name": ".venv",
   "language": "python",
   "name": "python3"
  },
  "language_info": {
   "codemirror_mode": {
    "name": "ipython",
    "version": 3
   },
   "file_extension": ".py",
   "mimetype": "text/x-python",
   "name": "python",
   "nbconvert_exporter": "python",
   "pygments_lexer": "ipython3",
   "version": "3.13.1"
  }
 },
 "nbformat": 4,
 "nbformat_minor": 2
}
