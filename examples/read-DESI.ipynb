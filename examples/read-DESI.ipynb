{
 "cells": [
  {
   "cell_type": "markdown",
   "metadata": {},
   "source": [
    "### Imports"
   ]
  },
  {
   "cell_type": "code",
   "execution_count": null,
   "metadata": {},
   "outputs": [],
   "source": [
    "%load_ext autoreload\n",
    "%autoreload 2\n",
    "\n",
    "import numpy as np\n",
    "from astropy.io import fits\n",
    "from survey_tools import catalog\n",
    "from survey_tools.utility import plot\n",
    "\n",
    "class StructType:\n",
    "    pass"
   ]
  },
  {
   "cell_type": "markdown",
   "metadata": {},
   "source": [
    "### Options"
   ]
  },
  {
   "cell_type": "code",
   "execution_count": null,
   "metadata": {},
   "outputs": [],
   "source": [
    "field = 'COSMOS'\n",
    "redshift_ranges = np.array([[0.7,1.1],[1.1,1.8],[1.8,2.7]])\n",
    "min_line_snr = 2.0\n",
    "\n",
    "match field:\n",
    "    case 'COSMOS':\n",
    "        ra_min = 149.37302\n",
    "        ra_max = 150.77901\n",
    "        dec_min = 1.6040021\n",
    "        dec_max = 2.8099799\n",
    "\n",
    "plot_mode = 'default'\n",
    "plot_colours = plot.get_plot_colours(plot_mode)"
   ]
  },
  {
   "cell_type": "markdown",
   "metadata": {},
   "source": [
    "### Read Catalog"
   ]
  },
  {
   "cell_type": "code",
   "execution_count": null,
   "metadata": {},
   "outputs": [],
   "source": [
    "sources_hdul = fits.open(f\"{catalog.get_default_data_path()}/catalogs/DESI/edr_galaxy_stellarmass_lineinfo_v1.0.fits\")\n",
    "DESI_data = sources_hdul[1].data\n",
    "\n",
    "num_galaxies = len(DESI_data)\n",
    "print(f\"Num of Galaxies: {num_galaxies:,}\")"
   ]
  },
  {
   "cell_type": "markdown",
   "metadata": {},
   "source": [
    "### Create Filters"
   ]
  },
  {
   "cell_type": "code",
   "execution_count": null,
   "metadata": {},
   "outputs": [],
   "source": [
    "zbin = np.zeros((num_galaxies), dtype=np.int_)\n",
    "for i in np.arange(len(redshift_ranges)):\n",
    "    zbin[(DESI_data['Z'] >= redshift_ranges[i,0]) & (DESI_data['Z'] <  redshift_ranges[i,1])] = i + 1\n",
    "\n",
    "filters = StructType()\n",
    "\n",
    "filters.usable = DESI_data['Z'] > 0.0\n",
    "num_usable = np.sum(filters.usable)\n",
    "\n",
    "filters.field = filters.usable & (DESI_data['TARGET_RA'] >= ra_min) & (DESI_data['TARGET_RA'] <= ra_max) & (DESI_data['TARGET_DEC'] >= dec_min) & (DESI_data['TARGET_DEC'] <= dec_max)\n",
    "num_field = np.sum(filters.field)\n",
    "\n",
    "filters.redshift = filters.field & (zbin > 0)\n",
    "num_redshift = np.sum(filters.redshift)\n",
    "\n",
    "has_OIIa = filters.redshift & (DESI_data['OII3726_FLUX'] > 0) & (DESI_data['OII3726_FLUXERR'] > 0)\n",
    "snr_OIIa = DESI_data['OII3726_FLUX'][has_OIIa] / DESI_data['OII3726_FLUXERR'][has_OIIa]\n",
    "good_snr_OIIa = snr_OIIa > min_line_snr\n",
    "\n",
    "has_OIIb = filters.redshift & (DESI_data['OII3729_FLUX'] > 0) & (DESI_data['OII3729_FLUXERR'] > 0)\n",
    "snr_OIIb = DESI_data['OII3729_FLUX'][has_OIIb] / DESI_data['OII3729_FLUXERR'][has_OIIb]\n",
    "good_snr_OIIb = snr_OIIb > min_line_snr\n",
    "\n",
    "has_Hb = filters.redshift & (DESI_data['HBETA_FLUX'] > 0) & (DESI_data['HBETA_FLUXERR'] > 0)\n",
    "snr_Hb = DESI_data['HBETA_FLUX'][has_Hb] / DESI_data['HBETA_FLUXERR'][has_Hb]\n",
    "good_snr_Hb = snr_Hb > min_line_snr\n",
    "\n",
    "has_OIIIa = filters.redshift & (DESI_data['OIII4959_FLUX'] > 0) & (DESI_data['OIII4959_FLUXERR'] > 0)\n",
    "snr_OIIIa = DESI_data['OIII4959_FLUX'][has_OIIIa] / DESI_data['OIII4959_FLUXERR'][has_OIIIa]\n",
    "good_snr_OIIIa = snr_OIIIa > min_line_snr\n",
    "\n",
    "has_OIIIb = filters.redshift & (DESI_data['OIII5007_FLUX'] > 0) & (DESI_data['OIII5007_FLUXERR'] > 0)\n",
    "snr_OIIIb = DESI_data['OIII5007_FLUX'][has_OIIIb] / DESI_data['OIII5007_FLUXERR'][has_OIIIb]\n",
    "good_snr_OIIIb = snr_OIIIb > min_line_snr\n",
    "\n",
    "has_NIIa = filters.redshift & (DESI_data['NII6548_FLUX'] > 0) & (DESI_data['NII6548_FLUXERR'] > 0)\n",
    "snr_NIIa = DESI_data['NII6548_FLUX'][has_NIIa] / DESI_data['NII6548_FLUXERR'][has_NIIa]\n",
    "good_snr_NIIa = snr_NIIa > min_line_snr\n",
    "\n",
    "has_Ha = filters.redshift & (DESI_data['HALPHA_FLUX'] > 0) & (DESI_data['HALPHA_FLUXERR'] > 0)\n",
    "snr_Ha = DESI_data['HALPHA_FLUX'][has_Ha] / DESI_data['HALPHA_FLUXERR'][has_Ha]\n",
    "good_snr_Ha = snr_Ha > min_line_snr\n",
    "\n",
    "has_NIIb = filters.redshift & (DESI_data['NII6583_FLUX'] > 0) & (DESI_data['NII6583_FLUXERR'] > 0)\n",
    "snr_NIIb = DESI_data['NII6583_FLUX'][has_NIIb] / DESI_data['NII6583_FLUXERR'][has_NIIb]\n",
    "good_snr_NIIb = snr_NIIb > min_line_snr\n",
    "\n",
    "has_SIIa = filters.redshift & (DESI_data['SII6716_FLUX'] > 0) & (DESI_data['SII6716_FLUXERR'] > 0)\n",
    "snr_SIIa = DESI_data['SII6716_FLUX'][has_SIIa] / DESI_data['SII6716_FLUXERR'][has_SIIa]\n",
    "good_snr_SIIa = snr_SIIa > min_line_snr\n",
    "\n",
    "has_SIIb = filters.redshift & (DESI_data['SII6731_FLUX'] > 0) & (DESI_data['SII6731_FLUXERR'] > 0)\n",
    "snr_SIIb = DESI_data['SII6731_FLUX'][has_SIIb] / DESI_data['SII6731_FLUXERR'][has_SIIb]\n",
    "good_snr_SIIb = snr_SIIb > min_line_snr"
   ]
  },
  {
   "cell_type": "markdown",
   "metadata": {},
   "source": [
    "### Galaxies"
   ]
  },
  {
   "cell_type": "code",
   "execution_count": null,
   "metadata": {},
   "outputs": [],
   "source": [
    "print(f\"Num Usable Galaxies: {num_usable}\")\n",
    "print(f\"Num Usable Galaxies in Field: {num_field}\")\n",
    "print(f\"Num Usable Galaxies in Field and Redshift Range: {num_redshift}\")\n",
    "\n",
    "_, ax = plot.create_plot(plot_mode, title='DESI EDR Galaxies')\n",
    "values, bins, _ = ax.hist(DESI_data['Z'][filters.usable], int(np.sqrt(num_galaxies)), label=\"Usable\", rwidth=0.95, color=plot_colours.colour2)\n",
    "ax.hist(DESI_data['Z'][filters.field], int(np.sqrt(num_field)), label=field, rwidth=0.95, color=plot_colours.colour4)\n",
    "ax.hist(DESI_data['Z'][filters.redshift], int(np.sqrt(num_redshift)), rwidth=0.95, label=\"Redshift\", color=plot_colours.colour6)\n",
    "plot.format_hist(ax, values=values, bins=bins, xtickspacing=0.5, ytickspacing=100)\n",
    "ax.set_xlabel('$z$')\n",
    "ax.set_ylabel('Galaxies')\n",
    "#ax.set_xlim([params.min_galaxy_z, params.max_galaxy_z])\n",
    "ax.legend(loc='upper center', markerscale=2.0, ncol=6)\n",
    "\n",
    "_, ax = plot.create_plot(plot_mode, title=f\"DESI EDR Galaxies\")\n",
    "for i in np.arange(np.size(redshift_ranges, axis=0)):\n",
    "    redshift_filter = filters.field & (zbin == i+1) & (DESI_data['SED_MASS'] > 0) & (DESI_data['SED_SFR'] > 0)\n",
    "    ax.scatter(np.log10(DESI_data['SED_MASS'][redshift_filter]), np.log10(DESI_data['SED_SFR'][redshift_filter]), s=15, marker='o', edgecolors='black', facecolors=plot_colours.colours[(i+1)*2], alpha=0.75, linewidths=0.5, label=f\"${redshift_ranges[i,0]} \\\\geq z \\\\leq {redshift_ranges[i,1]}$\")\n",
    "ax.set_xlabel('Mass [log $M_*/M_\\\\odot$]')\n",
    "ax.set_ylabel('SFR [log SFR/$M_\\\\odot$/year]')\n",
    "ax.legend(loc='lower right')\n",
    "\n",
    "_, ax = plot.create_plot(plot_mode, title=f\"DESI EDR Redshift Errors\")\n",
    "ax.scatter(DESI_data['Z'][filters.redshift], DESI_data['ZERR'][filters.redshift], s=5, marker='o', edgecolors='none', facecolors=plot_colours.colour6)\n",
    "ax.set_xlabel('$z$')\n",
    "ax.set_ylabel('$\\\\sigma_z$')\n",
    "\n",
    "_, ax = plot.create_plot(plot_mode, title=f\"DESI EDR Redshift Errors\")\n",
    "dz = np.mean(DESI_data['ZERR'][filters.redshift])\n",
    "print(f\"Mean Redshift Error: {dz:.5f}\")\n",
    "values, bins, _ = ax.hist(DESI_data['ZERR'][filters.redshift], bins=50, rwidth=0.95, color=plot_colours.colour6)\n",
    "plot.format_hist(ax, values=values, bins=bins, xtickspacing=0.001, ytickspacing=100)\n",
    "ax.axvline(dz, color='red', linestyle='-', linewidth=1)\n",
    "ax.set_xlim([0, 0.0004])\n",
    "ax.set_xlabel('$\\\\sigma_z$/(1+z)')\n",
    "ax.set_ylabel('Galaxies')\n",
    "ax.text(0.95, 0.9, f\"Mean: {dz:.5f}\", transform=ax.transAxes, ha='right', bbox=dict(facecolor='white', alpha=0.5))\n",
    "\n",
    "del ax, values, bins, redshift_filter"
   ]
  },
  {
   "cell_type": "markdown",
   "metadata": {},
   "source": [
    "### Emission Lines"
   ]
  },
  {
   "cell_type": "code",
   "execution_count": null,
   "metadata": {},
   "outputs": [],
   "source": [
    "print('Emission Line Measurements:')\n",
    "print(f\"  OIIa: {np.sum(good_snr_OIIa)}/{len(snr_OIIa)}\")\n",
    "print(f\"  OIIb: {np.sum(good_snr_OIIb)}/{len(snr_OIIb)}\")\n",
    "print(f\"    Hb: {np.sum(good_snr_Hb)}/{len(snr_Hb)}\")\n",
    "print(f\" OIIIa: {np.sum(good_snr_OIIIa)}/{len(snr_OIIIa)}\")\n",
    "print(f\" OIIIb: {np.sum(good_snr_OIIIb)}/{len(snr_OIIIb)}\")\n",
    "print(f\"  NIIa: {np.sum(good_snr_NIIa)}/{len(snr_NIIa)}\")\n",
    "print(f\"    Ha: {np.sum(good_snr_Ha)}/{len(snr_Ha)}\")\n",
    "print(f\"  NIIb: {np.sum(good_snr_NIIb)}/{len(snr_NIIb)}\")\n",
    "print(f\"  SIIa: {np.sum(good_snr_SIIa)}/{len(snr_SIIa)}\")\n",
    "print(f\"  SIIb: {np.sum(good_snr_SIIb)}/{len(snr_SIIb)}\")\n",
    "print(f\"   Any: {np.sum(has_OIIa | has_OIIb | has_Hb | has_OIIIa | has_OIIIb | has_NIIa | has_Ha | has_NIIb | has_SIIa | has_SIIb)}\")\n",
    "\n",
    "_, ax = plot.create_plot(plot_mode, title=f\"DESI Emission Lines\")\n",
    "ax.scatter(DESI_data['Z'][has_OIIa][good_snr_OIIa], snr_OIIa[good_snr_OIIa], label=\"OIIa\", s=5, marker='o', edgecolors='none', facecolors=plot_colours.colour7)\n",
    "ax.scatter(DESI_data['Z'][has_OIIb][good_snr_OIIb], snr_OIIb[good_snr_OIIb], label=\"OIIb\", s=5, marker='o', edgecolors='none', facecolors=plot_colours.colour6)\n",
    "ax.scatter(DESI_data['Z'][has_Hb][good_snr_Hb], snr_Hb[good_snr_Hb], label=\"Hb\", s=5, marker='o', edgecolors='none', facecolors=plot_colours.colour5)\n",
    "ax.scatter(DESI_data['Z'][has_OIIIa][good_snr_OIIIa], snr_OIIIa[good_snr_OIIIa], label=\"OIIIa\", s=5, marker='o', edgecolors='none', facecolors=plot_colours.colour4)\n",
    "ax.scatter(DESI_data['Z'][has_OIIIb][good_snr_OIIIb], snr_OIIIb[good_snr_OIIIb], label=\"OIIIb\", s=5, marker='o', edgecolors='none', facecolors=plot_colours.colour3)\n",
    "ax.set_xlabel('$z$')\n",
    "ax.set_ylabel('SNR')\n",
    "ax.legend(loc='upper right')\n",
    "\n",
    "del ax"
   ]
  }
 ],
 "metadata": {
  "kernelspec": {
   "display_name": ".venv",
   "language": "python",
   "name": "python3"
  },
  "language_info": {
   "codemirror_mode": {
    "name": "ipython",
    "version": 3
   },
   "file_extension": ".py",
   "mimetype": "text/x-python",
   "name": "python",
   "nbconvert_exporter": "python",
   "pygments_lexer": "ipython3",
   "version": "3.13.1"
  }
 },
 "nbformat": 4,
 "nbformat_minor": 2
}
