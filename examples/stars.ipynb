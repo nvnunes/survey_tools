{
 "cells": [
  {
   "cell_type": "markdown",
   "metadata": {},
   "source": [
    "### Imports"
   ]
  },
  {
   "cell_type": "code",
   "execution_count": null,
   "metadata": {},
   "outputs": [],
   "source": [
    "%load_ext autoreload\n",
    "%autoreload 2\n",
    "\n",
    "import warnings\n",
    "import numpy as np\n",
    "from tabulate import tabulate\n",
    "from survey_tools import asterism, gaia"
   ]
  },
  {
   "cell_type": "markdown",
   "metadata": {},
   "source": [
    "### Options"
   ]
  },
  {
   "cell_type": "code",
   "execution_count": null,
   "metadata": {},
   "outputs": [],
   "source": [
    "min_ra = 149.75\n",
    "max_ra = 150.25\n",
    "min_dec = -0.75\n",
    "max_dec =  0.25"
   ]
  },
  {
   "cell_type": "markdown",
   "metadata": {},
   "source": [
    "### Load Gaia Stars"
   ]
  },
  {
   "cell_type": "code",
   "execution_count": null,
   "metadata": {},
   "outputs": [],
   "source": [
    "gaia_data = gaia.get_stars(min_ra, max_ra, min_dec, max_dec)\n",
    "\n",
    "num_stars = len(gaia_data)\n",
    "print(f\"Stars: {num_stars}\")"
   ]
  },
  {
   "cell_type": "code",
   "execution_count": null,
   "metadata": {},
   "outputs": [],
   "source": [
    "warnings.simplefilter('ignore', UserWarning)\n",
    "display(tabulate(gaia_data[0:10], headers=gaia_data.colnames, tablefmt='html'))\n",
    "warnings.resetwarnings()"
   ]
  },
  {
   "cell_type": "markdown",
   "metadata": {},
   "source": [
    "### Find Asterisms"
   ]
  },
  {
   "cell_type": "code",
   "execution_count": null,
   "metadata": {},
   "outputs": [],
   "source": [
    "asterisms = asterism.find_asterisms(\n",
    "    gaia_data.filled(),\n",
    "    id_field = 'gaia_id',\n",
    "    ra_field = 'gaia_ra',\n",
    "    dec_field = 'gaia_dec',\n",
    "    mag_field = 'R_mag',\n",
    "    min_stars = 1,\n",
    "    max_stars = 3,\n",
    "    min_separation = 10, # arcsec\n",
    "    max_separation = 60  # arcsec\n",
    ")\n",
    "\n",
    "num_asterisms = len(asterisms)\n",
    "print(f\"Asterisms: {num_asterisms}\")"
   ]
  },
  {
   "cell_type": "code",
   "execution_count": null,
   "metadata": {},
   "outputs": [],
   "source": [
    "display(tabulate(asterisms[0:10], headers=asterisms.colnames, tablefmt='html'))"
   ]
  }
 ],
 "metadata": {
  "kernelspec": {
   "display_name": ".venv",
   "language": "python",
   "name": "python3"
  },
  "language_info": {
   "codemirror_mode": {
    "name": "ipython",
    "version": 3
   },
   "file_extension": ".py",
   "mimetype": "text/x-python",
   "name": "python",
   "nbconvert_exporter": "python",
   "pygments_lexer": "ipython3",
   "version": "3.13.1"
  }
 },
 "nbformat": 4,
 "nbformat_minor": 2
}
