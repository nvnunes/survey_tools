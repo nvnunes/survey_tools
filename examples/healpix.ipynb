{
 "cells": [
  {
   "cell_type": "markdown",
   "metadata": {},
   "source": [
    "### Imports"
   ]
  },
  {
   "cell_type": "code",
   "execution_count": null,
   "metadata": {},
   "outputs": [],
   "source": [
    "%load_ext autoreload\n",
    "%autoreload 2\n",
    "\n",
    "import astropy.units as u\n",
    "import survey_tools.healpix as healpix\n",
    "from tabulate import tabulate"
   ]
  },
  {
   "cell_type": "markdown",
   "metadata": {},
   "source": [
    "### Options"
   ]
  },
  {
   "cell_type": "code",
   "execution_count": 261,
   "metadata": {},
   "outputs": [],
   "source": [
    "outer_level = 6\n",
    "inner_level = 14\n",
    "max_rows = 20"
   ]
  },
  {
   "cell_type": "markdown",
   "metadata": {},
   "source": [
    "### Iterate over HEALpix"
   ]
  },
  {
   "cell_type": "code",
   "execution_count": null,
   "metadata": {},
   "outputs": [],
   "source": [
    "(outer_pixels, outer_resolution) = healpix.get_pixels(outer_level)\n",
    "print(f\"Outer HEALpix Level: {outer_level}\")\n",
    "print(f\"Num Outer Pixels: {len(outer_pixels)}\")\n",
    "print(f\"Outer Pixel Resolution: {outer_resolution.to(u.arcmin):.2f}\")"
   ]
  },
  {
   "cell_type": "code",
   "execution_count": null,
   "metadata": {},
   "outputs": [],
   "source": [
    "display(tabulate(outer_pixels[0:min(max_rows,len(outer_pixels))], headers=outer_pixels.colnames, tablefmt='html'))"
   ]
  },
  {
   "cell_type": "markdown",
   "metadata": {},
   "source": [
    "### Find Nested HEALPix"
   ]
  },
  {
   "cell_type": "code",
   "execution_count": null,
   "metadata": {},
   "outputs": [],
   "source": [
    "outer_pix = len(outer_pixels)//2 # select an outer pixel\n",
    "outer_skycoord = healpix.get_skycoord(outer_level, outer_pix)\n",
    "outer_boundaries = healpix.get_boundaries(outer_level, outer_pix)\n",
    "print(f\"Selected Outer Pixel: {outer_pix}\")\n",
    "print(f\"  Centered at (ra,dec):\")\n",
    "print(f\"    ({outer_skycoord.ra:.4f}, {outer_skycoord.dec:.4f})\")\n",
    "print(f\"  Bounded by (ra,dec):\")\n",
    "for coord in outer_boundaries:\n",
    "    print(f\"    ({coord.ra:.4f}, {coord.dec:.4f})\")\n",
    "\n",
    "print(f\"\\nInner HEALpix Level: {inner_level}\")\n",
    "\n",
    "(inner_pixels, inner_resolution) = healpix.get_subpixels(outer_level, outer_pix, inner_level, sort=True)\n",
    "print(f\"Num Inner Pixels within Outer Pixel: {len(inner_pixels)}\")\n",
    "print(f\"Inner Pixel Resolution: {inner_resolution.to(u.arcsec):.2f}\")"
   ]
  },
  {
   "cell_type": "code",
   "execution_count": null,
   "metadata": {},
   "outputs": [],
   "source": [
    "display(tabulate(inner_pixels[0:min(max_rows, len(inner_pixels))], headers=inner_pixels.colnames, tablefmt='html'))"
   ]
  }
 ],
 "metadata": {
  "kernelspec": {
   "display_name": ".venv",
   "language": "python",
   "name": "python3"
  },
  "language_info": {
   "codemirror_mode": {
    "name": "ipython",
    "version": 3
   },
   "file_extension": ".py",
   "mimetype": "text/x-python",
   "name": "python",
   "nbconvert_exporter": "python",
   "pygments_lexer": "ipython3",
   "version": "3.13.1"
  }
 },
 "nbformat": 4,
 "nbformat_minor": 2
}
