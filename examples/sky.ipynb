{
 "cells": [
  {
   "cell_type": "markdown",
   "metadata": {},
   "source": [
    "### Imports"
   ]
  },
  {
   "cell_type": "code",
   "execution_count": null,
   "metadata": {},
   "outputs": [],
   "source": [
    "%load_ext autoreload\n",
    "%autoreload 2\n",
    "\n",
    "from astropy.constants import si as constants\n",
    "import matplotlib.pyplot as plt\n",
    "import numpy as np\n",
    "from scipy.stats import norm \n",
    "from survey_tools import sky\n",
    "from survey_tools.utility import plot"
   ]
  },
  {
   "cell_type": "markdown",
   "metadata": {},
   "source": [
    "### Parameters"
   ]
  },
  {
   "cell_type": "code",
   "execution_count": null,
   "metadata": {},
   "outputs": [],
   "source": [
    "instrument        = 'ERIS'\n",
    "location          = 'Paranal' # MaunaKea, Paranal\n",
    "resolving_power   = 5000\n",
    "\n",
    "target_redshift   = 0.8732\n",
    "target_radius     = 1.0    # arcsec\n",
    "target_flux_Ha    = 50e-17 # erg/s/cm^2\n",
    "target_velocity_dispersion = 200 # km/s\n",
    "\n",
    "airmass           = 2.0\n",
    "min_photon_rate   = 10   # ph/s/arcsec^2/nm/m^2\n",
    "trans_min         = 0.50 # percent\n",
    "trans_multiple    = 0.5  # FWHM of Ha\n",
    "avoid_multiple    = 0.5  # FWHM of Ha\n",
    "wavelength_range  = np.array([[10900, 14200], [14500, 18700], [19300,24800]]) # angstrom\n",
    "flux_NII_Ha_ratio = 0.10"
   ]
  },
  {
   "cell_type": "markdown",
   "metadata": {},
   "source": [
    "### Load Sky Transmission"
   ]
  },
  {
   "cell_type": "code",
   "execution_count": null,
   "metadata": {},
   "outputs": [],
   "source": [
    "sky_transmission_data = sky.load_transmission_data(location, airmass)\n",
    "print(f\"Number of Sky Transmission points: {len(sky_transmission_data)}, dLambda = {sky_transmission_data['wavelength'][1]-sky_transmission_data['wavelength'][0]:.3f} A\")"
   ]
  },
  {
   "cell_type": "markdown",
   "metadata": {},
   "source": [
    "### Load Sky Background"
   ]
  },
  {
   "cell_type": "code",
   "execution_count": null,
   "metadata": {},
   "outputs": [],
   "source": [
    "sky_background_data = sky.load_background_data(location, airmass)\n",
    "print(f\"Number of Sky Background points: {len(sky_background_data)}, dLambda = {sky_background_data['wavelength'][1]-sky_background_data['wavelength'][0]:.3f} A\")"
   ]
  },
  {
   "cell_type": "markdown",
   "metadata": {},
   "source": [
    "### Export Sky Lines"
   ]
  },
  {
   "cell_type": "code",
   "execution_count": 9,
   "metadata": {},
   "outputs": [],
   "source": [
    "for i in range(len(wavelength_range)):\n",
    "    sky_background_data_low_res = sky.get_low_res_background(sky_background_data, np.array(wavelength_range[i]), resolving_power)\n",
    "    sky_lines = sky.find_sky_lines(sky_background_data_low_res, 10)\n",
    "    sky_lines.write(f\"../output/skylines-{location}-{instrument}-R{resolving_power}-{wavelength_range[i][0]}-{wavelength_range[i][1]}.txt\", format='ascii', overwrite=True)"
   ]
  },
  {
   "cell_type": "markdown",
   "metadata": {},
   "source": [
    "### Compute Target Quantities"
   ]
  },
  {
   "cell_type": "code",
   "execution_count": null,
   "metadata": {},
   "outputs": [],
   "source": [
    "wavelength_Ha = 6564.610 * (1 + target_redshift)\n",
    "wavelength_Ha_atm = sky.get_vacuum_to_air_wavelength(wavelength_Ha)\n",
    "wavelength_NIIa = 6549.89  * (1 + target_redshift)\n",
    "wavelength_NIIa_atm = sky.get_vacuum_to_air_wavelength(wavelength_NIIa)\n",
    "wavelength_NIIb = 6585.27  * (1 + target_redshift)\n",
    "wavelength_NIIb_atm = sky.get_vacuum_to_air_wavelength(wavelength_NIIb)\n",
    "\n",
    "SB_Ha = target_flux_Ha/(np.pi*target_radius**2) # erg/s/cm^2/arcsec^2\n",
    "FWHM_Ha = wavelength_Ha_atm * target_velocity_dispersion / constants.c.to('km/s').value\n",
    "\n",
    "dwavelength    = wavelength_Ha_atm / resolving_power\n",
    "dwavelength_Ha = np.sqrt(dwavelength**2 + FWHM_Ha**2)\n",
    "sigma_Ha   = dwavelength_Ha / 2.35482 # FWHM -> sigma\n",
    "\n",
    "ph_energy  = 6.626e-27 * 2.998e10 / (wavelength_Ha_atm/1e8) # erg\n",
    "ph_rate_Ha = SB_Ha / ph_energy / (FWHM_Ha/10) * 100**2  # ph/s/arcsec^2/nm/m^2\n",
    "\n",
    "print(f\"    Redshift: {target_redshift:.4f}\")\n",
    "print(f\"Ha in Vacuum: {wavelength_Ha/10:.2f} nm\")\n",
    "print(f\"         Atm: {wavelength_Ha_atm/10:.2f} nm\")\n",
    "print(f\"        FWHM: {FWHM_Ha/10:.2f} nm [{target_velocity_dispersion:.0f} km/s]\")\n",
    "print(f\"           R: {resolving_power:.0f} [dLambda = {dwavelength/10:.1f} nm]\")\n",
    "print(f\"   Line Flux: {target_flux_Ha:.1e} erg/s/cm^2\")\n",
    "print(f\"          SB: {SB_Ha:.1e} erg/s/cm^2/arcsec^2  [{SB_Ha/1000:.1e} W/m^2/arcsec^2    ]\")\n",
    "print(f\"     Ph Rate: {ph_rate_Ha:.1f}     ph/s/arcsec^2/nm/m^2 [{ph_rate_Ha*ph_energy*1e-7*1e9:.1e} J/s/m^2/m/arcsec^2]\")\n",
    "\n",
    "sky_rate = sky.get_background(sky_background_data, wavelength_Ha_atm, [wavelength_Ha_atm - FWHM_Ha*10, wavelength_Ha_atm + FWHM_Ha*10], resolving_power)\n",
    "print(f\" Sky Ph Rate: {sky_rate:.1f}     ph/s/arcsec^2/nm/m^2 [{sky_rate*ph_energy*1e-7*1e9:.1e} J/s/m^2/m/arcsec^2]\")\n",
    "\n",
    "trans_Ha = sky.get_mean_transmission(sky_transmission_data, wavelength_Ha_atm, target_velocity_dispersion, resolving_power, trans_multiple)\n",
    "print(f\"  Mean Trans: {trans_Ha*100:.1f}%\")\n",
    "\n",
    "del dwavelength, SB_Ha, FWHM_Ha, ph_energy, sky_rate, trans_Ha"
   ]
  },
  {
   "cell_type": "markdown",
   "metadata": {},
   "source": [
    "### Compare to ERIS ETC\n",
    "\n",
    "Source:\n",
    "  Flux     = 10e-17 erg/s/cm^2\n",
    "  Diameter = 1 arcsec\n",
    "  SB       = 6.4e-17 erg/s/cm^2/arcsec^2 = 6.4e-20 erg/s/cm^2/arcsec^2\n",
    "\n",
    "Configure ETC as follows:\n",
    "* Extended Source Infinite, Emission Line at Sky Line Wavelength, FWHM=0.82nm (200km/s), Flux = 6.4e-20 W/m2/arcsec2\n",
    "* Airmass=1.9, FLI=0.5, pwv=30.00 (worst case permitted for LGS-AO)\n",
    "* LGS AO, 50% seeing, NGS 12 0\" (default), Extract 3px\n",
    "* IFS, J_low, 100mas\n",
    "* DIT = 300s x NDIT = 36 = 3h exposure\n",
    "\n",
    "Use sky background for airmass=2\n",
    "\n",
    "Test cases (Target = ETC 7.3e-11 J/s/m^2/m/arcsec^2):\n",
    "1. No Skyline at 1253.76nm [MK:  0.8 ph/s/arcsec^2/nm/m^2, ETC: 7.2e-11 J/s/m^2/m/arcsec^2, 95% atm trans]: S/N=3.79\n",
    "2.    Skyline at 1221.12nm [MK:  5.8 ph/s/arcsec^2/nm/m^2, ETC: 8.3e-10 J/s/m^2/m/arcsec^2, 96% atm trans]: S/N=3.33 -12%\n",
    "3.    Skyline at 1250.96nm [MK: 12.5 ph/s/arcsec^2/nm/m^2, ETC: 2.7e-09 J/s/m^2/m/arcsec^2, 93% atm trans]: S/N=3.03 -20%\n",
    "4.    Skyline at 1248.24nm [MK: 27.0 ph/s/arcsec^2/nm/m^2, ETC: 4.1e-09 J/s/m^2/m/arcsec^2, 96% atm trans]: S/N=2.67 -28%\n",
    "\n",
    "To limit drop to <20%, place threshold between #2 and #3 so 10 ph/s/arcsec^2/nm/m^2"
   ]
  },
  {
   "cell_type": "code",
   "execution_count": null,
   "metadata": {},
   "outputs": [],
   "source": [
    "compare_wavelength  = 1253.76 # nm\n",
    "compare_dwavelength = 20.0    # nm\n",
    "sky_background_data_low_res = sky.get_low_res_background(sky_background_data, np.array([compare_wavelength-compare_dwavelength/2, compare_wavelength+compare_dwavelength/2])*10, resolving_power)\n",
    "mid_idx = len(sky_background_data_low_res) // 2\n",
    "\n",
    "_, ax = plot.create_plot(title=f\"{location} IR Sky Background\")\n",
    "ax.plot(sky_background_data_low_res['wavelength']/10, sky_background_data_low_res['emission'], linestyle='-', color='b', linewidth=1)\n",
    "ax.set_xlabel('Wavelength [$nm$]')\n",
    "ax.set_ylabel('Emission [$ph/s/arcsec^2/nm/m^2$]')\n",
    "ax.axvline(sky_background_data_low_res['wavelength'][mid_idx]/10, linestyle=':', linewidth=1, color='k')\n",
    "\n",
    "print(f\"Sky Background at {sky_background_data_low_res['wavelength'][mid_idx]/10:.2f} nm = {sky_background_data_low_res['emission'][mid_idx]:.1f} ph/s/arcsec^2/nm/m^2\")\n",
    "\n",
    "del compare_wavelength, compare_dwavelength, sky_background_data_low_res, mid_idx, ax"
   ]
  },
  {
   "cell_type": "markdown",
   "metadata": {},
   "source": [
    "### Plot Sky Tranmission"
   ]
  },
  {
   "cell_type": "code",
   "execution_count": null,
   "metadata": {},
   "outputs": [],
   "source": [
    "if np.ndim(wavelength_range) == 1:\n",
    "    min_wavelength = wavelength_range[0]\n",
    "    max_wavelength = wavelength_range[1]\n",
    "else:\n",
    "    min_wavelength = wavelength_range[0,0]\n",
    "    max_wavelength = wavelength_range[-1,1]\n",
    "\n",
    "plot_xrange_start = [min_wavelength, wavelength_NIIa_atm-500, wavelength_NIIa_atm-25]\n",
    "plot_xrange_end   = [max_wavelength, wavelength_NIIb_atm+500, wavelength_NIIb_atm+25]\n",
    "\n",
    "plot_yrange_start = [0.0, 0.5, 0.7]\n",
    "plot_yrange_end   = [1.0, 1.0, 1.0]\n",
    "\n",
    "lgray = (0.5,0.5,0.5)\n",
    "alpha = 0.3\n",
    "\n",
    "for i in np.arange(len(plot_xrange_start)):\n",
    "    wavelength_filter = (sky_transmission_data['wavelength'] >= plot_xrange_start[i]) & (sky_transmission_data['wavelength'] <= plot_xrange_end[i])\n",
    "\n",
    "    wavelength = sky_transmission_data['wavelength'][wavelength_filter]\n",
    "    dwavelength = wavelength / resolving_power\n",
    "\n",
    "    _, ax = plot.create_plot(title=f\"{location} IR Sky Transmission\")\n",
    "    ax.plot(wavelength, sky_transmission_data['transmission'][wavelength_filter], linestyle='-', color='b', linewidth=1)\n",
    "    ax.set_xlabel('Wavelength [Angstrom]')\n",
    "    ax.set_ylabel('Transmission [%]')\n",
    "    ax.set_xlim([plot_xrange_start[i], plot_xrange_end[i]])\n",
    "    ax.set_ylim([plot_yrange_start[i], plot_yrange_end[i]])\n",
    "    if wavelength_Ha_atm > plot_xrange_start[i] and wavelength_Ha_atm < plot_xrange_end[i]:\n",
    "        trans_NIIa = sky.get_mean_transmission(sky_transmission_data, wavelength_NIIa_atm, target_velocity_dispersion, resolving_power, trans_multiple)\n",
    "        colour = 'r' if trans_NIIa < trans_min else 'g'\n",
    "        ax.fill_between(wavelength, plot_yrange_start[i], plot_yrange_end[i], where=(abs(wavelength - wavelength_NIIa_atm) < dwavelength_Ha*trans_multiple), facecolor=lgray, alpha=alpha)\n",
    "        plt.hlines(y=trans_NIIa, xmin=(wavelength_NIIa_atm - dwavelength_Ha*trans_multiple), xmax=(wavelength_NIIa_atm + dwavelength_Ha*trans_multiple), linestyle='-', linewidth=2, color=colour)\n",
    "\n",
    "        trans_Ha = sky.get_mean_transmission(sky_transmission_data, wavelength_Ha_atm, target_velocity_dispersion, resolving_power, trans_multiple)\n",
    "        colour = 'r' if trans_Ha < trans_min else 'g'\n",
    "        ax.fill_between(wavelength, plot_yrange_start[i], plot_yrange_end[i], where=(abs(wavelength - wavelength_Ha_atm) < dwavelength_Ha*trans_multiple), facecolor=lgray, alpha=alpha)\n",
    "        plt.hlines(y=trans_Ha, xmin=(wavelength_Ha_atm - dwavelength_Ha*trans_multiple), xmax=(wavelength_Ha_atm + dwavelength_Ha*trans_multiple), linestyle='-', linewidth=2, color=colour)\n",
    "\n",
    "        trans_NIIb = sky.get_mean_transmission(sky_transmission_data, wavelength_NIIb_atm, target_velocity_dispersion, resolving_power, trans_multiple)\n",
    "        colour = 'r' if trans_NIIb < trans_min else 'g'\n",
    "        ax.fill_between(wavelength, plot_yrange_start[i], plot_yrange_end[i], where=(abs(wavelength - wavelength_NIIb_atm) < dwavelength_Ha*trans_multiple), facecolor=lgray, alpha=alpha)\n",
    "        plt.hlines(y=trans_NIIb, xmin=(wavelength_NIIb_atm - dwavelength_Ha*trans_multiple), xmax=(wavelength_NIIb_atm + dwavelength_Ha*trans_multiple), linestyle='-', linewidth=2, color=colour)\n",
    "\n",
    "del plot_xrange_start, plot_xrange_end, plot_yrange_start, plot_yrange_end, lgray, alpha\n",
    "del trans_Ha, trans_NIIa, trans_NIIb\n",
    "del wavelength_filter, wavelength, dwavelength, colour, i, ax"
   ]
  },
  {
   "cell_type": "markdown",
   "metadata": {},
   "source": [
    "### Plot Sky Background"
   ]
  },
  {
   "cell_type": "code",
   "execution_count": null,
   "metadata": {},
   "outputs": [],
   "source": [
    "plot_log = True\n",
    "plot_xrange_start = [min_wavelength, wavelength_NIIa_atm-500, wavelength_NIIa_atm-25]\n",
    "plot_xrange_end   = [max_wavelength, wavelength_NIIb_atm+500, wavelength_NIIb_atm+25]\n",
    "ylim = [1e-1, 1e4]\n",
    "\n",
    "lgray = (0.5,0.5,0.5)\n",
    "alpha = 0.3\n",
    "\n",
    "for i in np.arange(len(plot_xrange_start)):\n",
    "    plot_wavelength_range = [plot_xrange_start[i], plot_xrange_end[i]]\n",
    "    wavelengths = np.linspace(plot_wavelength_range[0], plot_wavelength_range[1], 1000)\n",
    "    sky_background_data_low_res = sky.get_low_res_background(sky_background_data, plot_wavelength_range, resolving_power)\n",
    "    sky_lines = sky.find_sky_lines(sky_background_data_low_res, min_photon_rate)\n",
    "\n",
    "    wavelength = sky_background_data_low_res['wavelength']\n",
    "    _, ax = plot.create_plot(title=f\"{location} IR Sky Background\")\n",
    "    ax.plot(wavelength, sky_background_data_low_res['emission'], linestyle='-', color='b', linewidth=1)\n",
    "    ax.scatter(sky_lines['wavelength'], sky_lines['emission'], marker='x', color='b')\n",
    "    if len(sky_lines) <= 5:\n",
    "        plt.hlines(y=sky_lines[\"width_height\"], xmin=sky_lines[\"wavelength_low\"], xmax=sky_lines[\"wavelength_high\"], linestyle='-', color='b')        \n",
    "    ax.axhline(min_photon_rate, linestyle=':', linewidth=1, color='k')\n",
    "    ax.set_xlabel('Wavelength [Angstrom]')\n",
    "    ax.set_ylabel('Emission [$ph/s/arcsec^2/nm/m^2$]')\n",
    "    ax.set_xlim(plot_wavelength_range)\n",
    "    if plot_log:\n",
    "        ax.set_yscale('log')\n",
    "        ax.set_ylim(ylim)\n",
    "\n",
    "    if wavelength_NIIa_atm > plot_xrange_start[i] and wavelength_NIIa_atm < plot_xrange_end[i]:\n",
    "        colour = 'r' if sky.reject_emission_line(sky_background_data, sky_transmission_data,wavelength_NIIa_atm, target_velocity_dispersion,  resolving_power, wavelength_range, trans_min, trans_multiple, avoid_multiple, min_photon_rate) else 'g'\n",
    "        ax.fill_between(wavelength, ylim[0], ylim[1], where=(abs(wavelength - wavelength_NIIa_atm) < dwavelength_Ha*avoid_multiple), facecolor=lgray, alpha=alpha)\n",
    "        ax.plot(wavelengths, ph_rate_Ha * flux_NII_Ha_ratio * np.sqrt(2*np.pi) * sigma_Ha * norm.pdf(wavelengths, wavelength_NIIa_atm, sigma_Ha), linestyle='-', linewidth=2, color=colour)\n",
    "        if avoid_multiple != 0.5:\n",
    "            ax.fill_between(wavelength, ylim[0], ylim[1], where=(abs(wavelength - wavelength_NIIa_atm) < dwavelength_Ha/2), facecolor=lgray, alpha=alpha)\n",
    "        #plt.hlines(y=(PF_Ha * flux_NII_Ha_ratio)/2, xmin=(lambda_NIIa_atm-dLambda_Ha/2), xmax=(lambda_NIIa_atm+dLambda_Ha/2), linestyle='-', linewidth=2, color=colour)        \n",
    "\n",
    "    if wavelength_Ha_atm > plot_xrange_start[i] and wavelength_Ha_atm < plot_xrange_end[i]:\n",
    "        colour = 'r' if sky.reject_emission_line(sky_background_data, sky_transmission_data, wavelength_Ha_atm, target_velocity_dispersion, resolving_power, wavelength_range, trans_min, trans_multiple, avoid_multiple, min_photon_rate) else 'g'\n",
    "        ax.fill_between(wavelength, ylim[0], ylim[1], where=(abs(wavelength - wavelength_Ha_atm) < dwavelength_Ha*avoid_multiple), facecolor=lgray, alpha=alpha)\n",
    "        ax.plot(wavelengths, ph_rate_Ha * np.sqrt(2*np.pi) * sigma_Ha * norm.pdf(wavelengths, wavelength_Ha_atm, sigma_Ha), linestyle='-', linewidth=2, color=colour)\n",
    "        if avoid_multiple != 0.5:\n",
    "            ax.fill_between(wavelength, ylim[0], ylim[1], where=(abs(wavelength - wavelength_Ha_atm) < dwavelength_Ha/2), facecolor=lgray, alpha=alpha)\n",
    "        #plt.hlines(y=PF_Ha/2, xmin=(lambda_Ha_atm-dLambda_Ha/2), xmax=(lambda_Ha_atm+dLambda_Ha/2), linestyle='-', linewidth=2, color=colour)        \n",
    "\n",
    "    if wavelength_NIIb_atm > plot_xrange_start[i] and wavelength_NIIb_atm < plot_xrange_end[i]:\n",
    "        colour = 'r' if sky.reject_emission_line(sky_background_data, sky_transmission_data, wavelength_NIIb_atm, target_velocity_dispersion, resolving_power, wavelength_range, trans_min, trans_multiple, avoid_multiple, min_photon_rate) else 'g'\n",
    "        ax.fill_between(wavelength, ylim[0], ylim[1], where=(abs(wavelength - wavelength_NIIb_atm) < dwavelength_Ha*avoid_multiple), facecolor=lgray, alpha=alpha)\n",
    "        ax.plot(wavelengths, ph_rate_Ha * flux_NII_Ha_ratio * np.sqrt(2*np.pi) * sigma_Ha * norm.pdf(wavelengths, wavelength_NIIb_atm, sigma_Ha), linestyle='-', linewidth=2, color=colour)\n",
    "        if avoid_multiple != 0.5:\n",
    "            ax.fill_between(wavelength, ylim[0], ylim[1], where=(abs(wavelength - wavelength_NIIb_atm) < dwavelength_Ha/2), facecolor=lgray, alpha=alpha)\n",
    "        #plt.hlines(y=(PF_Ha * flux_NII_Ha_ratio)/2, xmin=(lambda_NIIb_atm-dLambda_Ha/2), xmax=(lambda_NIIb_atm+dLambda_Ha/2), linestyle='-', linewidth=2, color=colour)        \n",
    "\n",
    "    if i == 0:\n",
    "        emission_no_peaks = sky_background_data_low_res['emission'].copy()\n",
    "        for j in np.arange(len(sky_lines)):\n",
    "            emission_no_peaks[(sky_background_data_low_res['wavelength'] >= (sky_lines['wavelength_low'][j] - dwavelength_Ha * avoid_multiple)) \\\n",
    "                            & (sky_background_data_low_res['wavelength'] <= (sky_lines['wavelength_high'][j] + dwavelength_Ha * avoid_multiple))] = None\n",
    "\n",
    "        _, ax = plot.create_plot(title=f\"{location} IR Sky Background\")\n",
    "        ax.plot(sky_background_data_low_res['wavelength'], emission_no_peaks, linestyle='-', color='b', linewidth=1)\n",
    "        ax.axhline(min_photon_rate, linestyle='--', linewidth=1, color='k')\n",
    "        ax.set_xlabel('Wavelength [Angstrom]')\n",
    "        ax.set_ylabel('Emission [$ph/s/arcsec^2/nm/m^2$]')\n",
    "        ax.set_xlim(plot_wavelength_range)\n",
    "        if plot_log:\n",
    "            ax.set_yscale('log')\n",
    "            ax.set_ylim([1e-1, min_photon_rate+10])\n",
    "        else:\n",
    "            ax.set_ylim([0, min_photon_rate+0.25])\n",
    "\n",
    "del plot_log, plot_xrange_start, plot_xrange_end, ylim, lgray, alpha, plot_wavelength_range\n",
    "del sky_background_data_low_res, sky_lines, emission_no_peaks\n",
    "del wavelengths, wavelength, i, j, colour, ax"
   ]
  }
 ],
 "metadata": {
  "kernelspec": {
   "display_name": ".venv",
   "language": "python",
   "name": "python3"
  },
  "language_info": {
   "codemirror_mode": {
    "name": "ipython",
    "version": 3
   },
   "file_extension": ".py",
   "mimetype": "text/x-python",
   "name": "python",
   "nbconvert_exporter": "python",
   "pygments_lexer": "ipython3",
   "version": "3.13.1"
  }
 },
 "nbformat": 4,
 "nbformat_minor": 2
}
