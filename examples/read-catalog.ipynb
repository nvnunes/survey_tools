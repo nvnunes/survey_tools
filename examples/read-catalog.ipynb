{
 "cells": [
  {
   "cell_type": "markdown",
   "metadata": {},
   "source": [
    "### Imports"
   ]
  },
  {
   "cell_type": "code",
   "execution_count": null,
   "metadata": {},
   "outputs": [],
   "source": [
    "%load_ext autoreload\n",
    "%autoreload 2\n",
    "\n",
    "import numpy as np\n",
    "from astropy.io import fits\n",
    "from astropy.table import Table\n",
    "import pyds9\n",
    "from tabulate import tabulate\n",
    "from survey_tools import catalog, match\n",
    "from survey_tools.utility import plot, table"
   ]
  },
  {
   "cell_type": "markdown",
   "metadata": {},
   "source": [
    "### Options"
   ]
  },
  {
   "cell_type": "code",
   "execution_count": null,
   "metadata": {},
   "outputs": [],
   "source": [
    "catalog_num = 1\n",
    "\n",
    "match catalog_num:\n",
    "    case 1:\n",
    "        catalog_name = '3D-HST'\n",
    "        field_name   = 'COSMOS' # AEGIS, COSMOS, GOODS-N, GOODS-S, UDS\n",
    "        filter_name  = 'F160W'  # F125W, F140W, F160W\n",
    "    case 2:\n",
    "        catalog_name = 'UVISTA'\n",
    "        field_name   = None\n",
    "        filtcatalog.get_paramsn\n",
    "    case 3:\n",
    "        catalog_name = 'ZCOSMOS-BRIGHT'\n",
    "        field_name   = None\n",
    "        filter_name  = None\n",
    "    case 4:\n",
    "        catalog_name = 'ZCOSMOS-DEEP'\n",
    "        field_name   = None\n",
    "        filter_name  = None\n",
    "    case 5:\n",
    "        catalog_name = 'VUDS'\n",
    "        field_name   = 'COSMOS' # COSMOS, GOODS-S\n",
    "        filter_name  = None\n",
    "    case 6:\n",
    "        catalog_name = 'Casey'\n",
    "        field_name   = 'COSMOS' # COSMOS, GOODS-N, UDS\n",
    "        filter_name  = None\n",
    "    case 7:\n",
    "        catalog_name = 'DEIMOS'\n",
    "        field_name   = None\n",
    "        filter_name  = None\n",
    "    case 8:\n",
    "        catalog_name = 'MOSDEF'\n",
    "        field_name   = 'COSMOS' # AEGIS, COSMOS, GOODS-N, GOODS-S, UDS\n",
    "        filter_name  = None\n",
    "    case 9:\n",
    "        catalog_name = 'FMOS'\n",
    "        field_name   = None\n",
    "        filter_name  = None\n",
    "    case 10:\n",
    "        catalog_name = 'KMOS3D'\n",
    "        field_name   = 'COSMOS' # COSMOS, GOODS-S, UDS\n",
    "        filter_name  = None\n",
    "    case 11:\n",
    "        catalog_name = 'C3R2'\n",
    "        field_name   = None\n",
    "        filter_name  = None\n",
    "    case 12:\n",
    "        catalog_name = 'LEGAC'\n",
    "        field_name   = None\n",
    "        filter_name  = None\n",
    "    case 13:\n",
    "        catalog_name = 'HSCSSP'\n",
    "        field_name   = 'COSMOS' # AEGIS, COSMOS\n",
    "        filter_name  = None\n",
    "    case 14:\n",
    "        catalog_name = 'DESI'\n",
    "        field_name   = None\n",
    "        filter_name  = None\n",
    "\n",
    "catalog_params = catalog.get_params(catalog_name, field_name, filter_name)"
   ]
  },
  {
   "cell_type": "markdown",
   "metadata": {},
   "source": [
    "### Read Catalogs"
   ]
  },
  {
   "cell_type": "code",
   "execution_count": null,
   "metadata": {},
   "outputs": [],
   "source": [
    "catalog_data = catalog.CatalogData(catalog_params)"
   ]
  },
  {
   "cell_type": "markdown",
   "metadata": {},
   "source": [
    "### Photometric Catalog Fields"
   ]
  },
  {
   "cell_type": "code",
   "execution_count": null,
   "metadata": {},
   "outputs": [],
   "source": [
    "if table.has_field(catalog_data, 'sources'):\n",
    "    if isinstance(catalog_data.sources, fits.fitsrec.FITS_rec):\n",
    "        column_info = np.array([(lambda c: [c.name, c.dtype])(col) for col in catalog_data.sources.columns])\n",
    "        display(tabulate(column_info, headers=['Name', 'Type'], tablefmt='html'))\n",
    "        del column_info\n",
    "    if isinstance(catalog_data.sources, Table):\n",
    "        column_info = np.array([(lambda c: [c.name, c.dtype])(catalog_data.sources[col]) for col in catalog_data.sources.columns])\n",
    "        display(tabulate(column_info, headers=['Name', 'Type'], tablefmt='html'))\n",
    "        del column_info"
   ]
  },
  {
   "cell_type": "markdown",
   "metadata": {},
   "source": [
    "### Stellar Population Parameters Fields"
   ]
  },
  {
   "cell_type": "code",
   "execution_count": null,
   "metadata": {},
   "outputs": [],
   "source": [
    "if table.has_field(catalog_data, 'spp') and not catalog_data.spp_is_copy:\n",
    "    if isinstance(catalog_data.spp, fits.fitsrec.FITS_rec):\n",
    "        column_info = np.array([(lambda c: [c.name, c.dtype])(col) for col in catalog_data.spp.columns])\n",
    "        display(tabulate(column_info, headers=['Name', 'Type'], tablefmt='html'))\n",
    "        del column_info\n",
    "    if isinstance(catalog_data.spp, Table):\n",
    "        column_info = np.array([(lambda c: [c.name, c.dtype])(catalog_data.spp[col]) for col in catalog_data.spp.columns])\n",
    "        display(tabulate(column_info, headers=['Name', 'Type'], tablefmt='html'))\n",
    "        del column_info"
   ]
  },
  {
   "cell_type": "markdown",
   "metadata": {},
   "source": [
    "### Redshift Catalog Fields"
   ]
  },
  {
   "cell_type": "code",
   "execution_count": null,
   "metadata": {},
   "outputs": [],
   "source": [
    "if table.has_field(catalog_data, 'redshift') and not catalog_data.redshift_is_copy:\n",
    "    if isinstance(catalog_data.redshift, fits.fitsrec.FITS_rec):\n",
    "        column_info = np.array([(lambda c: [c.name, c.dtype])(col) for col in catalog_data.redshift.columns])\n",
    "        display(tabulate(column_info, headers=['Name', 'Type'], tablefmt='html'))\n",
    "        del column_info\n",
    "    if isinstance(catalog_data.redshift, Table):\n",
    "        column_info = np.array([(lambda c: [c.name, c.dtype])(catalog_data.redshift[col]) for col in catalog_data.redshift.columns])\n",
    "        display(tabulate(column_info, headers=['Name', 'Type'], tablefmt='html'))\n",
    "        del column_info"
   ]
  },
  {
   "cell_type": "markdown",
   "metadata": {},
   "source": [
    "### Emission Line Catalog Fields"
   ]
  },
  {
   "cell_type": "code",
   "execution_count": null,
   "metadata": {},
   "outputs": [],
   "source": [
    "if table.has_field(catalog_data, 'lines') and not catalog_data.lines_is_copy:\n",
    "    if isinstance(catalog_data.lines, fits.fitsrec.FITS_rec):\n",
    "        column_info = np.array([(lambda c: [c.name, c.dtype])(col) for col in catalog_data.lines.columns])\n",
    "        display(tabulate(column_info, headers=['Name', 'Type'], tablefmt='html'))\n",
    "        del column_info"
   ]
  },
  {
   "cell_type": "markdown",
   "metadata": {},
   "source": [
    "### Catalog Image"
   ]
  },
  {
   "cell_type": "code",
   "execution_count": null,
   "metadata": {},
   "outputs": [],
   "source": [
    "if table.has_field(catalog_params, 'catalog_image_file'):\n",
    "    image_hdul = catalog.open_image(catalog_params)\n",
    "\n",
    "    try:\n",
    "        ds9 = pyds9.DS9(start=True)\n",
    "    except ValueError:\n",
    "        ds9 = None\n",
    "        print('DS9 is not running')\n",
    "\n",
    "    if ds9 is not None:\n",
    "        plot.DS9_plot_image(image_hdul)\n",
    "\n",
    "    image_hdul.close()"
   ]
  },
  {
   "cell_type": "markdown",
   "metadata": {},
   "source": [
    "### Consolidate Best Data"
   ]
  },
  {
   "cell_type": "code",
   "execution_count": null,
   "metadata": {},
   "outputs": [],
   "source": [
    "catalog.consolidate_best_data(catalog_data)\n",
    "\n",
    "num_galaxies = len(catalog_data.sources)\n",
    "print(f\"All Sources: {num_galaxies}\")\n",
    "\n",
    "display(tabulate(catalog_data.best[0:10], headers=catalog_data.best.colnames, tablefmt='html'))"
   ]
  },
  {
   "cell_type": "markdown",
   "metadata": {},
   "source": [
    "### Flatten Galaxy Data"
   ]
  },
  {
   "cell_type": "code",
   "execution_count": null,
   "metadata": {},
   "outputs": [],
   "source": [
    "galaxy_data = catalog.flatten_galaxy_data(catalog_data)\n",
    "\n",
    "num_galaxies = len(galaxy_data)\n",
    "print(f\"Galaxies: {num_galaxies}\")\n",
    "\n",
    "display(tabulate(galaxy_data[0:10], headers=galaxy_data.colnames, tablefmt='html'))"
   ]
  }
 ],
 "metadata": {
  "kernelspec": {
   "display_name": "Python 3",
   "language": "python",
   "name": "python3"
  },
  "language_info": {
   "codemirror_mode": {
    "name": "ipython",
    "version": 3
   },
   "file_extension": ".py",
   "mimetype": "text/x-python",
   "name": "python",
   "nbconvert_exporter": "python",
   "pygments_lexer": "ipython3",
   "version": "3.13.2"
  }
 },
 "nbformat": 4,
 "nbformat_minor": 2
}
