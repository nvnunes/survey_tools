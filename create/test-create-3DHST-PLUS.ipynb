{
 "cells": [
  {
   "cell_type": "markdown",
   "metadata": {},
   "source": [
    "### Imports"
   ]
  },
  {
   "cell_type": "code",
   "execution_count": null,
   "metadata": {},
   "outputs": [],
   "source": [
    "%load_ext autoreload\n",
    "%autoreload 2\n",
    "\n",
    "import numpy as np\n",
    "import astropy.units as u\n",
    "from survey_tools import catalog, match\n",
    "from survey_tools.utility import plot, table"
   ]
  },
  {
   "cell_type": "markdown",
   "metadata": {},
   "source": [
    "### Options"
   ]
  },
  {
   "cell_type": "code",
   "execution_count": null,
   "metadata": {},
   "outputs": [],
   "source": [
    "field = 'AEGIS' # AEGIS, COSMOS, GOODS-N, GOODS-S, UDS\n",
    "\n",
    "do_save = False\n",
    "do_save_ascii = False\n",
    "keep_open = False\n",
    "\n",
    "plot_mode   = 'default'\n",
    "plot_options   = plot.get_plot_colours(plot_mode)"
   ]
  },
  {
   "cell_type": "markdown",
   "metadata": {},
   "source": [
    "### Load 3D-HST (v4.1, 2014-09-03)"
   ]
  },
  {
   "cell_type": "code",
   "execution_count": null,
   "metadata": {},
   "outputs": [],
   "source": [
    "catalog_params_3DHST = catalog.get_params('3D-HST', field, 'F160W')\n",
    "catalog_3DHST = catalog.read(catalog_params_3DHST, force_tables=True)\n",
    "catalog_region_3DHST = catalog.get_catalog_region(catalog_3DHST, added_distance=0.5*u.degree)\n",
    "print(f\"3D-HST: {catalog_3DHST.count} sources\")\n",
    "print('\\n3D-HST Region:')\n",
    "print(catalog_region_3DHST)"
   ]
  },
  {
   "cell_type": "markdown",
   "metadata": {},
   "source": [
    "### Cross-Match zCOSMOS Bright (DR3, 2016-01-19)"
   ]
  },
  {
   "cell_type": "code",
   "execution_count": null,
   "metadata": {},
   "outputs": [],
   "source": [
    "if field == 'COSMOS':\n",
    "    catalog_params_ZCB = catalog.get_params('ZCOSMOS-BRIGHT')\n",
    "    catalog_ZCB = catalog.read(catalog_params_ZCB)\n",
    "    print(f\"{catalog_ZCB.catalog}: {catalog_ZCB.count} sources\")"
   ]
  },
  {
   "cell_type": "code",
   "execution_count": null,
   "metadata": {},
   "outputs": [],
   "source": [
    "if field == 'COSMOS':\n",
    "    matches_ZCB = match.cross_match_catalogs_by_ra_dec(catalog_3DHST, catalog_ZCB)\n",
    "    print(f\"Number of Matches: {matches_ZCB.count}\")"
   ]
  },
  {
   "cell_type": "code",
   "execution_count": null,
   "metadata": {},
   "outputs": [],
   "source": [
    "if field == 'COSMOS':\n",
    "    match.append_cross_matched_data(matches_ZCB, catalog_3DHST, catalog_ZCB)"
   ]
  },
  {
   "cell_type": "code",
   "execution_count": null,
   "metadata": {},
   "outputs": [],
   "source": [
    "if field == 'COSMOS' and matches_ZCB.count > 0:\n",
    "    value_filter       = (catalog_3DHST.idmap['id']  < 1e7) & (catalog_3DHST.idmap['ZCB'] >= 0)\n",
    "    other_match_filter = (catalog_3DHST.idmap['id'] >= 1e7) & (catalog_3DHST.idmap['ZCB'] >= 0) & (catalog_3DHST.idmap['ZCB_dist']  > 0.0)\n",
    "    multi_match_filter = (catalog_3DHST.idmap['id'] >= 1e7) & (catalog_3DHST.idmap['ZCB'] >= 0) & (catalog_3DHST.idmap['ZCB_dist'] == 0.0) & (catalog_3DHST.idmap['ZCB_num'] > 1)\n",
    "    dup_match_filter   = (catalog_3DHST.idmap['id'] >= 1e7) & (catalog_3DHST.idmap['ZCB'] >= 0) & (catalog_3DHST.idmap['ZCB_dist'] == 0.0) & (catalog_3DHST.idmap['ZCB_num'] == 1)\n",
    "    non_match_filter   = (catalog_3DHST.idmap['id'] >= 1e7) & (catalog_3DHST.idmap['ZCB'] >= 0) & (catalog_3DHST.idmap['ZCB_dist'] == 0.0) & (catalog_3DHST.idmap['ZCB_num'] == 0)\n",
    "\n",
    "    num_matches = np.sum(value_filter)\n",
    "    num_other_matches = np.sum(other_match_filter)\n",
    "    num_multi_matches = np.sum(multi_match_filter)\n",
    "    num_dup_matches = np.sum(dup_match_filter)\n",
    "    num_non_matches = np.sum(non_match_filter)\n",
    "    print(f\"Number of {catalog_ZCB.name} Redshifts:\")\n",
    "    print(f\"    Matches      : {num_matches} (diff={matches_ZCB.count - num_matches - num_other_matches})\")\n",
    "    print(f\"  + Other matches: {num_other_matches}\")\n",
    "    print(f\"  + Dup-matches  : {num_dup_matches}\")\n",
    "    print(f\"  + Multi-matches: {num_multi_matches}\")\n",
    "    print(f\"  + Non-matches  : {num_non_matches}\")\n",
    "    print(f\"  = Total        : {num_matches + num_other_matches + num_dup_matches + num_multi_matches + num_non_matches} (diff={catalog_ZCB.count - num_matches - num_other_matches - num_dup_matches - num_multi_matches - num_non_matches})\")\n",
    "\n",
    "    zlim_deep = [0, 3]\n",
    "    zlim = [0, 2]\n",
    "\n",
    "    value_filter = (catalog_3DHST.redshift['z_best'] > 0.0) & (catalog_3DHST.redshift['z_ZCB'] > 0.0) & (catalog_3DHST.redshift['z_ZCB_flag'] < 8)\n",
    "    fig, ax = plot.create_plot(plot_mode, title=f\"Match Sources: {catalog_ZCB.catalog} vs {catalog_3DHST.catalog}, N={np.sum(value_filter)}\")\n",
    "    ax.scatter(catalog_3DHST.redshift['z_best'][value_filter], catalog_3DHST.redshift['z_ZCB'][value_filter], s=5, marker='o', edgecolors='none', facecolors=plot_options.fit_data_colour)\n",
    "    ax.set_xlabel(f\"$z_{{peak}}$ [{catalog_3DHST.catalog}]\")\n",
    "    ax.set_ylabel(f\"$z_{{spec}}$ [{catalog_ZCB.catalog}]\")\n",
    "    ax.set_xlim(zlim_deep)\n",
    "    ax.set_ylim(zlim_deep)\n",
    "\n",
    "    del zlim_deep, zlim, fig, ax"
   ]
  },
  {
   "cell_type": "code",
   "execution_count": null,
   "metadata": {},
   "outputs": [],
   "source": [
    "if not keep_open and 'catalog_ZCB' in locals():\n",
    "    catalog.close(catalog_ZCB)\n",
    "    del catalog_ZCB, catalog_params_ZCB"
   ]
  },
  {
   "cell_type": "markdown",
   "metadata": {},
   "source": [
    "### Cross-Match zCOSMOS Deep (unreleased, between 2009-2016?)"
   ]
  },
  {
   "cell_type": "code",
   "execution_count": null,
   "metadata": {},
   "outputs": [],
   "source": [
    "if field == 'COSMOS':\n",
    "    catalog_params_ZCD = catalog.get_params('ZCOSMOS-DEEP')\n",
    "    catalog_ZCD = catalog.read(catalog_params_ZCD)\n",
    "    print(f\"{catalog_ZCD.catalog}: {catalog_ZCD.count} sources\")"
   ]
  },
  {
   "cell_type": "code",
   "execution_count": null,
   "metadata": {},
   "outputs": [],
   "source": [
    "if field == 'COSMOS':\n",
    "    matches_ZCD = match.cross_match_catalogs_by_ra_dec(catalog_3DHST, catalog_ZCD)\n",
    "    print(f\"Number of Matches: {matches_ZCD.count}\")"
   ]
  },
  {
   "cell_type": "code",
   "execution_count": null,
   "metadata": {},
   "outputs": [],
   "source": [
    "if field == 'COSMOS':\n",
    "    match.append_cross_matched_data(matches_ZCD, catalog_3DHST, catalog_ZCD)"
   ]
  },
  {
   "cell_type": "code",
   "execution_count": null,
   "metadata": {},
   "outputs": [],
   "source": [
    "if field == 'COSMOS' and matches_ZCD.count > 0:\n",
    "    value_filter       = (catalog_3DHST.idmap['id']  < 1e7) & (catalog_3DHST.idmap['ZCD'] >= 0)\n",
    "    other_match_filter = (catalog_3DHST.idmap['id'] >= 1e7) & (catalog_3DHST.idmap['ZCD'] >= 0) & (catalog_3DHST.idmap['ZCD_dist']  > 0.0)\n",
    "    multi_match_filter = (catalog_3DHST.idmap['id'] >= 1e7) & (catalog_3DHST.idmap['ZCD'] >= 0) & (catalog_3DHST.idmap['ZCD_dist'] == 0.0) & (catalog_3DHST.idmap['ZCD_num'] > 1)\n",
    "    dup_match_filter   = (catalog_3DHST.idmap['id'] >= 1e7) & (catalog_3DHST.idmap['ZCD'] >= 0) & (catalog_3DHST.idmap['ZCD_dist'] == 0.0) & (catalog_3DHST.idmap['ZCD_num'] == 1)\n",
    "    non_match_filter   = (catalog_3DHST.idmap['id'] >= 1e7) & (catalog_3DHST.idmap['ZCD'] >= 0) & (catalog_3DHST.idmap['ZCD_dist'] == 0.0) & (catalog_3DHST.idmap['ZCD_num'] == 0)\n",
    "\n",
    "    num_matches = np.sum(value_filter)\n",
    "    num_other_matches = np.sum(other_match_filter)\n",
    "    num_multi_matches = np.sum(multi_match_filter)\n",
    "    num_dup_matches = np.sum(dup_match_filter)\n",
    "    num_non_matches = np.sum(non_match_filter)\n",
    "    print(f\"Number of {catalog_ZCD.name} Redshifts:\")\n",
    "    print(f\"    Matches      : {num_matches} (diff={matches_ZCD.count - num_matches - num_other_matches})\")\n",
    "    print(f\"  + Other matches: {num_other_matches}\")\n",
    "    print(f\"  + Dup-matches  : {num_dup_matches}\")\n",
    "    print(f\"  + Multi-matches: {num_multi_matches}\")\n",
    "    print(f\"  + Non-matches  : {num_non_matches}\")\n",
    "    print(f\"  = Total        : {num_matches + num_other_matches + num_dup_matches + num_multi_matches + num_non_matches} (diff={catalog_ZCD.count - num_matches - num_other_matches - num_dup_matches - num_multi_matches - num_non_matches})\")\n",
    "\n",
    "    zlim_deep = [0, 6]\n",
    "    zlim = [0, 3.5]\n",
    "\n",
    "    value_filter = (catalog_3DHST.redshift['z_best'] > 0.0) & (catalog_3DHST.redshift['z_ZCD'] > 0.0) & (catalog_3DHST.redshift['z_ZCD_flag'] < 8)\n",
    "    fig, ax = plot.create_plot(plot_mode, title=f\"Match Sources: {catalog_ZCD.catalog} vs {catalog_3DHST.catalog}, N={np.sum(value_filter)}\")\n",
    "    ax.scatter(catalog_3DHST.redshift['z_best'][value_filter], catalog_3DHST.redshift['z_ZCD'][value_filter], s=5, marker='o', edgecolors='none', facecolors=plot_options.fit_data_colour)\n",
    "    ax.set_xlabel(f\"$z_{{peak}}$ [{catalog_3DHST.catalog}]\")\n",
    "    ax.set_ylabel(f\"$z_{{spec}}$ [{catalog_ZCD.catalog}]\")\n",
    "    ax.set_xlim(zlim_deep)\n",
    "    ax.set_ylim(zlim_deep)\n",
    "\n",
    "    fig, ax = plot.create_plot(plot_mode, title=f\"Compare {catalog_ZCD.catalog}\")\n",
    "    if field == 'COSMOS' and matches_ZCB.count > 0:\n",
    "        value_filter = (catalog_3DHST.redshift['z_ZCB'] > 0.0) & (catalog_3DHST.redshift['z_ZCB_flag'] < 8) & (catalog_3DHST.redshift['z_ZCD'] > 0.0) & (catalog_3DHST.redshift['z_ZCD_flag'] < 8)\n",
    "        ax.scatter(catalog_3DHST.redshift['z_ZCB'][value_filter], catalog_3DHST.redshift['z_ZCD'][value_filter], label=f\"ZCB ({np.sum(value_filter)})\", s=5, marker='o', edgecolors='none', facecolors=plot_options.colour2)\n",
    "    ax.set_xlabel('$z_{spec}$ [Other]')\n",
    "    ax.set_ylabel(f\"$z_{{spec}}$ [{catalog_ZCD.catalog}]\")\n",
    "    ax.set_xlim(zlim)\n",
    "    ax.set_ylim(zlim)\n",
    "    ax.legend(loc='lower right')\n",
    "\n",
    "    del zlim_deep, zlim, fig, ax"
   ]
  },
  {
   "cell_type": "code",
   "execution_count": null,
   "metadata": {},
   "outputs": [],
   "source": [
    "if not keep_open and 'catalog_ZCD' in locals():\n",
    "    catalog.close(catalog_ZCD)\n",
    "    del catalog_ZCD, catalog_params_ZCD"
   ]
  },
  {
   "cell_type": "markdown",
   "metadata": {},
   "source": [
    "### Cross-Match VUDS (DR1, 2015-08-12)"
   ]
  },
  {
   "cell_type": "code",
   "execution_count": null,
   "metadata": {},
   "outputs": [],
   "source": [
    "if field == 'COSMOS' or field == 'GOODS-S':\n",
    "    catalog_params_VUDS = catalog.get_params('VUDS', field)\n",
    "    catalog_VUDS = catalog.read(catalog_params_VUDS)\n",
    "    print(f\"{catalog_VUDS.catalog}: {catalog_VUDS.count} sources\")"
   ]
  },
  {
   "cell_type": "code",
   "execution_count": null,
   "metadata": {},
   "outputs": [],
   "source": [
    "if field == 'COSMOS' or field == 'GOODS-S':\n",
    "    matches_VUDS = match.cross_match_catalogs_by_ra_dec(catalog_3DHST, catalog_VUDS)\n",
    "    print(f\"Number of Matches: {matches_VUDS.count}\")"
   ]
  },
  {
   "cell_type": "code",
   "execution_count": null,
   "metadata": {},
   "outputs": [],
   "source": [
    "if field == 'COSMOS' or field == 'GOODS-S':\n",
    "    match.append_cross_matched_data(matches_VUDS, catalog_3DHST, catalog_VUDS)"
   ]
  },
  {
   "cell_type": "code",
   "execution_count": null,
   "metadata": {},
   "outputs": [],
   "source": [
    "if (field == 'COSMOS' or field == 'GOODS-S') and matches_VUDS.count > 0:\n",
    "    value_filter       = (catalog_3DHST.idmap['id']  < 1e7) & (catalog_3DHST.idmap['VUDS'] >= 0)\n",
    "    other_match_filter = (catalog_3DHST.idmap['id'] >= 1e7) & (catalog_3DHST.idmap['VUDS'] >= 0) & (catalog_3DHST.idmap['VUDS_dist']  > 0.0)\n",
    "    multi_match_filter = (catalog_3DHST.idmap['id'] >= 1e7) & (catalog_3DHST.idmap['VUDS'] >= 0) & (catalog_3DHST.idmap['VUDS_dist'] == 0.0) & (catalog_3DHST.idmap['VUDS_num'] > 1)\n",
    "    dup_match_filter   = (catalog_3DHST.idmap['id'] >= 1e7) & (catalog_3DHST.idmap['VUDS'] >= 0) & (catalog_3DHST.idmap['VUDS_dist'] == 0.0) & (catalog_3DHST.idmap['VUDS_num'] == 1)\n",
    "    non_match_filter   = (catalog_3DHST.idmap['id'] >= 1e7) & (catalog_3DHST.idmap['VUDS'] >= 0) & (catalog_3DHST.idmap['VUDS_dist'] == 0.0) & (catalog_3DHST.idmap['VUDS_num'] == 0)\n",
    "\n",
    "    num_matches = np.sum(value_filter)\n",
    "    num_other_matches = np.sum(other_match_filter)\n",
    "    num_multi_matches = np.sum(multi_match_filter)\n",
    "    num_dup_matches = np.sum(dup_match_filter)\n",
    "    num_non_matches = np.sum(non_match_filter)\n",
    "    print(f\"Number of {catalog_VUDS.name} Redshifts:\")\n",
    "    print(f\"    Matches      : {num_matches} (diff={matches_VUDS.count - num_matches - num_other_matches})\")\n",
    "    print(f\"  + Other matches: {num_other_matches}\")\n",
    "    print(f\"  + Dup-matches  : {num_dup_matches}\")\n",
    "    print(f\"  + Multi-matches: {num_multi_matches}\")\n",
    "    print(f\"  + Non-matches  : {num_non_matches}\")\n",
    "    print(f\"  = Total        : {num_matches + num_other_matches + num_dup_matches + num_multi_matches + num_non_matches} (diff={catalog_VUDS.count - num_matches - num_other_matches - num_dup_matches - num_multi_matches - num_non_matches})\")\n",
    "\n",
    "    zlim_deep = [0, 6]\n",
    "    zlim = [0, 6]\n",
    "\n",
    "    value_filter = (catalog_3DHST.redshift['z_best'] > 0.0) & (catalog_3DHST.redshift['z_VUDS'] > 0.0) & (catalog_3DHST.redshift['z_VUDS_flag'] < 8)\n",
    "    fig, ax = plot.create_plot(plot_mode, title=f\"Match Sources: {catalog_VUDS.catalog} vs {catalog_3DHST.catalog}, N={np.sum(value_filter)}\")\n",
    "    ax.scatter(catalog_3DHST.redshift['z_best'][value_filter], catalog_3DHST.redshift['z_VUDS'][value_filter], s=5, marker='o', edgecolors='none', facecolors=plot_options.fit_data_colour)\n",
    "    ax.set_xlabel(f\"$z_{{peak}}$ [{catalog_3DHST.catalog}]\")\n",
    "    ax.set_ylabel(f\"$z_{{spec}}$ [{catalog_VUDS.catalog}]\")\n",
    "    ax.set_xlim(zlim_deep)\n",
    "    ax.set_ylim(zlim_deep)\n",
    "\n",
    "    fig, ax = plot.create_plot(plot_mode, title=f\"Compare {catalog_VUDS.catalog}\")\n",
    "    if field == 'COSMOS' and matches_ZCB.count > 0:\n",
    "        value_filter = (catalog_3DHST.redshift['z_ZCB'] > 0.0) & (catalog_3DHST.redshift['z_ZCB_flag'] < 8) & (catalog_3DHST.redshift['z_VUDS'] > 0.0) & (catalog_3DHST.redshift['z_VUDS_flag'] < 8)\n",
    "        ax.scatter(catalog_3DHST.redshift['z_ZCB'][value_filter], catalog_3DHST.redshift['z_VUDS'][value_filter], label=f\"ZCB ({np.sum(value_filter)})\", s=5, marker='o', edgecolors='none', facecolors=plot_options.colour2)\n",
    "    if field == 'COSMOS' and matches_ZCD.count > 0:\n",
    "        value_filter = (catalog_3DHST.redshift['z_ZCD'] > 0.0) & (catalog_3DHST.redshift['z_ZCD_flag'] < 8) & (catalog_3DHST.redshift['z_VUDS'] > 0.0) & (catalog_3DHST.redshift['z_VUDS_flag'] < 8)\n",
    "        ax.scatter(catalog_3DHST.redshift['z_ZCD'][value_filter], catalog_3DHST.redshift['z_VUDS'][value_filter], label=f\"ZCD ({np.sum(value_filter)})\", s=5, marker='o', edgecolors='none', facecolors=plot_options.colour3)\n",
    "    ax.set_xlabel('$z_{spec}$ [Other]')\n",
    "    ax.set_ylabel(f\"$z_{{spec}}$ [{catalog_VUDS.catalog}]\")\n",
    "    ax.set_xlim(zlim)\n",
    "    ax.set_ylim(zlim)\n",
    "    ax.legend(loc='lower right')\n",
    "\n",
    "    del zlim_deep, zlim, fig, ax"
   ]
  },
  {
   "cell_type": "code",
   "execution_count": null,
   "metadata": {},
   "outputs": [],
   "source": [
    "if not keep_open and 'catalog_VUDS' in locals():\n",
    "    catalog.close(catalog_VUDS)\n",
    "    del catalog_VUDS, catalog_params_VUDS"
   ]
  },
  {
   "cell_type": "markdown",
   "metadata": {},
   "source": [
    "### Cross-Match Casey DSFG (2017-05-10)"
   ]
  },
  {
   "cell_type": "code",
   "execution_count": null,
   "metadata": {},
   "outputs": [],
   "source": [
    "if field == 'COSMOS' or field == 'GOODS-N' or field == 'UDS':\n",
    "    catalog_params_Casey = catalog.get_params('Casey', field)\n",
    "    catalog_Casey = catalog.read(catalog_params_Casey)\n",
    "    print(f\"{catalog_Casey.catalog}: {catalog_Casey.count} sources\")"
   ]
  },
  {
   "cell_type": "code",
   "execution_count": null,
   "metadata": {},
   "outputs": [],
   "source": [
    "if field == 'COSMOS' or field == 'GOODS-N' or field == 'UDS':\n",
    "    matches_Casey = match.cross_match_catalogs_by_ra_dec(catalog_3DHST, catalog_Casey)\n",
    "    print(f\"Number of Matches: {matches_Casey.count}\")"
   ]
  },
  {
   "cell_type": "code",
   "execution_count": null,
   "metadata": {},
   "outputs": [],
   "source": [
    "if field == 'COSMOS' or field == 'GOODS-N' or field == 'UDS':\n",
    "    match.append_cross_matched_data(matches_Casey, catalog_3DHST, catalog_Casey)"
   ]
  },
  {
   "cell_type": "code",
   "execution_count": null,
   "metadata": {},
   "outputs": [],
   "source": [
    "if (field == 'COSMOS' or field == 'GOODS-N' or field == 'UDS') and matches_Casey.count > 0:\n",
    "    value_filter       = (catalog_3DHST.idmap['id']  < 1e7) & (catalog_3DHST.idmap['Casey'] >= 0)\n",
    "    other_match_filter = (catalog_3DHST.idmap['id'] >= 1e7) & (catalog_3DHST.idmap['Casey'] >= 0) & (catalog_3DHST.idmap['Casey_dist'] > 0.0)\n",
    "    multi_match_filter = (catalog_3DHST.idmap['id'] >= 1e7) & (catalog_3DHST.idmap['Casey'] >= 0) & (catalog_3DHST.idmap['Casey_dist'] == 0.0) & (catalog_3DHST.idmap['Casey_num'] > 1)\n",
    "    dup_match_filter   = (catalog_3DHST.idmap['id'] >= 1e7) & (catalog_3DHST.idmap['Casey'] >= 0) & (catalog_3DHST.idmap['Casey_dist'] == 0.0) & (catalog_3DHST.idmap['Casey_num'] == 1)\n",
    "    non_match_filter   = (catalog_3DHST.idmap['id'] >= 1e7) & (catalog_3DHST.idmap['Casey'] >= 0) & (catalog_3DHST.idmap['Casey_dist'] == 0.0) & (catalog_3DHST.idmap['Casey_num'] == 0)\n",
    "\n",
    "    num_matches = np.sum(value_filter)\n",
    "    num_other_matches = np.sum(other_match_filter)\n",
    "    num_multi_matches = np.sum(multi_match_filter)\n",
    "    num_dup_matches = np.sum(dup_match_filter)\n",
    "    num_non_matches = np.sum(non_match_filter)\n",
    "    print(f\"Number of {catalog_Casey.name} Redshifts:\")\n",
    "    print(f\"    Matches      : {num_matches} (diff={matches_Casey.count - num_matches - num_other_matches})\")\n",
    "    print(f\"  + Other matches: {num_other_matches}\")\n",
    "    print(f\"  + Dup-matches  : {num_dup_matches}\")\n",
    "    print(f\"  + Multi-matches: {num_multi_matches}\")\n",
    "    print(f\"  + Non-matches  : {num_non_matches}\")\n",
    "    print(f\"  = Total        : {num_matches + num_other_matches + num_dup_matches + num_multi_matches + num_non_matches} (diff={catalog_Casey.count - num_matches - num_other_matches - num_dup_matches - num_multi_matches - num_non_matches})\")\n",
    "\n",
    "    zlim_deep = [0, 3.5]\n",
    "    zlim = [0, 1.5]\n",
    "\n",
    "    value_filter = (catalog_3DHST.redshift['z_best'] > 0.0) & (catalog_3DHST.redshift['z_Casey'] > 0.0) & (catalog_3DHST.redshift['z_Casey_flag'] < 8)\n",
    "    fig, ax = plot.create_plot(plot_mode, title=f\"Match Sources: {catalog_Casey.catalog} vs {catalog_3DHST.catalog}, N={np.sum(value_filter)}\")\n",
    "    ax.scatter(catalog_3DHST.redshift['z_best'][value_filter], catalog_3DHST.redshift['z_Casey'][value_filter], s=5, marker='o', edgecolors='none', facecolors=plot_options.fit_data_colour)\n",
    "    ax.set_xlabel(f\"$z_{{peak}}$ [{catalog_3DHST.catalog}]\")\n",
    "    ax.set_ylabel(f\"$z_{{spec}}$ [{catalog_Casey.catalog}]\")\n",
    "    ax.set_xlim(zlim_deep)\n",
    "    ax.set_ylim(zlim_deep)\n",
    "\n",
    "    fig, ax = plot.create_plot(plot_mode, title=f\"Compare {catalog_Casey.catalog}\")\n",
    "    if field == 'COSMOS' and matches_ZCB.count > 0:\n",
    "        value_filter = (catalog_3DHST.redshift['z_ZCB'] > 0.0) & (catalog_3DHST.redshift['z_ZCB_flag'] < 8) & (catalog_3DHST.redshift['z_Casey'] > 0.0) & (catalog_3DHST.redshift['z_Casey_flag'] < 8)\n",
    "        ax.scatter(catalog_3DHST.redshift['z_ZCB'][value_filter], catalog_3DHST.redshift['z_Casey'][value_filter], label=f\"ZCB ({np.sum(value_filter)})\", s=5, marker='o', edgecolors='none', facecolors=plot_options.colour2)\n",
    "    if field == 'COSMOS' and matches_ZCD.count > 0:\n",
    "        value_filter = (catalog_3DHST.redshift['z_ZCD'] > 0.0) & (catalog_3DHST.redshift['z_ZCD_flag'] < 8) & (catalog_3DHST.redshift['z_Casey'] > 0.0) & (catalog_3DHST.redshift['z_Casey_flag'] < 8)\n",
    "        ax.scatter(catalog_3DHST.redshift['z_ZCD'][value_filter], catalog_3DHST.redshift['z_Casey'][value_filter], label=f\"ZCD ({np.sum(value_filter)})\", s=5, marker='o', edgecolors='none', facecolors=plot_options.colour3)\n",
    "    if (field == 'COSMOS' or field == 'GOODS-S') and matches_VUDS.count > 0:\n",
    "        value_filter = (catalog_3DHST.redshift['z_VUDS'] > 0.0) & (catalog_3DHST.redshift['z_VUDS_flag'] < 8) & (catalog_3DHST.redshift['z_Casey'] > 0.0) & (catalog_3DHST.redshift['z_Casey_flag'] < 8)\n",
    "        ax.scatter(catalog_3DHST.redshift['z_VUDS'][value_filter], catalog_3DHST.redshift['z_Casey'][value_filter], label=f\"VUDS ({np.sum(value_filter)})\", s=5, marker='o', edgecolors='none', facecolors=plot_options.colour5)\n",
    "    ax.set_xlabel('$z_{spec}$ [Other]')\n",
    "    ax.set_ylabel(f\"$z_{{spec}}$ [{catalog_Casey.catalog}]\")\n",
    "    ax.set_xlim(zlim)\n",
    "    ax.set_ylim(zlim)\n",
    "    ax.legend(loc='lower right')\n",
    "\n",
    "    del zlim_deep, zlim, fig, ax"
   ]
  },
  {
   "cell_type": "code",
   "execution_count": null,
   "metadata": {},
   "outputs": [],
   "source": [
    "if not keep_open and 'catalog_Casey' in locals():\n",
    "    catalog.close(catalog_Casey)\n",
    "    del catalog_Casey, catalog_params_Casey"
   ]
  },
  {
   "cell_type": "markdown",
   "metadata": {},
   "source": [
    "### Cross-Match DEIMOS 10K (2017-12-27)"
   ]
  },
  {
   "cell_type": "code",
   "execution_count": null,
   "metadata": {},
   "outputs": [],
   "source": [
    "if field == 'COSMOS':\n",
    "    catalog_params_DEIMOS = catalog.get_params('DEIMOS')\n",
    "    catalog_DEIMOS = catalog.read(catalog_params_DEIMOS)\n",
    "    print(f\"{catalog_DEIMOS.catalog}: {catalog_DEIMOS.count} sources\")"
   ]
  },
  {
   "cell_type": "code",
   "execution_count": null,
   "metadata": {},
   "outputs": [],
   "source": [
    "if field == 'COSMOS':\n",
    "    matches_DEIMOS = match.cross_match_catalogs_by_ra_dec(catalog_3DHST, catalog_DEIMOS)\n",
    "    print(f\"Number of Matches: {matches_DEIMOS.count}\")"
   ]
  },
  {
   "cell_type": "code",
   "execution_count": null,
   "metadata": {},
   "outputs": [],
   "source": [
    "if field == 'COSMOS':\n",
    "    match.append_cross_matched_data(matches_DEIMOS, catalog_3DHST, catalog_DEIMOS)"
   ]
  },
  {
   "cell_type": "code",
   "execution_count": null,
   "metadata": {},
   "outputs": [],
   "source": [
    "if field == 'COSMOS' and matches_DEIMOS.count > 0:\n",
    "    value_filter       = (catalog_3DHST.idmap['id']  < 1e7) & (catalog_3DHST.idmap['DEIMOS'] >= 0)\n",
    "    other_match_filter = (catalog_3DHST.idmap['id'] >= 1e7) & (catalog_3DHST.idmap['DEIMOS'] >= 0) & (catalog_3DHST.idmap['DEIMOS_dist'] > 0.0)\n",
    "    multi_match_filter = (catalog_3DHST.idmap['id'] >= 1e7) & (catalog_3DHST.idmap['DEIMOS'] >= 0) & (catalog_3DHST.idmap['DEIMOS_dist'] == 0.0) & (catalog_3DHST.idmap['DEIMOS_num'] > 1)\n",
    "    dup_match_filter   = (catalog_3DHST.idmap['id'] >= 1e7) & (catalog_3DHST.idmap['DEIMOS'] >= 0) & (catalog_3DHST.idmap['DEIMOS_dist'] == 0.0) & (catalog_3DHST.idmap['DEIMOS_num'] == 1)\n",
    "    non_match_filter   = (catalog_3DHST.idmap['id'] >= 1e7) & (catalog_3DHST.idmap['DEIMOS'] >= 0) & (catalog_3DHST.idmap['DEIMOS_dist'] == 0.0) & (catalog_3DHST.idmap['DEIMOS_num'] == 0)\n",
    "\n",
    "    num_matches = np.sum(value_filter)\n",
    "    num_other_matches = np.sum(other_match_filter)\n",
    "    num_multi_matches = np.sum(multi_match_filter)\n",
    "    num_dup_matches = np.sum(dup_match_filter)\n",
    "    num_non_matches = np.sum(non_match_filter)\n",
    "    print(f\"Number of {catalog_DEIMOS.name} Redshifts:\")\n",
    "    print(f\"    Matches      : {num_matches} (diff={matches_DEIMOS.count - num_matches - num_other_matches})\")\n",
    "    print(f\"  + Other matches: {num_other_matches}\")\n",
    "    print(f\"  + Dup-matches  : {num_dup_matches}\")\n",
    "    print(f\"  + Multi-matches: {num_multi_matches}\")\n",
    "    print(f\"  + Non-matches  : {num_non_matches}\")\n",
    "    print(f\"  = Total        : {num_matches + num_other_matches + num_dup_matches + num_multi_matches + num_non_matches} (diff={catalog_DEIMOS.count - num_matches - num_other_matches - num_dup_matches - num_multi_matches - num_non_matches})\")\n",
    "\n",
    "    zlim_deep = [0, 6]\n",
    "    zlim = [0, 6]\n",
    "\n",
    "    value_filter = (catalog_3DHST.redshift['z_best'] > 0.0) & (catalog_3DHST.redshift['z_DEIMOS'] > 0.0) & (catalog_3DHST.redshift['z_DEIMOS_flag'] < 8)\n",
    "    fig, ax = plot.create_plot(plot_mode, title=f\"Match Sources: {catalog_DEIMOS.catalog} vs {catalog_3DHST.catalog}, N={np.sum(value_filter)}\")\n",
    "    ax.scatter(catalog_3DHST.redshift['z_best'][value_filter], catalog_3DHST.redshift['z_DEIMOS'][value_filter], s=5, marker='o', edgecolors='none', facecolors=plot_options.fit_data_colour)\n",
    "    ax.set_xlabel(f\"$z_{{peak}}$ [{catalog_3DHST.catalog}]\")\n",
    "    ax.set_ylabel(f\"$z_{{spec}}$ [{catalog_DEIMOS.catalog}]\")\n",
    "    ax.set_xlim(zlim_deep)\n",
    "    ax.set_ylim(zlim_deep)\n",
    "\n",
    "    fig, ax = plot.create_plot(plot_mode, title=f\"Compare {catalog_DEIMOS.catalog}\")\n",
    "    if field == 'COSMOS' and matches_ZCB.count > 0:\n",
    "        value_filter = (catalog_3DHST.redshift['z_ZCB'] > 0.0) & (catalog_3DHST.redshift['z_ZCB_flag'] < 8) & (catalog_3DHST.redshift['z_DEIMOS'] > 0.0) & (catalog_3DHST.redshift['z_DEIMOS_flag'] < 8)\n",
    "        ax.scatter(catalog_3DHST.redshift['z_ZCB'][value_filter], catalog_3DHST.redshift['z_DEIMOS'][value_filter], label=f\"ZCB ({np.sum(value_filter)})\", s=5, marker='o', edgecolors='none', facecolors=plot_options.colour2)\n",
    "    if field == 'COSMOS' and matches_ZCD.count > 0:\n",
    "        value_filter = (catalog_3DHST.redshift['z_ZCD'] > 0.0) & (catalog_3DHST.redshift['z_ZCD_flag'] < 8) & (catalog_3DHST.redshift['z_DEIMOS'] > 0.0) & (catalog_3DHST.redshift['z_DEIMOS_flag'] < 8)\n",
    "        ax.scatter(catalog_3DHST.redshift['z_ZCD'][value_filter], catalog_3DHST.redshift['z_DEIMOS'][value_filter], label=f\"ZCD ({np.sum(value_filter)})\", s=5, marker='o', edgecolors='none', facecolors=plot_options.colour3)\n",
    "    if (field == 'COSMOS' or field == 'GOODS-S') and matches_VUDS.count > 0:\n",
    "        value_filter = (catalog_3DHST.redshift['z_VUDS'] > 0.0) & (catalog_3DHST.redshift['z_VUDS_flag'] < 8) & (catalog_3DHST.redshift['z_DEIMOS'] > 0.0) & (catalog_3DHST.redshift['z_DEIMOS_flag'] < 8)\n",
    "        ax.scatter(catalog_3DHST.redshift['z_VUDS'][value_filter], catalog_3DHST.redshift['z_DEIMOS'][value_filter], label=f\"VUDS ({np.sum(value_filter)})\", s=5, marker='o', edgecolors='none', facecolors=plot_options.colour5)\n",
    "    if (field == 'COSMOS' or field == 'GOODS-N' or field == 'UDS') and matches_Casey.count > 0:\n",
    "        value_filter = (catalog_3DHST.redshift['z_Casey'] > 0.0) & (catalog_3DHST.redshift['z_Casey_flag'] < 8) & (catalog_3DHST.redshift['z_DEIMOS'] > 0.0) & (catalog_3DHST.redshift['z_DEIMOS_flag'] < 8)\n",
    "        ax.scatter(catalog_3DHST.redshift['z_Casey'][value_filter], catalog_3DHST.redshift['z_DEIMOS'][value_filter], label=f\"Casey ({np.sum(value_filter)})\", s=5, marker='o', edgecolors='none', facecolors=plot_options.colour6)\n",
    "    ax.set_xlabel('$z_{spec}$ [Other]')\n",
    "    ax.set_ylabel(f\"$z_{{spec}}$ [{catalog_DEIMOS.catalog}]\")\n",
    "    ax.set_xlim(zlim)\n",
    "    ax.set_ylim(zlim)\n",
    "    ax.legend(loc='lower right')\n",
    "\n",
    "    del zlim_deep, zlim, fig, ax"
   ]
  },
  {
   "cell_type": "code",
   "execution_count": null,
   "metadata": {},
   "outputs": [],
   "source": [
    "if not keep_open and 'catalog_DEIMOS' in locals():\n",
    "    catalog.close(catalog_DEIMOS)\n",
    "    del catalog_DEIMOS, catalog_params_DEIMOS"
   ]
  },
  {
   "cell_type": "markdown",
   "metadata": {},
   "source": [
    "### Cross-Match MOSDEF (Final, 2018-03-11)"
   ]
  },
  {
   "cell_type": "code",
   "execution_count": null,
   "metadata": {},
   "outputs": [],
   "source": [
    "if field == 'AEGIS' or field == 'COSMOS' or field == 'GOODS-N' or field == 'GOODS-S' or field == 'UDS':\n",
    "    catalog_params_MOSDEF = catalog.get_params('MOSDEF', field)\n",
    "    catalog_MOSDEF = catalog.read(catalog_params_MOSDEF)\n",
    "    print(f\"{catalog_MOSDEF.catalog}: {catalog_MOSDEF.count} sources\")"
   ]
  },
  {
   "cell_type": "code",
   "execution_count": null,
   "metadata": {},
   "outputs": [],
   "source": [
    "if field == 'AEGIS' or field == 'COSMOS' or field == 'GOODS-N' or field == 'GOODS-S' or field == 'UDS':\n",
    "    matches_MOSDEF = match.cross_match_catalogs_by_id(catalog_3DHST, catalog_MOSDEF, id_field2='ID_V4')\n",
    "    print(f\"Number of Matches: {matches_MOSDEF.count}\")"
   ]
  },
  {
   "cell_type": "code",
   "execution_count": null,
   "metadata": {},
   "outputs": [],
   "source": [
    "if field == 'AEGIS' or field == 'COSMOS' or field == 'GOODS-N' or field == 'GOODS-S' or field == 'UDS':\n",
    "    match.append_cross_matched_data(matches_MOSDEF, catalog_3DHST, catalog_MOSDEF)"
   ]
  },
  {
   "cell_type": "code",
   "execution_count": null,
   "metadata": {},
   "outputs": [],
   "source": [
    "if (field == 'AEGIS' or field == 'COSMOS' or field == 'GOODS-N' or field == 'GOODS-S' or field == 'UDS') and matches_MOSDEF.count > 0:\n",
    "    value_filter       = (catalog_3DHST.idmap['id']  < 1e7) & (catalog_3DHST.idmap['MOSDEF'] >= 0)\n",
    "    other_match_filter = (catalog_3DHST.idmap['id'] >= 1e7) & (catalog_3DHST.idmap['MOSDEF'] >= 0) & (catalog_3DHST.idmap['MOSDEF_dist'] > 0.0)\n",
    "    multi_match_filter = (catalog_3DHST.idmap['id'] >= 1e7) & (catalog_3DHST.idmap['MOSDEF'] >= 0) & (catalog_3DHST.idmap['MOSDEF_dist'] == 0.0) & (catalog_3DHST.idmap['MOSDEF_num'] > 1)\n",
    "    dup_match_filter   = (catalog_3DHST.idmap['id'] >= 1e7) & (catalog_3DHST.idmap['MOSDEF'] >= 0) & (catalog_3DHST.idmap['MOSDEF_dist'] == 0.0) & (catalog_3DHST.idmap['MOSDEF_num'] == 1)\n",
    "    non_match_filter   = (catalog_3DHST.idmap['id'] >= 1e7) & (catalog_3DHST.idmap['MOSDEF'] >= 0) & (catalog_3DHST.idmap['MOSDEF_dist'] == 0.0) & (catalog_3DHST.idmap['MOSDEF_num'] == 0)\n",
    "\n",
    "    num_matches = np.sum(value_filter)\n",
    "    num_other_matches = np.sum(other_match_filter)\n",
    "    num_multi_matches = np.sum(multi_match_filter)\n",
    "    num_dup_matches = np.sum(dup_match_filter)\n",
    "    num_non_matches = np.sum(non_match_filter)\n",
    "    print(f\"Number of {catalog_MOSDEF.name} Redshifts:\")\n",
    "    print(f\"    Matches      : {num_matches} (diff={matches_MOSDEF.count - num_matches - num_other_matches})\")\n",
    "    print(f\"  + Other matches: {num_other_matches}\")\n",
    "    print(f\"  + Dup-matches  : {num_dup_matches}\")\n",
    "    print(f\"  + Multi-matches: {num_multi_matches}\")\n",
    "    print(f\"  + Non-matches  : {num_non_matches}\")\n",
    "    print(f\"  = Total        : {num_matches + num_other_matches + num_dup_matches + num_multi_matches + num_non_matches} (diff={catalog_MOSDEF.count - num_matches - num_other_matches - num_dup_matches - num_multi_matches - num_non_matches})\")\n",
    "\n",
    "    zlim_deep = [0, 4]\n",
    "    zlim = [0, 4]\n",
    "\n",
    "    value_filter = (catalog_3DHST.redshift['z_best'] > 0.0) & (catalog_3DHST.redshift['z_MOSDEF'] > 0.0) & (catalog_3DHST.redshift['z_MOSDEF_flag'] < 8)\n",
    "    fig, ax = plot.create_plot(plot_mode, title=f\"Match Sources: {catalog_MOSDEF.catalog} vs {catalog_3DHST.catalog}, N={np.sum(value_filter)}\")\n",
    "    ax.scatter(catalog_3DHST.redshift['z_best'][value_filter], catalog_3DHST.redshift['z_MOSDEF'][value_filter], s=5, marker='o', edgecolors='none', facecolors=plot_options.fit_data_colour)\n",
    "    ax.set_xlabel(f\"$z_{{peak}}$ [{catalog_3DHST.catalog}]\")\n",
    "    ax.set_ylabel(f\"$z_{{spec}}$ [{catalog_MOSDEF.catalog}]\")\n",
    "    ax.set_xlim(zlim_deep)\n",
    "    ax.set_ylim(zlim_deep)\n",
    "\n",
    "    fig, ax = plot.create_plot(plot_mode, title=f\"Compare {catalog_MOSDEF.catalog}\")\n",
    "    if field == 'COSMOS' and matches_ZCB.count > 0:\n",
    "        value_filter = (catalog_3DHST.redshift['z_ZCB'] > 0.0) & (catalog_3DHST.redshift['z_ZCB_flag'] < 8) & (catalog_3DHST.redshift['z_MOSDEF'] > 0.0) & (catalog_3DHST.redshift['z_MOSDEF_flag'] < 8)\n",
    "        ax.scatter(catalog_3DHST.redshift['z_ZCB'][value_filter], catalog_3DHST.redshift['z_MOSDEF'][value_filter], label=f\"ZCB ({np.sum(value_filter)})\", s=5, marker='o', edgecolors='none', facecolors=plot_options.colour2)\n",
    "    if field == 'COSMOS' and matches_ZCD.count > 0:\n",
    "        value_filter = (catalog_3DHST.redshift['z_ZCD'] > 0.0) & (catalog_3DHST.redshift['z_ZCD_flag'] < 8) & (catalog_3DHST.redshift['z_MOSDEF'] > 0.0) & (catalog_3DHST.redshift['z_MOSDEF_flag'] < 8)\n",
    "        ax.scatter(catalog_3DHST.redshift['z_ZCD'][value_filter], catalog_3DHST.redshift['z_MOSDEF'][value_filter], label=f\"ZCD ({np.sum(value_filter)})\", s=5, marker='o', edgecolors='none', facecolors=plot_options.colour3)\n",
    "    if (field == 'COSMOS' or field == 'GOODS-S') and matches_VUDS.count > 0:\n",
    "        value_filter = (catalog_3DHST.redshift['z_VUDS'] > 0.0) & (catalog_3DHST.redshift['z_VUDS_flag'] < 8) & (catalog_3DHST.redshift['z_MOSDEF'] > 0.0) & (catalog_3DHST.redshift['z_MOSDEF_flag'] < 8)\n",
    "        ax.scatter(catalog_3DHST.redshift['z_VUDS'][value_filter], catalog_3DHST.redshift['z_MOSDEF'][value_filter], label=f\"VUDS ({np.sum(value_filter)})\", s=5, marker='o', edgecolors='none', facecolors=plot_options.colour5)\n",
    "    if (field == 'COSMOS' or field == 'GOODS-N' or field == 'UDS') and matches_Casey.count > 0:\n",
    "        value_filter = (catalog_3DHST.redshift['z_Casey'] > 0.0) & (catalog_3DHST.redshift['z_Casey_flag'] < 8) & (catalog_3DHST.redshift['z_MOSDEF'] > 0.0) & (catalog_3DHST.redshift['z_MOSDEF_flag'] < 8)\n",
    "        ax.scatter(catalog_3DHST.redshift['z_Casey'][value_filter], catalog_3DHST.redshift['z_MOSDEF'][value_filter], label=f\"Casey ({np.sum(value_filter)})\", s=5, marker='o', edgecolors='none', facecolors=plot_options.colour6)\n",
    "    if field == 'COSMOS' and matches_DEIMOS.count > 0:\n",
    "        value_filter = (catalog_3DHST.redshift['z_DEIMOS'] > 0.0) & (catalog_3DHST.redshift['z_DEIMOS_flag'] < 8) & (catalog_3DHST.redshift['z_MOSDEF'] > 0.0) & (catalog_3DHST.redshift['z_MOSDEF_flag'] < 8)\n",
    "        ax.scatter(catalog_3DHST.redshift['z_DEIMOS'][value_filter], catalog_3DHST.redshift['z_MOSDEF'][value_filter], label=f\"DEIMOS ({np.sum(value_filter)})\", s=5, marker='s', edgecolors='none', facecolors=plot_options.colour5)\n",
    "    ax.set_xlabel('$z_{spec}$ [Other]')\n",
    "    ax.set_ylabel(f\"$z_{{spec}}$ [{catalog_MOSDEF.catalog}]\")\n",
    "    ax.set_xlim(zlim)\n",
    "    ax.set_ylim(zlim)\n",
    "    ax.legend(loc='lower right')\n",
    "\n",
    "    del zlim_deep, zlim, fig, ax"
   ]
  },
  {
   "cell_type": "code",
   "execution_count": null,
   "metadata": {},
   "outputs": [],
   "source": [
    "if not keep_open and 'catalog_MOSDEF' in locals():\n",
    "    catalog.close(catalog_MOSDEF)\n",
    "    del catalog_MOSDEF, catalog_params_MOSDEF"
   ]
  },
  {
   "cell_type": "markdown",
   "metadata": {},
   "source": [
    "### Cross-Match FMOS (v2, 2019-01-25)"
   ]
  },
  {
   "cell_type": "code",
   "execution_count": null,
   "metadata": {},
   "outputs": [],
   "source": [
    "if field == 'COSMOS':\n",
    "    catalog_params_FMOS = catalog.get_params('FMOS')\n",
    "    catalog_FMOS = catalog.read(catalog_params_FMOS)\n",
    "    print(f\"{catalog_FMOS.catalog}: {catalog_FMOS.count} sources\")"
   ]
  },
  {
   "cell_type": "code",
   "execution_count": null,
   "metadata": {},
   "outputs": [],
   "source": [
    "if field == 'COSMOS':\n",
    "    matches_FMOS = match.cross_match_catalogs_by_ra_dec(catalog_3DHST, catalog_FMOS)\n",
    "    print(f\"Number of Matches: {matches_FMOS.count}\")"
   ]
  },
  {
   "cell_type": "code",
   "execution_count": null,
   "metadata": {},
   "outputs": [],
   "source": [
    "if field == 'COSMOS':\n",
    "    match.append_cross_matched_data(matches_FMOS, catalog_3DHST, catalog_FMOS)"
   ]
  },
  {
   "cell_type": "code",
   "execution_count": null,
   "metadata": {},
   "outputs": [],
   "source": [
    "if field == 'COSMOS' and matches_FMOS.count > 0:\n",
    "    value_filter       = (catalog_3DHST.idmap['id']  < 1e7) & (catalog_3DHST.idmap['FMOS'] >= 0)\n",
    "    other_match_filter = (catalog_3DHST.idmap['id'] >= 1e7) & (catalog_3DHST.idmap['FMOS'] >= 0) & (catalog_3DHST.idmap['FMOS_dist'] > 0.0)\n",
    "    multi_match_filter = (catalog_3DHST.idmap['id'] >= 1e7) & (catalog_3DHST.idmap['FMOS'] >= 0) & (catalog_3DHST.idmap['FMOS_dist'] == 0.0) & (catalog_3DHST.idmap['FMOS_num'] > 1)\n",
    "    dup_match_filter   = (catalog_3DHST.idmap['id'] >= 1e7) & (catalog_3DHST.idmap['FMOS'] >= 0) & (catalog_3DHST.idmap['FMOS_dist'] == 0.0) & (catalog_3DHST.idmap['FMOS_num'] == 1)\n",
    "    non_match_filter   = (catalog_3DHST.idmap['id'] >= 1e7) & (catalog_3DHST.idmap['FMOS'] >= 0) & (catalog_3DHST.idmap['FMOS_dist'] == 0.0) & (catalog_3DHST.idmap['FMOS_num'] == 0)\n",
    "\n",
    "    num_matches = np.sum(value_filter)\n",
    "    num_other_matches = np.sum(other_match_filter)\n",
    "    num_multi_matches = np.sum(multi_match_filter)\n",
    "    num_dup_matches = np.sum(dup_match_filter)\n",
    "    num_non_matches = np.sum(non_match_filter)\n",
    "    print(f\"Number of {catalog_FMOS.name} Redshifts:\")\n",
    "    print(f\"    Matches      : {num_matches} (diff={matches_FMOS.count - num_matches - num_other_matches})\")\n",
    "    print(f\"  + Other matches: {num_other_matches}\")\n",
    "    print(f\"  + Dup-matches  : {num_dup_matches}\")\n",
    "    print(f\"  + Multi-matches: {num_multi_matches}\")\n",
    "    print(f\"  + Non-matches  : {num_non_matches}\")\n",
    "    print(f\"  = Total        : {num_matches + num_other_matches + num_dup_matches + num_multi_matches + num_non_matches} (diff={catalog_FMOS.count - num_matches - num_other_matches - num_dup_matches - num_multi_matches - num_non_matches})\")\n",
    "\n",
    "    zlim_deep = [0, 3]\n",
    "    zlim = [0, 4]\n",
    "\n",
    "    value_filter = (catalog_3DHST.redshift['z_best'] > 0.0) & (catalog_3DHST.redshift['z_FMOS'] > 0.0) & (catalog_3DHST.redshift['z_FMOS_flag'] < 8)\n",
    "    fig, ax = plot.create_plot(plot_mode, title=f\"Match Sources: {catalog_FMOS.catalog} vs {catalog_3DHST.catalog}, N={np.sum(value_filter)}\")\n",
    "    ax.scatter(catalog_3DHST.redshift['z_best'][value_filter], catalog_3DHST.redshift['z_FMOS'][value_filter], s=5, marker='o', edgecolors='none', facecolors=plot_options.fit_data_colour)\n",
    "    ax.set_xlabel(f\"$z_{{peak}}$ [{catalog_3DHST.catalog}]\")\n",
    "    ax.set_ylabel(f\"$z_{{spec}}$ [{catalog_FMOS.catalog}]\")\n",
    "    ax.set_xlim(zlim_deep)\n",
    "    ax.set_ylim(zlim_deep)\n",
    "\n",
    "    fig, ax = plot.create_plot(plot_mode, title=f\"Compare {catalog_FMOS.catalog}\")\n",
    "    if field == 'COSMOS' and matches_ZCB.count > 0:\n",
    "        value_filter = (catalog_3DHST.redshift['z_ZCB'] > 0.0) & (catalog_3DHST.redshift['z_ZCB_flag'] < 8) & (catalog_3DHST.redshift['z_FMOS'] > 0.0) & (catalog_3DHST.redshift['z_FMOS_flag'] < 8)\n",
    "        ax.scatter(catalog_3DHST.redshift['z_ZCB'][value_filter], catalog_3DHST.redshift['z_FMOS'][value_filter], label=f\"ZCB ({np.sum(value_filter)})\", s=5, marker='o', edgecolors='none', facecolors=plot_options.colour2)\n",
    "    if field == 'COSMOS' and matches_ZCD.count > 0:\n",
    "        value_filter = (catalog_3DHST.redshift['z_ZCD'] > 0.0) & (catalog_3DHST.redshift['z_ZCD_flag'] < 8) & (catalog_3DHST.redshift['z_FMOS'] > 0.0) & (catalog_3DHST.redshift['z_FMOS_flag'] < 8)\n",
    "        ax.scatter(catalog_3DHST.redshift['z_ZCD'][value_filter], catalog_3DHST.redshift['z_FMOS'][value_filter], label=f\"ZCD ({np.sum(value_filter)})\", s=5, marker='o', edgecolors='none', facecolors=plot_options.colour3)\n",
    "    if (field == 'COSMOS' or field == 'GOODS-S') and matches_VUDS.count > 0:\n",
    "        value_filter = (catalog_3DHST.redshift['z_VUDS'] > 0.0) & (catalog_3DHST.redshift['z_VUDS_flag'] < 8) & (catalog_3DHST.redshift['z_FMOS'] > 0.0) & (catalog_3DHST.redshift['z_FMOS_flag'] < 8)\n",
    "        ax.scatter(catalog_3DHST.redshift['z_VUDS'][value_filter], catalog_3DHST.redshift['z_FMOS'][value_filter], label=f\"VUDS ({np.sum(value_filter)})\", s=5, marker='o', edgecolors='none', facecolors=plot_options.colour5)\n",
    "    if (field == 'COSMOS' or field == 'GOODS-N' or field == 'UDS') and matches_Casey.count > 0:\n",
    "        value_filter = (catalog_3DHST.redshift['z_Casey'] > 0.0) & (catalog_3DHST.redshift['z_Casey_flag'] < 8) & (catalog_3DHST.redshift['z_FMOS'] > 0.0) & (catalog_3DHST.redshift['z_FMOS_flag'] < 8)\n",
    "        ax.scatter(catalog_3DHST.redshift['z_Casey'][value_filter], catalog_3DHST.redshift['z_FMOS'][value_filter], label=f\"Casey ({np.sum(value_filter)})\", s=5, marker='o', edgecolors='none', facecolors=plot_options.colour6)\n",
    "    if field == 'COSMOS' and matches_DEIMOS.count > 0:\n",
    "        value_filter = (catalog_3DHST.redshift['z_DEIMOS'] > 0.0) & (catalog_3DHST.redshift['z_DEIMOS_flag'] < 8) & (catalog_3DHST.redshift['z_FMOS'] > 0.0) & (catalog_3DHST.redshift['z_FMOS_flag'] < 8)\n",
    "        ax.scatter(catalog_3DHST.redshift['z_DEIMOS'][value_filter], catalog_3DHST.redshift['z_FMOS'][value_filter], label=f\"DEIMOS ({np.sum(value_filter)})\", s=5, marker='s', edgecolors='none', facecolors=plot_options.colour5)\n",
    "    if (field == 'AEGIS' or field == 'COSMOS' or field == 'GOODS-N' or field == 'GOODS-S' or field == 'UDS') and matches_MOSDEF.count > 0:\n",
    "        value_filter = (catalog_3DHST.redshift['z_MOSDEF'] > 0.0) & (catalog_3DHST.redshift['z_MOSDEF_flag'] < 8) & (catalog_3DHST.redshift['z_FMOS'] > 0.0) & (catalog_3DHST.redshift['z_FMOS_flag'] < 8)\n",
    "        ax.scatter(catalog_3DHST.redshift['z_MOSDEF'][value_filter], catalog_3DHST.redshift['z_FMOS'][value_filter], label=f\"MOSDEF ({np.sum(value_filter)})\", s=5, marker='s', edgecolors='none', facecolors=plot_options.colour4)\n",
    "    ax.set_xlabel('$z_{spec}$ [Other]')\n",
    "    ax.set_ylabel(f\"$z_{{spec}}$ [{catalog_FMOS.catalog}]\")\n",
    "    ax.set_xlim(zlim)\n",
    "    ax.set_ylim(zlim)\n",
    "    ax.legend(loc='lower right')\n",
    "\n",
    "    del zlim_deep, zlim, fig, ax"
   ]
  },
  {
   "cell_type": "code",
   "execution_count": null,
   "metadata": {},
   "outputs": [],
   "source": [
    "if not keep_open and 'catalog_FMOS' in locals():\n",
    "    catalog.close(catalog_FMOS)\n",
    "    del catalog_FMOS, catalog_params_FMOS"
   ]
  },
  {
   "cell_type": "markdown",
   "metadata": {},
   "source": [
    "### Cross-Match KMOS3D (2019-07-12)"
   ]
  },
  {
   "cell_type": "code",
   "execution_count": null,
   "metadata": {},
   "outputs": [],
   "source": [
    "if field == 'COSMOS' or field == 'GOODS-S' or field == 'UDS':\n",
    "    catalog_params_KMOS3D = catalog.get_params('KMOS3D', field)\n",
    "    catalog_KMOS3D = catalog.read(catalog_params_KMOS3D)\n",
    "    print(f\"{catalog_KMOS3D.catalog}: {catalog_KMOS3D.count} sources\")"
   ]
  },
  {
   "cell_type": "code",
   "execution_count": null,
   "metadata": {},
   "outputs": [],
   "source": [
    "if field == 'COSMOS' or field == 'GOODS-S' or field == 'UDS':\n",
    "    matches_KMOS3D = match.cross_match_catalogs_by_id(catalog_3DHST, catalog_KMOS3D)\n",
    "    print(f\"Number of Matches: {matches_KMOS3D.count}\")"
   ]
  },
  {
   "cell_type": "code",
   "execution_count": null,
   "metadata": {},
   "outputs": [],
   "source": [
    "if field == 'COSMOS' or field == 'GOODS-S' or field == 'UDS':\n",
    "    match.append_cross_matched_data(matches_KMOS3D, catalog_3DHST, catalog_KMOS3D)"
   ]
  },
  {
   "cell_type": "code",
   "execution_count": null,
   "metadata": {},
   "outputs": [],
   "source": [
    "if (field == 'COSMOS' or field == 'GOODS-S' or field == 'UDS') and matches_KMOS3D.count > 0:\n",
    "    value_filter       = (catalog_3DHST.idmap['id']  < 1e7) & (catalog_3DHST.idmap['KMOS3D'] >= 0)\n",
    "    other_match_filter = (catalog_3DHST.idmap['id'] >= 1e7) & (catalog_3DHST.idmap['KMOS3D'] >= 0) & (catalog_3DHST.idmap['KMOS3D_dist']  > 0.0)\n",
    "    multi_match_filter = (catalog_3DHST.idmap['id'] >= 1e7) & (catalog_3DHST.idmap['KMOS3D'] >= 0) & (catalog_3DHST.idmap['KMOS3D_dist'] == 0.0) & (catalog_3DHST.idmap['KMOS3D_num'] > 1)\n",
    "    dup_match_filter   = (catalog_3DHST.idmap['id'] >= 1e7) & (catalog_3DHST.idmap['KMOS3D'] >= 0) & (catalog_3DHST.idmap['KMOS3D_dist'] == 0.0) & (catalog_3DHST.idmap['KMOS3D_num'] == 1)\n",
    "    non_match_filter   = (catalog_3DHST.idmap['id'] >= 1e7) & (catalog_3DHST.idmap['KMOS3D'] >= 0) & (catalog_3DHST.idmap['KMOS3D_dist'] == 0.0) & (catalog_3DHST.idmap['KMOS3D_num'] == 0)\n",
    "\n",
    "    num_matches = np.sum(value_filter)\n",
    "    num_other_matches = np.sum(other_match_filter)\n",
    "    num_multi_matches = np.sum(multi_match_filter)\n",
    "    num_dup_matches = np.sum(dup_match_filter)\n",
    "    num_non_matches = np.sum(non_match_filter)\n",
    "    print(f\"Number of {catalog_KMOS3D.name} Redshifts:\")\n",
    "    print(f\"    Matches      : {num_matches} (diff={matches_KMOS3D.count - num_matches - num_other_matches})\")\n",
    "    print(f\"  + Other matches: {num_other_matches}\")\n",
    "    print(f\"  + Dup-matches  : {num_dup_matches}\")\n",
    "    print(f\"  + Multi-matches: {num_multi_matches}\")\n",
    "    print(f\"  + Non-matches  : {num_non_matches}\")\n",
    "    print(f\"  = Total        : {num_matches + num_other_matches + num_dup_matches + num_multi_matches + num_non_matches} (diff={catalog_KMOS3D.count - num_matches - num_other_matches - num_dup_matches - num_multi_matches - num_non_matches})\")\n",
    "\n",
    "    zlim_deep = [0, 4]\n",
    "    zlim = [0, 3.5]\n",
    "\n",
    "    value_filter = (catalog_3DHST.redshift['z_best'] > 0.0) & (catalog_3DHST.redshift['z_KMOS3D'] > 0.0) & (catalog_3DHST.redshift['z_KMOS3D_flag'] < 8)\n",
    "    fig, ax = plot.create_plot(plot_mode, title=f\"Match Sources: {catalog_KMOS3D.catalog} vs {catalog_3DHST.catalog}, N={np.sum(value_filter)}\")\n",
    "    ax.scatter(catalog_3DHST.redshift['z_best'][value_filter], catalog_3DHST.redshift['z_KMOS3D'][value_filter], s=5, marker='o', edgecolors='none', facecolors=plot_options.fit_data_colour)\n",
    "    ax.set_xlabel(f\"$z_{{peak}}$ [{catalog_3DHST.catalog}]\")\n",
    "    ax.set_ylabel(f\"$z_{{spec}}$ [{catalog_KMOS3D.catalog}]\")\n",
    "    ax.set_xlim(zlim_deep)\n",
    "    ax.set_ylim(zlim_deep)\n",
    "\n",
    "    fig, ax = plot.create_plot(plot_mode, title=f\"Compare {catalog_KMOS3D.catalog}\")\n",
    "    if field == 'COSMOS' and matches_ZCB.count > 0:\n",
    "        value_filter = (catalog_3DHST.redshift['z_ZCB'] > 0.0) & (catalog_3DHST.redshift['z_ZCB_flag'] < 8) & (catalog_3DHST.redshift['z_KMOS3D'] > 0.0) & (catalog_3DHST.redshift['z_KMOS3D_flag'] < 8)\n",
    "        ax.scatter(catalog_3DHST.redshift['z_ZCB'][value_filter], catalog_3DHST.redshift['z_KMOS3D'][value_filter], label=f\"ZCB ({np.sum(value_filter)})\", s=5, marker='o', edgecolors='none', facecolors=plot_options.colour2)\n",
    "    if field == 'COSMOS' and matches_ZCD.count > 0:\n",
    "        value_filter = (catalog_3DHST.redshift['z_ZCD'] > 0.0) & (catalog_3DHST.redshift['z_ZCD_flag'] < 8) & (catalog_3DHST.redshift['z_KMOS3D'] > 0.0) & (catalog_3DHST.redshift['z_KMOS3D_flag'] < 8)\n",
    "        ax.scatter(catalog_3DHST.redshift['z_ZCD'][value_filter], catalog_3DHST.redshift['z_KMOS3D'][value_filter], label=f\"ZCD ({np.sum(value_filter)})\", s=5, marker='o', edgecolors='none', facecolors=plot_options.colour3)\n",
    "    if (field == 'COSMOS' or field == 'GOODS-S') and matches_VUDS.count > 0:\n",
    "        value_filter = (catalog_3DHST.redshift['z_VUDS'] > 0.0) & (catalog_3DHST.redshift['z_VUDS_flag'] < 8) & (catalog_3DHST.redshift['z_KMOS3D'] > 0.0) & (catalog_3DHST.redshift['z_KMOS3D_flag'] < 8)\n",
    "        ax.scatter(catalog_3DHST.redshift['z_VUDS'][value_filter], catalog_3DHST.redshift['z_KMOS3D'][value_filter], label=f\"VUDS ({np.sum(value_filter)})\", s=5, marker='o', edgecolors='none', facecolors=plot_options.colour5)\n",
    "    if (field == 'COSMOS' or field == 'GOODS-N' or field == 'UDS') and matches_Casey.count > 0:\n",
    "        value_filter = (catalog_3DHST.redshift['z_Casey'] > 0.0) & (catalog_3DHST.redshift['z_Casey_flag'] < 8) & (catalog_3DHST.redshift['z_KMOS3D'] > 0.0) & (catalog_3DHST.redshift['z_KMOS3D_flag'] < 8)\n",
    "        ax.scatter(catalog_3DHST.redshift['z_Casey'][value_filter], catalog_3DHST.redshift['z_KMOS3D'][value_filter], label=f\"Casey ({np.sum(value_filter)})\", s=5, marker='o', edgecolors='none', facecolors=plot_options.colour6)\n",
    "    if field == 'COSMOS' and matches_DEIMOS.count > 0:\n",
    "        value_filter = (catalog_3DHST.redshift['z_DEIMOS'] > 0.0) & (catalog_3DHST.redshift['z_DEIMOS_flag'] < 8) & (catalog_3DHST.redshift['z_KMOS3D'] > 0.0) & (catalog_3DHST.redshift['z_KMOS3D_flag'] < 8)\n",
    "        ax.scatter(catalog_3DHST.redshift['z_DEIMOS'][value_filter], catalog_3DHST.redshift['z_KMOS3D'][value_filter], label=f\"DEIMOS ({np.sum(value_filter)})\", s=5, marker='s', edgecolors='none', facecolors=plot_options.colour5)\n",
    "    if (field == 'AEGIS' or field == 'COSMOS' or field == 'GOODS-N' or field == 'GOODS-S' or field == 'UDS') and matches_MOSDEF.count > 0:\n",
    "        value_filter = (catalog_3DHST.redshift['z_MOSDEF'] > 0.0) & (catalog_3DHST.redshift['z_MOSDEF_flag'] < 8) & (catalog_3DHST.redshift['z_KMOS3D'] > 0.0) & (catalog_3DHST.redshift['z_KMOS3D_flag'] < 8)\n",
    "        ax.scatter(catalog_3DHST.redshift['z_MOSDEF'][value_filter], catalog_3DHST.redshift['z_KMOS3D'][value_filter], label=f\"MOSDEF ({np.sum(value_filter)})\", s=5, marker='s', edgecolors='none', facecolors=plot_options.colour4)\n",
    "    if field == 'COSMOS' and matches_FMOS.count > 0:\n",
    "        value_filter = (catalog_3DHST.redshift['z_FMOS'] > 0.0) & (catalog_3DHST.redshift['z_FMOS_flag'] < 8) & (catalog_3DHST.redshift['z_KMOS3D'] > 0.0) & (catalog_3DHST.redshift['z_KMOS3D_flag'] < 8)\n",
    "        ax.scatter(catalog_3DHST.redshift['z_FMOS'][value_filter], catalog_3DHST.redshift['z_KMOS3D'][value_filter], label=f\"FMOS ({np.sum(value_filter)})\", s=5, marker='s', edgecolors='none', facecolors=plot_options.colour3)\n",
    "    ax.set_xlabel('$z_{spec}$ [Other]')\n",
    "    ax.set_ylabel(f\"$z_{{spec}}$ [{catalog_KMOS3D.catalog}]\")\n",
    "    ax.set_xlim(zlim)\n",
    "    ax.set_ylim(zlim)\n",
    "    ax.legend(loc='lower right')\n",
    "\n",
    "    del zlim_deep, zlim, fig, ax"
   ]
  },
  {
   "cell_type": "code",
   "execution_count": null,
   "metadata": {},
   "outputs": [],
   "source": [
    "if not keep_open and 'catalog_KMOS3D' in locals():\n",
    "    catalog.close(catalog_KMOS3D)\n",
    "    del catalog_KMOS3D, catalog_params_KMOS3D"
   ]
  },
  {
   "cell_type": "markdown",
   "metadata": {},
   "source": [
    "### Cross-Match C3R2 (DR1+DR2, 2019-04-11 + DR3, 2021-06-18)"
   ]
  },
  {
   "cell_type": "code",
   "execution_count": null,
   "metadata": {},
   "outputs": [],
   "source": [
    "if field == 'COSMOS':\n",
    "    catalog_params_C3R2 = catalog.get_params('C3R2', field)\n",
    "    catalog_C3R2 = catalog.read(catalog_params_C3R2)\n",
    "    print(f\"{catalog_C3R2.catalog}: {catalog_C3R2.count} sources\")"
   ]
  },
  {
   "cell_type": "code",
   "execution_count": null,
   "metadata": {},
   "outputs": [],
   "source": [
    "if field == 'COSMOS':\n",
    "    matches_C3R2 = match.cross_match_catalogs_by_ra_dec(catalog_3DHST, catalog_C3R2)\n",
    "    print(f\"Number of Matches: {matches_C3R2.count}\")"
   ]
  },
  {
   "cell_type": "code",
   "execution_count": null,
   "metadata": {},
   "outputs": [],
   "source": [
    "if field == 'COSMOS':\n",
    "    match.append_cross_matched_data(matches_C3R2, catalog_3DHST, catalog_C3R2)"
   ]
  },
  {
   "cell_type": "code",
   "execution_count": null,
   "metadata": {},
   "outputs": [],
   "source": [
    "if field == 'COSMOS' and matches_C3R2.count > 0:\n",
    "    value_filter       = (catalog_3DHST.idmap['id']  < 1e7) & (catalog_3DHST.idmap['C3R2'] >= 0)\n",
    "    other_match_filter = (catalog_3DHST.idmap['id'] >= 1e7) & (catalog_3DHST.idmap['C3R2'] >= 0) & (catalog_3DHST.idmap['C3R2_dist'] > 0.0)\n",
    "    multi_match_filter = (catalog_3DHST.idmap['id'] >= 1e7) & (catalog_3DHST.idmap['C3R2'] >= 0) & (catalog_3DHST.idmap['C3R2_dist'] == 0.0) & (catalog_3DHST.idmap['C3R2_num'] > 1)\n",
    "    dup_match_filter   = (catalog_3DHST.idmap['id'] >= 1e7) & (catalog_3DHST.idmap['C3R2'] >= 0) & (catalog_3DHST.idmap['C3R2_dist'] == 0.0) & (catalog_3DHST.idmap['C3R2_num'] == 1)\n",
    "    non_match_filter   = (catalog_3DHST.idmap['id'] >= 1e7) & (catalog_3DHST.idmap['C3R2'] >= 0) & (catalog_3DHST.idmap['C3R2_dist'] == 0.0) & (catalog_3DHST.idmap['C3R2_num'] == 0)\n",
    "\n",
    "    num_matches = np.sum(value_filter)\n",
    "    num_other_matches = np.sum(other_match_filter)\n",
    "    num_multi_matches = np.sum(multi_match_filter)\n",
    "    num_dup_matches = np.sum(dup_match_filter)\n",
    "    num_non_matches = np.sum(non_match_filter)\n",
    "    print(f\"Number of {catalog_C3R2.name} Redshifts:\")\n",
    "    print(f\"    Matches      : {num_matches} (diff={matches_C3R2.count - num_matches - num_other_matches})\")\n",
    "    print(f\"  + Other matches: {num_other_matches}\")\n",
    "    print(f\"  + Dup-matches  : {num_dup_matches}\")\n",
    "    print(f\"  + Multi-matches: {num_multi_matches}\")\n",
    "    print(f\"  + Non-matches  : {num_non_matches}\")\n",
    "    print(f\"  = Total        : {num_matches + num_other_matches + num_dup_matches + num_multi_matches + num_non_matches} (diff={catalog_C3R2.count - num_matches - num_other_matches - num_dup_matches - num_multi_matches - num_non_matches})\")\n",
    "\n",
    "    zlim_deep = [0, 4]\n",
    "    zlim = [0, 3.5]\n",
    "\n",
    "    value_filter = (catalog_3DHST.redshift['z_best'] > 0.0) & (catalog_3DHST.redshift['z_C3R2'] > 0.0) & (catalog_3DHST.redshift['z_C3R2_flag'] < 8)\n",
    "    fig, ax = plot.create_plot(plot_mode, title=f\"Match Sources: {catalog_C3R2.catalog} vs {catalog_3DHST.catalog}, N={np.sum(value_filter)}\")\n",
    "    ax.scatter(catalog_3DHST.redshift['z_best'][value_filter], catalog_3DHST.redshift['z_C3R2'][value_filter], s=5, marker='o', edgecolors='none', facecolors=plot_options.fit_data_colour)\n",
    "    ax.set_xlabel(f\"$z_{{peak}}$ [{catalog_3DHST.catalog}]\")\n",
    "    ax.set_ylabel(f\"$z_{{spec}}$ [{catalog_C3R2.catalog}]\")\n",
    "    ax.set_xlim(zlim_deep)\n",
    "    ax.set_ylim(zlim_deep)\n",
    "\n",
    "    fig, ax = plot.create_plot(plot_mode, title=f\"Compare {catalog_C3R2.catalog}\")\n",
    "    if field == 'COSMOS' and matches_ZCB.count > 0:\n",
    "        value_filter = (catalog_3DHST.redshift['z_ZCB'] > 0.0) & (catalog_3DHST.redshift['z_ZCB_flag'] < 8) & (catalog_3DHST.redshift['z_C3R2'] > 0.0) & (catalog_3DHST.redshift['z_C3R2_flag'] < 8)\n",
    "        ax.scatter(catalog_3DHST.redshift['z_ZCB'][value_filter], catalog_3DHST.redshift['z_C3R2'][value_filter], label=f\"ZCB ({np.sum(value_filter)})\", s=5, marker='o', edgecolors='none', facecolors=plot_options.colour2)\n",
    "    if field == 'COSMOS' and matches_ZCD.count > 0:\n",
    "        value_filter = (catalog_3DHST.redshift['z_ZCD'] > 0.0) & (catalog_3DHST.redshift['z_ZCD_flag'] < 8) & (catalog_3DHST.redshift['z_C3R2'] > 0.0) & (catalog_3DHST.redshift['z_C3R2_flag'] < 8)\n",
    "        ax.scatter(catalog_3DHST.redshift['z_ZCD'][value_filter], catalog_3DHST.redshift['z_C3R2'][value_filter], label=f\"ZCD ({np.sum(value_filter)})\", s=5, marker='o', edgecolors='none', facecolors=plot_options.colour3)\n",
    "    if (field == 'COSMOS' or field == 'GOODS-S') and matches_VUDS.count > 0:\n",
    "        value_filter = (catalog_3DHST.redshift['z_VUDS'] > 0.0) & (catalog_3DHST.redshift['z_VUDS_flag'] < 8) & (catalog_3DHST.redshift['z_C3R2'] > 0.0) & (catalog_3DHST.redshift['z_C3R2_flag'] < 8)\n",
    "        ax.scatter(catalog_3DHST.redshift['z_VUDS'][value_filter], catalog_3DHST.redshift['z_C3R2'][value_filter], label=f\"VUDS ({np.sum(value_filter)})\", s=5, marker='o', edgecolors='none', facecolors=plot_options.colour5)\n",
    "    if (field == 'COSMOS' or field == 'GOODS-N' or field == 'UDS') and matches_Casey.count > 0:\n",
    "        value_filter = (catalog_3DHST.redshift['z_Casey'] > 0.0) & (catalog_3DHST.redshift['z_Casey_flag'] < 8) & (catalog_3DHST.redshift['z_C3R2'] > 0.0) & (catalog_3DHST.redshift['z_C3R2_flag'] < 8)\n",
    "        ax.scatter(catalog_3DHST.redshift['z_Casey'][value_filter], catalog_3DHST.redshift['z_C3R2'][value_filter], label=f\"Casey ({np.sum(value_filter)})\", s=5, marker='o', edgecolors='none', facecolors=plot_options.colour6)\n",
    "    if field == 'COSMOS' and matches_DEIMOS.count > 0:\n",
    "        value_filter = (catalog_3DHST.redshift['z_DEIMOS'] > 0.0) & (catalog_3DHST.redshift['z_DEIMOS_flag'] < 8) & (catalog_3DHST.redshift['z_C3R2'] > 0.0) & (catalog_3DHST.redshift['z_C3R2_flag'] < 8)\n",
    "        ax.scatter(catalog_3DHST.redshift['z_DEIMOS'][value_filter], catalog_3DHST.redshift['z_C3R2'][value_filter], label=f\"DEIMOS ({np.sum(value_filter)})\", s=5, marker='s', edgecolors='none', facecolors=plot_options.colour5)\n",
    "    if (field == 'AEGIS' or field == 'COSMOS' or field == 'GOODS-N' or field == 'GOODS-S' or field == 'UDS') and matches_MOSDEF.count > 0:\n",
    "        value_filter = (catalog_3DHST.redshift['z_MOSDEF'] > 0.0) & (catalog_3DHST.redshift['z_MOSDEF_flag'] < 8) & (catalog_3DHST.redshift['z_C3R2'] > 0.0) & (catalog_3DHST.redshift['z_C3R2_flag'] < 8)\n",
    "        ax.scatter(catalog_3DHST.redshift['z_MOSDEF'][value_filter], catalog_3DHST.redshift['z_C3R2'][value_filter], label=f\"MOSDEF ({np.sum(value_filter)})\", s=5, marker='s', edgecolors='none', facecolors=plot_options.colour4)\n",
    "    if field == 'COSMOS' and matches_FMOS.count > 0:\n",
    "        value_filter = (catalog_3DHST.redshift['z_FMOS'] > 0.0) & (catalog_3DHST.redshift['z_FMOS_flag'] < 8) & (catalog_3DHST.redshift['z_C3R2'] > 0.0) & (catalog_3DHST.redshift['z_C3R2_flag'] < 8)\n",
    "        ax.scatter(catalog_3DHST.redshift['z_FMOS'][value_filter], catalog_3DHST.redshift['z_C3R2'][value_filter], label=f\"FMOS ({np.sum(value_filter)})\", s=5, marker='s', edgecolors='none', facecolors=plot_options.colour3)\n",
    "    if (field == 'COSMOS' or field == 'GOODS-S' or field == 'UDS') and matches_KMOS3D.count > 0:\n",
    "        value_filter = (catalog_3DHST.redshift['z_KMOS3D'] > 0.0) & (catalog_3DHST.redshift['z_KMOS3D_flag'] < 8) & (catalog_3DHST.redshift['z_C3R2'] > 0.0) & (catalog_3DHST.redshift['z_C3R2_flag'] < 8)\n",
    "        ax.scatter(catalog_3DHST.redshift['z_KMOS3D'][value_filter], catalog_3DHST.redshift['z_C3R2'][value_filter], label=f\"KMOS3D ({np.sum(value_filter)})\", s=5, marker='s', edgecolors='none', facecolors=plot_options.colour3)\n",
    "    ax.set_xlabel('$z_{spec}$ [Other]')\n",
    "    ax.set_ylabel(f\"$z_{{spec}}$ [{catalog_C3R2.catalog}]\")\n",
    "    ax.set_xlim(zlim)\n",
    "    ax.set_ylim(zlim)\n",
    "    ax.legend(loc='lower right')\n",
    "\n",
    "    del zlim_deep, zlim, fig, ax"
   ]
  },
  {
   "cell_type": "code",
   "execution_count": null,
   "metadata": {},
   "outputs": [],
   "source": [
    "if not keep_open and 'catalog_C3R2' in locals():\n",
    "    catalog.close(catalog_C3R2)\n",
    "    del catalog_C3R2, catalog_params_C3R2"
   ]
  },
  {
   "cell_type": "markdown",
   "metadata": {},
   "source": [
    "### Cross-Match LEGA-C (DR3, 2021-08-02)"
   ]
  },
  {
   "cell_type": "code",
   "execution_count": null,
   "metadata": {},
   "outputs": [],
   "source": [
    "if field == 'COSMOS':\n",
    "    catalog_params_LEGAC = catalog.get_params('LEGAC')\n",
    "    catalog_LEGAC = catalog.read(catalog_params_LEGAC)\n",
    "    print(f\"{catalog_LEGAC.catalog}: {catalog_LEGAC.count} sources\")"
   ]
  },
  {
   "cell_type": "code",
   "execution_count": null,
   "metadata": {},
   "outputs": [],
   "source": [
    "if field == 'COSMOS':\n",
    "    matches_LEGAC = match.cross_match_catalogs_by_ra_dec(catalog_3DHST, catalog_LEGAC)\n",
    "    print(f\"Number of Matches: {matches_LEGAC.count}\")"
   ]
  },
  {
   "cell_type": "code",
   "execution_count": null,
   "metadata": {},
   "outputs": [],
   "source": [
    "if field == 'COSMOS':\n",
    "    match.append_cross_matched_data(matches_LEGAC, catalog_3DHST, catalog_LEGAC)"
   ]
  },
  {
   "cell_type": "code",
   "execution_count": null,
   "metadata": {},
   "outputs": [],
   "source": [
    "if field == 'COSMOS' and matches_LEGAC.count > 0:\n",
    "    value_filter       = (catalog_3DHST.idmap['id']  < 1e7) & (catalog_3DHST.idmap['LEGAC'] >= 0)\n",
    "    other_match_filter = (catalog_3DHST.idmap['id'] >= 1e7) & (catalog_3DHST.idmap['LEGAC'] >= 0) & (catalog_3DHST.idmap['LEGAC_dist'] > 0.0)\n",
    "    multi_match_filter = (catalog_3DHST.idmap['id'] >= 1e7) & (catalog_3DHST.idmap['LEGAC'] >= 0) & (catalog_3DHST.idmap['LEGAC_dist'] == 0.0) & (catalog_3DHST.idmap['LEGAC_num'] > 1)\n",
    "    dup_match_filter   = (catalog_3DHST.idmap['id'] >= 1e7) & (catalog_3DHST.idmap['LEGAC'] >= 0) & (catalog_3DHST.idmap['LEGAC_dist'] == 0.0) & (catalog_3DHST.idmap['LEGAC_num'] == 1)\n",
    "    non_match_filter   = (catalog_3DHST.idmap['id'] >= 1e7) & (catalog_3DHST.idmap['LEGAC'] >= 0) & (catalog_3DHST.idmap['LEGAC_dist'] == 0.0) & (catalog_3DHST.idmap['LEGAC_num'] == 0)\n",
    "\n",
    "    num_matches = np.sum(value_filter)\n",
    "    num_other_matches = np.sum(other_match_filter)\n",
    "    num_multi_matches = np.sum(multi_match_filter)\n",
    "    num_dup_matches = np.sum(dup_match_filter)\n",
    "    num_non_matches = np.sum(non_match_filter)\n",
    "    print(f\"Number of {catalog_LEGAC.name} Redshifts:\")\n",
    "    print(f\"    Matches      : {num_matches} (diff={matches_LEGAC.count - num_matches - num_other_matches})\")\n",
    "    print(f\"  + Other matches: {num_other_matches}\")\n",
    "    print(f\"  + Dup-matches  : {num_dup_matches}\")\n",
    "    print(f\"  + Multi-matches: {num_multi_matches}\")\n",
    "    print(f\"  + Non-matches  : {num_non_matches}\")\n",
    "    print(f\"  = Total        : {num_matches + num_other_matches + num_dup_matches + num_multi_matches + num_non_matches} (diff={catalog_LEGAC.count - num_matches - num_other_matches - num_dup_matches - num_multi_matches - num_non_matches})\")\n",
    "\n",
    "    zlim_deep = [0, 3]\n",
    "    zlim = [0, 2]\n",
    "\n",
    "    value_filter = (catalog_3DHST.redshift['z_best'] > 0.0) & (catalog_3DHST.redshift['z_LEGAC'] > 0.0) & (catalog_3DHST.redshift['z_LEGAC_flag'] < 8)\n",
    "    fig, ax = plot.create_plot(plot_mode, title=f\"Match Sources: {catalog_LEGAC.catalog} vs {catalog_3DHST.catalog}, N={np.sum(value_filter)}\")\n",
    "    ax.scatter(catalog_3DHST.redshift['z_best'][value_filter], catalog_3DHST.redshift['z_LEGAC'][value_filter], s=5, marker='o', edgecolors='none', facecolors=plot_options.fit_data_colour)\n",
    "    ax.set_xlabel(f\"$z_{{peak}}$ [{catalog_3DHST.catalog}]\")\n",
    "    ax.set_ylabel(f\"$z_{{spec}}$ [{catalog_LEGAC.catalog}]\")\n",
    "    ax.set_xlim(zlim_deep)\n",
    "    ax.set_ylim(zlim_deep)\n",
    "\n",
    "    fig, ax = plot.create_plot(plot_mode, title=f\"Compare {catalog_LEGAC.catalog}\")\n",
    "    if field == 'COSMOS' and matches_ZCB.count > 0:\n",
    "        value_filter = (catalog_3DHST.redshift['z_ZCB'] > 0.0) & (catalog_3DHST.redshift['z_ZCB_flag'] < 8) & (catalog_3DHST.redshift['z_LEGAC'] > 0.0) & (catalog_3DHST.redshift['z_LEGAC_flag'] < 8)\n",
    "        ax.scatter(catalog_3DHST.redshift['z_ZCB'][value_filter], catalog_3DHST.redshift['z_LEGAC'][value_filter], label=f\"ZCB ({np.sum(value_filter)})\", s=5, marker='o', edgecolors='none', facecolors=plot_options.colour2)\n",
    "    if field == 'COSMOS' and matches_ZCD.count > 0:\n",
    "        value_filter = (catalog_3DHST.redshift['z_ZCD'] > 0.0) & (catalog_3DHST.redshift['z_ZCD_flag'] < 8) & (catalog_3DHST.redshift['z_LEGAC'] > 0.0) & (catalog_3DHST.redshift['z_LEGAC_flag'] < 8)\n",
    "        ax.scatter(catalog_3DHST.redshift['z_ZCD'][value_filter], catalog_3DHST.redshift['z_LEGAC'][value_filter], label=f\"ZCD ({np.sum(value_filter)})\", s=5, marker='o', edgecolors='none', facecolors=plot_options.colour3)\n",
    "    if (field == 'COSMOS' or field == 'GOODS-S') and matches_VUDS.count > 0:\n",
    "        value_filter = (catalog_3DHST.redshift['z_VUDS'] > 0.0) & (catalog_3DHST.redshift['z_VUDS_flag'] < 8) & (catalog_3DHST.redshift['z_LEGAC'] > 0.0) & (catalog_3DHST.redshift['z_LEGAC_flag'] < 8)\n",
    "        ax.scatter(catalog_3DHST.redshift['z_VUDS'][value_filter], catalog_3DHST.redshift['z_LEGAC'][value_filter], label=f\"VUDS ({np.sum(value_filter)})\", s=5, marker='o', edgecolors='none', facecolors=plot_options.colour5)\n",
    "    if (field == 'COSMOS' or field == 'GOODS-N' or field == 'UDS') and matches_Casey.count > 0:\n",
    "        value_filter = (catalog_3DHST.redshift['z_Casey'] > 0.0) & (catalog_3DHST.redshift['z_Casey_flag'] < 8) & (catalog_3DHST.redshift['z_LEGAC'] > 0.0) & (catalog_3DHST.redshift['z_LEGAC_flag'] < 8)\n",
    "        ax.scatter(catalog_3DHST.redshift['z_Casey'][value_filter], catalog_3DHST.redshift['z_LEGAC'][value_filter], label=f\"Casey ({np.sum(value_filter)})\", s=5, marker='o', edgecolors='none', facecolors=plot_options.colour6)\n",
    "    if field == 'COSMOS' and matches_DEIMOS.count > 0:\n",
    "        value_filter = (catalog_3DHST.redshift['z_DEIMOS'] > 0.0) & (catalog_3DHST.redshift['z_DEIMOS_flag'] < 8) & (catalog_3DHST.redshift['z_LEGAC'] > 0.0) & (catalog_3DHST.redshift['z_LEGAC_flag'] < 8)\n",
    "        ax.scatter(catalog_3DHST.redshift['z_DEIMOS'][value_filter], catalog_3DHST.redshift['z_LEGAC'][value_filter], label=f\"DEIMOS ({np.sum(value_filter)})\", s=5, marker='s', edgecolors='none', facecolors=plot_options.colour5)\n",
    "    if (field == 'AEGIS' or field == 'COSMOS' or field == 'GOODS-N' or field == 'GOODS-S' or field == 'UDS') and matches_MOSDEF.count > 0:\n",
    "        value_filter = (catalog_3DHST.redshift['z_MOSDEF'] > 0.0) & (catalog_3DHST.redshift['z_MOSDEF_flag'] < 8) & (catalog_3DHST.redshift['z_LEGAC'] > 0.0) & (catalog_3DHST.redshift['z_LEGAC_flag'] < 8)\n",
    "        ax.scatter(catalog_3DHST.redshift['z_MOSDEF'][value_filter], catalog_3DHST.redshift['z_LEGAC'][value_filter], label=f\"MOSDEF ({np.sum(value_filter)})\", s=5, marker='s', edgecolors='none', facecolors=plot_options.colour4)\n",
    "    if field == 'COSMOS' and matches_FMOS.count > 0:\n",
    "        value_filter = (catalog_3DHST.redshift['z_FMOS'] > 0.0) & (catalog_3DHST.redshift['z_FMOS_flag'] < 8) & (catalog_3DHST.redshift['z_LEGAC'] > 0.0) & (catalog_3DHST.redshift['z_LEGAC_flag'] < 8)\n",
    "        ax.scatter(catalog_3DHST.redshift['z_FMOS'][value_filter], catalog_3DHST.redshift['z_LEGAC'][value_filter], label=f\"FMOS ({np.sum(value_filter)})\", s=5, marker='s', edgecolors='none', facecolors=plot_options.colour3)\n",
    "    if (field == 'COSMOS' or field == 'GOODS-S' or field == 'UDS') and matches_KMOS3D.count > 0:\n",
    "        value_filter = (catalog_3DHST.redshift['z_KMOS3D'] > 0.0) & (catalog_3DHST.redshift['z_KMOS3D_flag'] < 8) & (catalog_3DHST.redshift['z_LEGAC'] > 0.0) & (catalog_3DHST.redshift['z_LEGAC_flag'] < 8)\n",
    "        ax.scatter(catalog_3DHST.redshift['z_KMOS3D'][value_filter], catalog_3DHST.redshift['z_LEGAC'][value_filter], label=f\"KMOS3D ({np.sum(value_filter)})\", s=5, marker='s', edgecolors='none', facecolors=plot_options.colour3)\n",
    "    if field == 'COSMOS' and matches_C3R2.count > 0:\n",
    "        value_filter = (catalog_3DHST.redshift['z_C3R2'] > 0.0) & (catalog_3DHST.redshift['z_C3R2_flag'] < 8) & (catalog_3DHST.redshift['z_LEGAC'] > 0.0) & (catalog_3DHST.redshift['z_LEGAC_flag'] < 8)\n",
    "        ax.scatter(catalog_3DHST.redshift['z_C3R2'][value_filter], catalog_3DHST.redshift['z_LEGAC'][value_filter], label=f\"C3R2 ({np.sum(value_filter)})\", s=5, marker='s', edgecolors='none', facecolors=plot_options.colour2)\n",
    "    ax.set_xlabel('$z_{spec}$ [Other]')\n",
    "    ax.set_ylabel(f\"$z_{{spec}}$ [{catalog_LEGAC.catalog}]\")\n",
    "    ax.set_xlim(zlim)\n",
    "    ax.set_ylim(zlim)\n",
    "    ax.legend(loc='lower right')\n",
    "\n",
    "    del zlim_deep, zlim, fig, ax"
   ]
  },
  {
   "cell_type": "code",
   "execution_count": null,
   "metadata": {},
   "outputs": [],
   "source": [
    "if not keep_open and 'catalog_LEGAC' in locals():\n",
    "    catalog.close(catalog_LEGAC)\n",
    "    del catalog_LEGAC, catalog_params_LEGAC"
   ]
  },
  {
   "cell_type": "markdown",
   "metadata": {},
   "source": [
    "### Cross-Match HELP z-Spec Catalog (v2.8 Public)"
   ]
  },
  {
   "cell_type": "code",
   "execution_count": null,
   "metadata": {},
   "outputs": [],
   "source": [
    "if field == 'AEGIS' or field == 'COSMOS':\n",
    "    catalog_params_HELP = catalog.get_params('HELP', field)\n",
    "    catalog_HELP = catalog.read(catalog_params_HELP)\n",
    "    print(f\"{catalog_HELP.catalog}: {catalog_HELP.count} sources\")"
   ]
  },
  {
   "cell_type": "code",
   "execution_count": null,
   "metadata": {},
   "outputs": [],
   "source": [
    "if field == 'AEGIS' or field == 'COSMOS':\n",
    "    matches_HELP = match.cross_match_catalogs_by_ra_dec(catalog_3DHST, catalog_HELP)\n",
    "    print(f\"Number of Matches: {matches_HELP.count}\")"
   ]
  },
  {
   "cell_type": "code",
   "execution_count": null,
   "metadata": {},
   "outputs": [],
   "source": [
    "if field == 'AEGIS' or field == 'COSMOS':\n",
    "    match.append_cross_matched_data(matches_HELP, catalog_3DHST, catalog_HELP)"
   ]
  },
  {
   "cell_type": "code",
   "execution_count": null,
   "metadata": {},
   "outputs": [],
   "source": [
    "if (field == 'AEGIS' or field == 'COSMOS') and matches_HELP.count > 0:\n",
    "    value_filter       = (catalog_3DHST.idmap['id']  < 1e7) & (catalog_3DHST.idmap['HELP'] >= 0)\n",
    "    other_match_filter = (catalog_3DHST.idmap['id'] >= 1e7) & (catalog_3DHST.idmap['HELP'] >= 0) & (catalog_3DHST.idmap['HELP_dist'] > 0.0)\n",
    "    multi_match_filter = (catalog_3DHST.idmap['id'] >= 1e7) & (catalog_3DHST.idmap['HELP'] >= 0) & (catalog_3DHST.idmap['HELP_dist'] == 0.0) & (catalog_3DHST.idmap['HELP_num'] > 1)\n",
    "    dup_match_filter   = (catalog_3DHST.idmap['id'] >= 1e7) & (catalog_3DHST.idmap['HELP'] >= 0) & (catalog_3DHST.idmap['HELP_dist'] == 0.0) & (catalog_3DHST.idmap['HELP_num'] == 1)\n",
    "    non_match_filter   = (catalog_3DHST.idmap['id'] >= 1e7) & (catalog_3DHST.idmap['HELP'] >= 0) & (catalog_3DHST.idmap['HELP_dist'] == 0.0) & (catalog_3DHST.idmap['HELP_num'] == 0)\n",
    "\n",
    "    num_matches = np.sum(value_filter)\n",
    "    num_other_matches = np.sum(other_match_filter)\n",
    "    num_multi_matches = np.sum(multi_match_filter)\n",
    "    num_dup_matches = np.sum(dup_match_filter)\n",
    "    num_non_matches = np.sum(non_match_filter)\n",
    "    print(f\"Number of {catalog_HELP.name} Redshifts:\")\n",
    "    print(f\"    Matches      : {num_matches} (diff={matches_HELP.count - num_matches - num_other_matches})\")\n",
    "    print(f\"  + Other matches: {num_other_matches}\")\n",
    "    print(f\"  + Dup-matches  : {num_dup_matches}\")\n",
    "    print(f\"  + Multi-matches: {num_multi_matches}\")\n",
    "    print(f\"  + Non-matches  : {num_non_matches}\")\n",
    "    print(f\"  = Total        : {num_matches + num_other_matches + num_dup_matches + num_multi_matches + num_non_matches} (diff={catalog_HELP.count - num_matches - num_other_matches - num_dup_matches - num_multi_matches - num_non_matches})\")\n",
    "\n",
    "    zlim_deep = [0, 6]\n",
    "    zlim = [0, 6]\n",
    "\n",
    "    value_filter = (catalog_3DHST.redshift['z_best'] > 0.0) & (catalog_3DHST.redshift['z_HELP'] > 0.0) & (catalog_3DHST.redshift['z_HELP_flag'] < 8)\n",
    "    fig, ax = plot.create_plot(plot_mode, title=f\"Match Sources: {catalog_HELP.catalog} vs {catalog_3DHST.catalog}, N={np.sum(value_filter)}\")\n",
    "    ax.scatter(catalog_3DHST.redshift['z_best'][value_filter], catalog_3DHST.redshift['z_HELP'][value_filter], s=5, marker='o', edgecolors='none', facecolors=plot_options.fit_data_colour)\n",
    "    ax.set_xlabel(f\"$z_{{peak}}$ [{catalog_3DHST.catalog}]\")\n",
    "    ax.set_ylabel(f\"$z_{{spec}}$ [{catalog_HELP.catalog}]\")\n",
    "    ax.set_xlim(zlim_deep)\n",
    "    ax.set_ylim(zlim_deep)\n",
    "\n",
    "    fig, ax = plot.create_plot(plot_mode, title=f\"Compare {catalog_HELP.catalog}\")\n",
    "    if field == 'COSMOS' and matches_ZCB.count > 0:\n",
    "        value_filter = (catalog_3DHST.redshift['z_ZCB'] > 0.0) & (catalog_3DHST.redshift['z_ZCB_flag'] < 8) & (catalog_3DHST.redshift['z_HELP'] > 0.0) & (catalog_3DHST.redshift['z_HELP_flag'] < 8)\n",
    "        ax.scatter(catalog_3DHST.redshift['z_ZCB'][value_filter], catalog_3DHST.redshift['z_HELP'][value_filter], label=f\"ZCB ({np.sum(value_filter)})\", s=5, marker='o', edgecolors='none', facecolors=plot_options.colour2)\n",
    "    if field == 'COSMOS' and matches_ZCD.count > 0:\n",
    "        value_filter = (catalog_3DHST.redshift['z_ZCD'] > 0.0) & (catalog_3DHST.redshift['z_ZCD_flag'] < 8) & (catalog_3DHST.redshift['z_HELP'] > 0.0) & (catalog_3DHST.redshift['z_HELP_flag'] < 8)\n",
    "        ax.scatter(catalog_3DHST.redshift['z_ZCD'][value_filter], catalog_3DHST.redshift['z_HELP'][value_filter], label=f\"ZCD ({np.sum(value_filter)})\", s=5, marker='o', edgecolors='none', facecolors=plot_options.colour3)\n",
    "    if (field == 'COSMOS' or field == 'GOODS-S') and matches_VUDS.count > 0:\n",
    "        value_filter = (catalog_3DHST.redshift['z_VUDS'] > 0.0) & (catalog_3DHST.redshift['z_VUDS_flag'] < 8) & (catalog_3DHST.redshift['z_HELP'] > 0.0) & (catalog_3DHST.redshift['z_HELP_flag'] < 8)\n",
    "        ax.scatter(catalog_3DHST.redshift['z_VUDS'][value_filter], catalog_3DHST.redshift['z_HELP'][value_filter], label=f\"VUDS ({np.sum(value_filter)})\", s=5, marker='o', edgecolors='none', facecolors=plot_options.colour5)\n",
    "    if (field == 'COSMOS' or field == 'GOODS-N' or field == 'UDS') and matches_Casey.count > 0:\n",
    "        value_filter = (catalog_3DHST.redshift['z_Casey'] > 0.0) & (catalog_3DHST.redshift['z_Casey_flag'] < 8) & (catalog_3DHST.redshift['z_HELP'] > 0.0) & (catalog_3DHST.redshift['z_HELP_flag'] < 8)\n",
    "        ax.scatter(catalog_3DHST.redshift['z_Casey'][value_filter], catalog_3DHST.redshift['z_HELP'][value_filter], label=f\"Casey ({np.sum(value_filter)})\", s=5, marker='o', edgecolors='none', facecolors=plot_options.colour6)\n",
    "    if field == 'COSMOS' and matches_DEIMOS.count > 0:\n",
    "        value_filter = (catalog_3DHST.redshift['z_DEIMOS'] > 0.0) & (catalog_3DHST.redshift['z_DEIMOS_flag'] < 8) & (catalog_3DHST.redshift['z_HELP'] > 0.0) & (catalog_3DHST.redshift['z_HELP_flag'] < 8)\n",
    "        ax.scatter(catalog_3DHST.redshift['z_DEIMOS'][value_filter], catalog_3DHST.redshift['z_HELP'][value_filter], label=f\"DEIMOS ({np.sum(value_filter)})\", s=5, marker='o', edgecolors='none', facecolors=plot_options.colour5)\n",
    "    if (field == 'AEGIS' or field == 'COSMOS' or field == 'GOODS-N' or field == 'GOODS-S' or field == 'UDS') and matches_MOSDEF.count > 0:\n",
    "        value_filter = (catalog_3DHST.redshift['z_MOSDEF'] > 0.0) & (catalog_3DHST.redshift['z_MOSDEF_flag'] < 8) & (catalog_3DHST.redshift['z_HELP'] > 0.0) & (catalog_3DHST.redshift['z_HELP_flag'] < 8)\n",
    "        ax.scatter(catalog_3DHST.redshift['z_MOSDEF'][value_filter], catalog_3DHST.redshift['z_HELP'][value_filter], label=f\"MOSDEF ({np.sum(value_filter)})\", s=5, marker='s', edgecolors='none', facecolors=plot_options.colour4)\n",
    "    if field == 'COSMOS' and matches_FMOS.count > 0:\n",
    "        value_filter = (catalog_3DHST.redshift['z_FMOS'] > 0.0) & (catalog_3DHST.redshift['z_FMOS_flag'] < 8) & (catalog_3DHST.redshift['z_HELP'] > 0.0) & (catalog_3DHST.redshift['z_HELP_flag'] < 8)\n",
    "        ax.scatter(catalog_3DHST.redshift['z_FMOS'][value_filter], catalog_3DHST.redshift['z_HELP'][value_filter], label=f\"FMOS ({np.sum(value_filter)})\", s=5, marker='s', edgecolors='none', facecolors=plot_options.colour4)\n",
    "    if (field == 'COSMOS' or field == 'GOODS-S' or field == 'UDS') and matches_KMOS3D.count > 0:\n",
    "        value_filter = (catalog_3DHST.redshift['z_KMOS3D'] > 0.0) & (catalog_3DHST.redshift['z_KMOS3D_flag'] < 8) & (catalog_3DHST.redshift['z_HELP'] > 0.0) & (catalog_3DHST.redshift['z_HELP_flag'] < 8)\n",
    "        ax.scatter(catalog_3DHST.redshift['z_KMOS3D'][value_filter], catalog_3DHST.redshift['z_HELP'][value_filter], label=f\"KMOS3D ({np.sum(value_filter)})\", s=5, marker='s', edgecolors='none', facecolors=plot_options.colour3)\n",
    "    if field == 'COSMOS' and matches_C3R2.count > 0:\n",
    "        value_filter = (catalog_3DHST.redshift['z_C3R2'] > 0.0) & (catalog_3DHST.redshift['z_C3R2_flag'] < 8) & (catalog_3DHST.redshift['z_HELP'] > 0.0) & (catalog_3DHST.redshift['z_HELP_flag'] < 8)\n",
    "        ax.scatter(catalog_3DHST.redshift['z_C3R2'][value_filter], catalog_3DHST.redshift['z_HELP'][value_filter], label=f\"C3R2 ({np.sum(value_filter)})\", s=5, marker='s', edgecolors='none', facecolors=plot_options.colour2)\n",
    "    if field == 'COSMOS' and matches_LEGAC.count > 0:\n",
    "        value_filter = (catalog_3DHST.redshift['z_LEGAC'] > 0.0) & (catalog_3DHST.redshift['z_LEGAC_flag'] < 8) & (catalog_3DHST.redshift['z_HELP'] > 0.0) & (catalog_3DHST.redshift['z_HELP_flag'] < 8)\n",
    "        ax.scatter(catalog_3DHST.redshift['z_LEGAC'][value_filter], catalog_3DHST.redshift['z_HELP'][value_filter], label=f\"LEGAC ({np.sum(value_filter)})\", s=5, marker='^', edgecolors='none', facecolors=plot_options.colour3)\n",
    "    ax.set_xlabel('$z_{spec}$ [Other]')\n",
    "    ax.set_ylabel(f\"$z_{{spec}}$ [{catalog_HELP.catalog}]\")\n",
    "    ax.set_xlim(zlim)\n",
    "    ax.set_ylim(zlim)\n",
    "    ax.legend(loc='lower right')\n",
    "\n",
    "    del zlim_deep, zlim, fig, ax"
   ]
  },
  {
   "cell_type": "code",
   "execution_count": null,
   "metadata": {},
   "outputs": [],
   "source": [
    "# TODO: Check matches based on catalog_HELP.sources['Z_SOURCE']"
   ]
  },
  {
   "cell_type": "code",
   "execution_count": null,
   "metadata": {},
   "outputs": [],
   "source": [
    "if not keep_open and 'catalog_HELP' in locals():\n",
    "    catalog.close(catalog_HELP)\n",
    "    del catalog_HELP, catalog_params_HELP"
   ]
  },
  {
   "cell_type": "markdown",
   "metadata": {},
   "source": [
    "### Cross-Match DESI (EDR, 2023-06-09)"
   ]
  },
  {
   "cell_type": "code",
   "execution_count": null,
   "metadata": {},
   "outputs": [],
   "source": [
    "catalog_params_DESI = catalog.get_params('DESI', field)\n",
    "catalog_DESI = catalog.read(catalog_params_DESI, region=catalog_region_3DHST, region_wcs=catalog_params_3DHST.wcs)\n",
    "print(f\"{catalog_DESI.catalog}: {catalog_DESI.count} sources\")"
   ]
  },
  {
   "cell_type": "code",
   "execution_count": null,
   "metadata": {},
   "outputs": [],
   "source": [
    "matches_DESI = match.cross_match_catalogs_by_ra_dec(catalog_3DHST, catalog_DESI)\n",
    "print(f\"Number of Matches: {matches_DESI.count}\")"
   ]
  },
  {
   "cell_type": "code",
   "execution_count": null,
   "metadata": {},
   "outputs": [],
   "source": [
    "match.append_cross_matched_data(matches_DESI, catalog_3DHST, catalog_DESI)"
   ]
  },
  {
   "cell_type": "code",
   "execution_count": null,
   "metadata": {},
   "outputs": [],
   "source": [
    "if matches_DESI.count > 0:\n",
    "    value_filter   = (catalog_3DHST.idmap['id']  < 1e7) & (catalog_3DHST.idmap['DESI'] >= 0)\n",
    "    other_match_filter = (catalog_3DHST.idmap['id'] >= 1e7) & (catalog_3DHST.idmap['DESI'] >= 0) & (catalog_3DHST.idmap['DESI_dist'] > 0.0)\n",
    "    multi_match_filter = (catalog_3DHST.idmap['id'] >= 1e7) & (catalog_3DHST.idmap['DESI'] >= 0) & (catalog_3DHST.idmap['DESI_dist'] == 0.0) & (catalog_3DHST.idmap['DESI_num'] > 1)\n",
    "    dup_match_filter   = (catalog_3DHST.idmap['id'] >= 1e7) & (catalog_3DHST.idmap['DESI'] >= 0) & (catalog_3DHST.idmap['DESI_dist'] == 0.0) & (catalog_3DHST.idmap['DESI_num'] == 1)\n",
    "    non_match_filter   = (catalog_3DHST.idmap['id'] >= 1e7) & (catalog_3DHST.idmap['DESI'] >= 0) & (catalog_3DHST.idmap['DESI_dist'] == 0.0) & (catalog_3DHST.idmap['DESI_num'] == 0)\n",
    "\n",
    "    num_matches = np.sum(value_filter)\n",
    "    num_other_matches = np.sum(other_match_filter)\n",
    "    num_multi_matches = np.sum(multi_match_filter)\n",
    "    num_dup_matches = np.sum(dup_match_filter)\n",
    "    num_non_matches = np.sum(non_match_filter)\n",
    "    print(f\"Number of {catalog_DESI.name} Redshifts:\")\n",
    "    print(f\"    Matches      : {num_matches} (diff={matches_DESI.count - num_matches - num_other_matches})\")\n",
    "    print(f\"  + Other matches: {num_other_matches}\")\n",
    "    print(f\"  + Dup-matches  : {num_dup_matches}\")\n",
    "    print(f\"  + Multi-matches: {num_multi_matches}\")\n",
    "    print(f\"  + Non-matches  : {num_non_matches}\")\n",
    "    print(f\"  = Total        : {num_matches + num_other_matches + num_dup_matches + num_multi_matches + num_non_matches} (diff={catalog_DESI.count - num_matches - num_other_matches - num_dup_matches - num_multi_matches - num_non_matches})\")\n",
    "\n",
    "    zlim_deep = [0, 3.5]\n",
    "    zlim = [0, 2.0]\n",
    "\n",
    "    value_filter = (catalog_3DHST.redshift['z_best'] > 0.0) & (catalog_3DHST.redshift['z_DESI'] > 0.0) & (catalog_3DHST.redshift['z_DESI_flag'] < 8)\n",
    "    fig, ax = plot.create_plot(plot_mode, title=f\"Match Sources: {catalog_DESI.catalog} vs {catalog_3DHST.catalog}, N={np.sum(value_filter)}\")\n",
    "    ax.scatter(catalog_3DHST.redshift['z_best'][value_filter], catalog_3DHST.redshift['z_DESI'][value_filter], s=5, marker='o', edgecolors='none', facecolors=plot_options.fit_data_colour)\n",
    "    ax.set_xlabel(f\"$z_{{peak}}$ [{catalog_3DHST.catalog}]\")\n",
    "    ax.set_ylabel(f\"$z_{{spec}}$ [{catalog_DESI.catalog}]\")\n",
    "    ax.set_xlim(zlim_deep)\n",
    "    ax.set_ylim(zlim_deep)\n",
    "\n",
    "    fig, ax = plot.create_plot(plot_mode, title=f\"Compare {catalog_DESI.catalog}\")\n",
    "    if field == 'COSMOS' and matches_ZCB.count > 0:\n",
    "        value_filter = (catalog_3DHST.redshift['z_ZCB'] > 0.0) & (catalog_3DHST.redshift['z_ZCB_flag'] < 8) & (catalog_3DHST.redshift['z_DESI'] > 0.0) & (catalog_3DHST.redshift['z_DESI_flag'] < 8)\n",
    "        ax.scatter(catalog_3DHST.redshift['z_ZCB'][value_filter], catalog_3DHST.redshift['z_DESI'][value_filter], label=f\"ZCB ({np.sum(value_filter)})\", s=5, marker='o', edgecolors='none', facecolors=plot_options.colour2)\n",
    "    if field == 'COSMOS' and matches_ZCD.count > 0:\n",
    "        value_filter = (catalog_3DHST.redshift['z_ZCD'] > 0.0) & (catalog_3DHST.redshift['z_ZCD_flag'] < 8) & (catalog_3DHST.redshift['z_DESI'] > 0.0) & (catalog_3DHST.redshift['z_DESI_flag'] < 8)\n",
    "        ax.scatter(catalog_3DHST.redshift['z_ZCD'][value_filter], catalog_3DHST.redshift['z_DESI'][value_filter], label=f\"ZCD ({np.sum(value_filter)})\", s=5, marker='o', edgecolors='none', facecolors=plot_options.colour3)\n",
    "    if (field == 'COSMOS' or field == 'GOODS-S') and matches_VUDS.count > 0:\n",
    "        value_filter = (catalog_3DHST.redshift['z_VUDS'] > 0.0) & (catalog_3DHST.redshift['z_VUDS_flag'] < 8) & (catalog_3DHST.redshift['z_DESI'] > 0.0) & (catalog_3DHST.redshift['z_DESI_flag'] < 8)\n",
    "        ax.scatter(catalog_3DHST.redshift['z_VUDS'][value_filter], catalog_3DHST.redshift['z_DESI'][value_filter], label=f\"VUDS ({np.sum(value_filter)})\", s=5, marker='o', edgecolors='none', facecolors=plot_options.colour5)\n",
    "    if (field == 'COSMOS' or field == 'GOODS-N' or field == 'UDS') and matches_Casey.count > 0:\n",
    "        value_filter = (catalog_3DHST.redshift['z_Casey'] > 0.0) & (catalog_3DHST.redshift['z_Casey_flag'] < 8) & (catalog_3DHST.redshift['z_DESI'] > 0.0) & (catalog_3DHST.redshift['z_DESI_flag'] < 8)\n",
    "        ax.scatter(catalog_3DHST.redshift['z_Casey'][value_filter], catalog_3DHST.redshift['z_DESI'][value_filter], label=f\"Casey ({np.sum(value_filter)})\", s=5, marker='o', edgecolors='none', facecolors=plot_options.colour6)\n",
    "    if field == 'COSMOS' and matches_DEIMOS.count > 0:\n",
    "        value_filter = (catalog_3DHST.redshift['z_DEIMOS'] > 0.0) & (catalog_3DHST.redshift['z_DEIMOS_flag'] < 8) & (catalog_3DHST.redshift['z_DESI'] > 0.0) & (catalog_3DHST.redshift['z_DESI_flag'] < 8)\n",
    "        ax.scatter(catalog_3DHST.redshift['z_DEIMOS'][value_filter], catalog_3DHST.redshift['z_DESI'][value_filter], label=f\"DEIMOS ({np.sum(value_filter)})\", s=5, marker='o', edgecolors='none', facecolors=plot_options.colour5)\n",
    "    if (field == 'AEGIS' or field == 'COSMOS' or field == 'GOODS-N' or field == 'GOODS-S' or field == 'UDS') and matches_MOSDEF.count > 0:\n",
    "        value_filter = (catalog_3DHST.redshift['z_MOSDEF'] > 0.0) & (catalog_3DHST.redshift['z_MOSDEF_flag'] < 8) & (catalog_3DHST.redshift['z_DESI'] > 0.0) & (catalog_3DHST.redshift['z_DESI_flag'] < 8)\n",
    "        ax.scatter(catalog_3DHST.redshift['z_MOSDEF'][value_filter], catalog_3DHST.redshift['z_DESI'][value_filter], label=f\"MOSDEF ({np.sum(value_filter)})\", s=5, marker='s', edgecolors='none', facecolors=plot_options.colour4)\n",
    "    if field == 'COSMOS' and matches_FMOS.count > 0:\n",
    "        value_filter = (catalog_3DHST.redshift['z_FMOS'] > 0.0) & (catalog_3DHST.redshift['z_FMOS_flag'] < 8) & (catalog_3DHST.redshift['z_DESI'] > 0.0) & (catalog_3DHST.redshift['z_DESI_flag'] < 8)\n",
    "        ax.scatter(catalog_3DHST.redshift['z_FMOS'][value_filter], catalog_3DHST.redshift['z_DESI'][value_filter], label=f\"FMOS ({np.sum(value_filter)})\", s=5, marker='s', edgecolors='none', facecolors=plot_options.colour4)\n",
    "    if (field == 'COSMOS' or field == 'GOODS-S' or field == 'UDS') and matches_KMOS3D.count > 0:\n",
    "        value_filter = (catalog_3DHST.redshift['z_KMOS3D'] > 0.0) & (catalog_3DHST.redshift['z_KMOS3D_flag'] < 8) & (catalog_3DHST.redshift['z_DESI'] > 0.0) & (catalog_3DHST.redshift['z_DESI_flag'] < 8)\n",
    "        ax.scatter(catalog_3DHST.redshift['z_KMOS3D'][value_filter], catalog_3DHST.redshift['z_DESI'][value_filter], label=f\"KMOS3D ({np.sum(value_filter)})\", s=5, marker='s', edgecolors='none', facecolors=plot_options.colour3)\n",
    "    if field == 'COSMOS' and matches_C3R2.count > 0:\n",
    "        value_filter = (catalog_3DHST.redshift['z_C3R2'] > 0.0) & (catalog_3DHST.redshift['z_C3R2_flag'] < 8) & (catalog_3DHST.redshift['z_DESI'] > 0.0) & (catalog_3DHST.redshift['z_DESI_flag'] < 8)\n",
    "        ax.scatter(catalog_3DHST.redshift['z_C3R2'][value_filter], catalog_3DHST.redshift['z_DESI'][value_filter], label=f\"C3R2 ({np.sum(value_filter)})\", s=5, marker='s', edgecolors='none', facecolors=plot_options.colour2)\n",
    "    if field == 'COSMOS' and matches_LEGAC.count > 0:\n",
    "        value_filter = (catalog_3DHST.redshift['z_LEGAC'] > 0.0) & (catalog_3DHST.redshift['z_LEGAC_flag'] < 8) & (catalog_3DHST.redshift['z_DESI'] > 0.0) & (catalog_3DHST.redshift['z_DESI_flag'] < 8)\n",
    "        ax.scatter(catalog_3DHST.redshift['z_LEGAC'][value_filter], catalog_3DHST.redshift['z_DESI'][value_filter], label=f\"LEGAC ({np.sum(value_filter)})\", s=5, marker='^', edgecolors='none', facecolors=plot_options.colour3)\n",
    "    if (field == 'COSMOS' or field == 'AEGIS') and matches_HELP.count > 0:\n",
    "        value_filter = (catalog_3DHST.redshift['z_HELP'] > 0.0) & (catalog_3DHST.redshift['z_HELP_flag'] < 8) & (catalog_3DHST.redshift['z_DESI'] > 0.0) & (catalog_3DHST.redshift['z_DESI_flag'] < 8)\n",
    "        ax.scatter(catalog_3DHST.redshift['z_HELP'][value_filter], catalog_3DHST.redshift['z_DESI'][value_filter], label=f\"HELP ({np.sum(value_filter)})\", s=5, marker='^', edgecolors='none', facecolors=plot_options.colour2)\n",
    "    ax.set_xlabel('$z_{spec}$ [Other]')\n",
    "    ax.set_ylabel(f\"$z_{{spec}}$ [{catalog_DESI.catalog}]\")\n",
    "    ax.set_xlim(zlim)\n",
    "    ax.set_ylim(zlim)\n",
    "    ax.legend(loc='lower right')\n",
    "\n",
    "    del zlim_deep, zlim, fig, ax"
   ]
  },
  {
   "cell_type": "code",
   "execution_count": null,
   "metadata": {},
   "outputs": [],
   "source": [
    "if matches_DESI.count > 0:\n",
    "    z = catalog_DESI.sources['Z']\n",
    "    dz = catalog_DESI.sources['ZERR']\n",
    "    rdz = dz / (1 + z)\n",
    "\n",
    "    fig, ax = plot.create_plot(plot_mode, title=f\"DESI Redshift Error, N={len(z)}\")\n",
    "    ax.scatter(z, rdz, s=5, marker='o', edgecolors='none', facecolors=plot_options.fit_data_colour)\n",
    "    ax.set_xlabel('$z_{{spec}}$')\n",
    "    ax.set_ylabel('$\\sigma_z / (1+z)$')\n",
    "\n",
    "    fig, ax = plot.create_plot(plot_mode, title=f\"DESI Redshift Error, N={len(z)}\")\n",
    "    ax.hist(rdz*1e4, int(np.sqrt(len(rdz))), rwidth=0.95, color=plot_options.hist_colour)\n",
    "    ax.set_xlabel('$\\sigma_z / (1+z) \\\\times 10^{-4}$')\n",
    "    ax.set_ylabel('Galaxies')\n",
    "    ax.set_xlim([0, 2])\n",
    "\n",
    "    del z, dz, rdz, fig, ax"
   ]
  },
  {
   "cell_type": "code",
   "execution_count": null,
   "metadata": {},
   "outputs": [],
   "source": [
    "if not keep_open and 'catalog_DESI' in locals():\n",
    "    catalog.close(catalog_DESI)\n",
    "    del catalog_DESI, catalog_params_DESI"
   ]
  },
  {
   "cell_type": "markdown",
   "metadata": {},
   "source": [
    "### Consolidate 3D-HST Catalog"
   ]
  },
  {
   "cell_type": "code",
   "execution_count": null,
   "metadata": {},
   "outputs": [],
   "source": [
    "catalog.consolidate_best_data(catalog_3DHST)"
   ]
  },
  {
   "cell_type": "markdown",
   "metadata": {},
   "source": [
    "### Summary"
   ]
  },
  {
   "cell_type": "code",
   "execution_count": null,
   "metadata": {},
   "outputs": [],
   "source": [
    "value_filter = (catalog_3DHST.sources['star_flag'] != 1) & (catalog_3DHST.best['z_best'] > 0.0) & (catalog_3DHST.best['z_best_flag'] < 10)\n",
    "sources, source_counts = np.unique(catalog_3DHST.best['z_best_source'][value_filter], return_counts=True)\n",
    "source_ticks = np.arange(len(sources))\n",
    "fig, ax = plot.create_plot(plot_mode, title=f\"All $z_{{spec}}$, N={np.sum(value_filter)}\")\n",
    "b = ax.bar(source_ticks, source_counts, color=plot_options.hist_colour)\n",
    "ax.bar_label(b, label_type='center', color=plot_options.hist_label_color, fontsize=10, rotation=90)\n",
    "ax.set_xticks(source_ticks)\n",
    "ax.set_xticklabels(sources, rotation=45, ha='right')\n",
    "ax.set_xlabel('Source')\n",
    "ax.set_ylabel('Galaxies')\n",
    "\n",
    "print(f\"All z-Specs: {np.sum(value_filter)}\")\n",
    "\n",
    "value_filter = (catalog_3DHST.sources['star_flag'] != 1) & (catalog_3DHST.best['z_best'] > 0.0) & (catalog_3DHST.best['z_best_flag'] < 8)\n",
    "sources, source_counts = np.unique(catalog_3DHST.best['z_best_source'][value_filter], return_counts=True)\n",
    "source_ticks = np.arange(len(sources))\n",
    "fig, ax = plot.create_plot(plot_mode, title=f\"Usable $z_{{spec}}$, N={np.sum(value_filter)}\")\n",
    "b = ax.bar(source_ticks, source_counts, color=plot_options.hist_colour)\n",
    "ax.bar_label(b, label_type='center', color=plot_options.hist_label_color, fontsize=10, rotation=90)\n",
    "ax.set_xticks(source_ticks)\n",
    "ax.set_xticklabels(sources, rotation=45, ha='right')\n",
    "ax.set_xlabel('Source')\n",
    "ax.set_ylabel('Galaxies')\n",
    "\n",
    "print(f\"Usable z-Specs: {np.sum(value_filter)}\")\n",
    "\n",
    "value_filter = (catalog_3DHST.sources['star_flag'] != 1) & (catalog_3DHST.best['z_best'] > 0.0) & (catalog_3DHST.best['z_best_flag'] < 7)\n",
    "sources, source_counts = np.unique(catalog_3DHST.best['z_best_source'][value_filter], return_counts=True)\n",
    "source_ticks = np.arange(len(sources))\n",
    "fig, ax = plot.create_plot(plot_mode, title=f\"Best $z_{{spec}}$, N={np.sum(value_filter)}\")\n",
    "b = ax.bar(source_ticks, source_counts, color=plot_options.hist_colour)\n",
    "ax.bar_label(b, label_type='center', color=plot_options.hist_label_color, fontsize=10, rotation=90)\n",
    "ax.set_xticks(source_ticks)\n",
    "ax.set_xticklabels(sources, rotation=45, ha='right')\n",
    "ax.set_xlabel('Source')\n",
    "ax.set_ylabel('Galaxies')\n",
    "\n",
    "print(f\"Best z-Specs: {np.sum(value_filter)}\")\n",
    "\n",
    "value_filter = (catalog_3DHST.sources['star_flag'] != 1) & (catalog_3DHST.best['z_best'] > 0.0) & (catalog_3DHST.best['z_best_flag'] < 7) & (catalog_3DHST.best['id'] < 1e7)\n",
    "sources, source_counts = np.unique(catalog_3DHST.best['z_best_source'][value_filter], return_counts=True)\n",
    "source_ticks = np.arange(len(sources))\n",
    "fig, ax = plot.create_plot(plot_mode, title=f\"Best Matched $z_{{spec}}$, N={np.sum(value_filter)}\")\n",
    "b = ax.bar(source_ticks, source_counts, color=plot_options.hist_colour)\n",
    "ax.bar_label(b, label_type='center', color=plot_options.hist_label_color, fontsize=10, rotation=90)\n",
    "ax.set_xticks(source_ticks)\n",
    "ax.set_xticklabels(sources, rotation=45, ha='right')\n",
    "ax.set_xlabel('Source')\n",
    "ax.set_ylabel('Galaxies')\n",
    "\n",
    "print(f\"Best Matched z-Specs: {np.sum(value_filter)}\")\n",
    "\n",
    "zlim = [0, 6]\n",
    "fig, ax = plot.create_plot(plot_mode, title=f\"Best Matched $z_{{spec}}$, N={np.sum(value_filter)}\")\n",
    "if field == 'COSMOS' and matches_ZCB.count > 0:\n",
    "    value_filter = (catalog_3DHST.redshift['z_best'] > 0.0) & (catalog_3DHST.redshift['z_ZCB_flag'] < 7)\n",
    "    ax.scatter(catalog_3DHST.redshift['z_best'][value_filter], catalog_3DHST.redshift['z_ZCB'][value_filter], label='ZCB', s=5, marker='o', edgecolors='none', facecolors=plot_options.colour2)\n",
    "if field == 'COSMOS' and matches_ZCD.count > 0:\n",
    "    value_filter = (catalog_3DHST.redshift['z_best'] > 0.0) & (catalog_3DHST.redshift['z_ZCD_flag'] < 7)\n",
    "    ax.scatter(catalog_3DHST.redshift['z_best'][value_filter], catalog_3DHST.redshift['z_ZCD'][value_filter], label='ZCD', s=5, marker='o', edgecolors='none', facecolors=plot_options.colour3, alpha=0.6)\n",
    "if (field == 'COSMOS' or field == 'GOODS-S') and matches_VUDS.count > 0:\n",
    "    value_filter = (catalog_3DHST.redshift['z_best'] > 0.0) & (catalog_3DHST.redshift['z_VUDS_flag'] < 7)\n",
    "    ax.scatter(catalog_3DHST.redshift['z_best'][value_filter], catalog_3DHST.redshift['z_VUDS'][value_filter], label='VUDS', s=5, marker='o', edgecolors='none', facecolors=plot_options.colour5, alpha=0.6)\n",
    "if (field == 'COSMOS' or field == 'GOODS-N' or field == 'UDS') and matches_Casey.count > 0:\n",
    "    value_filter = (catalog_3DHST.redshift['z_best'] > 0.0) & (catalog_3DHST.redshift['z_Casey_flag'] < 7)\n",
    "    ax.scatter(catalog_3DHST.redshift['z_best'][value_filter], catalog_3DHST.redshift['z_Casey'][value_filter], label='Casey', s=5, marker='o', edgecolors='none', facecolors=plot_options.colour6, alpha=0.6)\n",
    "if field == 'COSMOS' and matches_DEIMOS.count > 0:\n",
    "    value_filter = (catalog_3DHST.redshift['z_best'] > 0.0) & (catalog_3DHST.redshift['z_DEIMOS_flag'] < 7)\n",
    "    ax.scatter(catalog_3DHST.redshift['z_best'][value_filter], catalog_3DHST.redshift['z_DEIMOS'][value_filter], label='DEIMOS', s=5, marker='s', edgecolors='none', facecolors=plot_options.colour5, alpha=0.6)\n",
    "if (field == 'AEGIS' or field == 'COSMOS' or field == 'GOODS-N' or field == 'GOODS-S' or field == 'UDS') and matches_MOSDEF.count > 0:\n",
    "    value_filter = (catalog_3DHST.redshift['z_best'] > 0.0) & (catalog_3DHST.redshift['z_MOSDEF_flag'] < 7)\n",
    "    ax.scatter(catalog_3DHST.redshift['z_best'][value_filter], catalog_3DHST.redshift['z_MOSDEF'][value_filter], label='MOSDEF', s=5, marker='s', edgecolors='none', facecolors=plot_options.colour4, alpha=0.6)\n",
    "if field == 'COSMOS' and matches_FMOS.count > 0:\n",
    "    value_filter = (catalog_3DHST.redshift['z_best'] > 0.0) & (catalog_3DHST.redshift['z_FMOS_flag'] < 7)\n",
    "    ax.scatter(catalog_3DHST.redshift['z_best'][value_filter], catalog_3DHST.redshift['z_FMOS'][value_filter], label='FMOS', s=5, marker='s', edgecolors='none', facecolors=plot_options.colour3, alpha=0.6)\n",
    "if (field == 'COSMOS' or field == 'GOODS-S' or field == 'UDS') and matches_KMOS3D.count > 0:\n",
    "    value_filter = (catalog_3DHST.redshift['z_best'] > 0.0) & (catalog_3DHST.redshift['z_KMOS3D_flag'] < 7)\n",
    "    ax.scatter(catalog_3DHST.redshift['z_best'][value_filter], catalog_3DHST.redshift['z_KMOS3D'][value_filter], label='KMOS3D', s=5, marker='s', edgecolors='none', facecolors=plot_options.colour2, alpha=0.6)\n",
    "if field == 'COSMOS' and matches_C3R2.count > 0:\n",
    "    value_filter = (catalog_3DHST.redshift['z_best'] > 0.0) & (catalog_3DHST.redshift['z_C3R2_flag'] < 7)\n",
    "    ax.scatter(catalog_3DHST.redshift['z_best'][value_filter], catalog_3DHST.redshift['z_C3R2'][value_filter], label='C3R2', s=5, marker='^', edgecolors='none', facecolors=plot_options.colour3, alpha=0.6)\n",
    "if field == 'COSMOS' and matches_LEGAC.count > 0:\n",
    "    value_filter = (catalog_3DHST.redshift['z_best'] > 0.0) & (catalog_3DHST.redshift['z_LEGAC_flag'] < 7)\n",
    "    ax.scatter(catalog_3DHST.redshift['z_best'][value_filter], catalog_3DHST.redshift['z_LEGAC'][value_filter], label='LEGAC', s=5, marker='^', edgecolors='none', facecolors=plot_options.colour5, alpha=0.6)\n",
    "if (field == 'COSMOS' or field == 'AEGIS') and matches_HELP.count > 0:\n",
    "    value_filter = (catalog_3DHST.redshift['z_best'] > 0.0) & (catalog_3DHST.redshift['z_HELP_flag'] < 7)\n",
    "    ax.scatter(catalog_3DHST.redshift['z_best'][value_filter], catalog_3DHST.redshift['z_HELP'][value_filter], label='HELP', s=5, marker='^', edgecolors='none', facecolors=plot_options.colour5, alpha=0.6)\n",
    "if matches_DESI.count > 0:\n",
    "    value_filter = (catalog_3DHST.redshift['z_best'] > 0.0) & (catalog_3DHST.redshift['z_DESI_flag'] < 7)\n",
    "    ax.scatter(catalog_3DHST.redshift['z_best'][value_filter], catalog_3DHST.redshift['z_DESI'][value_filter], label='DESI', s=5, marker='^', edgecolors='none', facecolors=plot_options.colour6, alpha=0.6)\n",
    "ax.set_xlabel(f\"$z_{{peak}}$ [{catalog_3DHST.catalog}]\")\n",
    "ax.set_ylabel(f\"$z_{{spec}}$\")\n",
    "ax.set_xlim(zlim)\n",
    "ax.set_ylim(zlim)\n",
    "ax.legend(loc='lower right')\n",
    "\n",
    "del fig, ax, value_filter\n"
   ]
  },
  {
   "cell_type": "code",
   "execution_count": null,
   "metadata": {},
   "outputs": [],
   "source": [
    "zlim = [0, 6]\n",
    "\n",
    "value_filter = (catalog_3DHST.sources['star_flag'] != 1) & (catalog_3DHST.redshift['z_best'] > 0.0) & (catalog_3DHST.best['z_best'] > 0.0) & (catalog_3DHST.best['z_best_flag'] < 7)\n",
    "\n",
    "fig, ax = plot.create_plot(plot_mode, title=f\"$z_{{best}}$ (Best) vs {catalog_3DHST.catalog}, N={np.sum(value_filter)}\")\n",
    "ax.scatter(catalog_3DHST.redshift['z_best'][value_filter], catalog_3DHST.best['z_best'][value_filter], s=5, marker='o', edgecolors='none', facecolors=plot_options.fit_data_colour)\n",
    "ax.set_xlabel('$z_{peak}$')\n",
    "ax.set_ylabel('$z_{best}$')\n",
    "ax.set_xlim(zlim)\n",
    "ax.set_ylim(zlim)\n",
    "\n",
    "sources, source_counts = np.unique(catalog_3DHST.best['z_best_source'][value_filter], return_counts=True)\n",
    "source_ticks = np.arange(len(sources))\n",
    "fig, ax = plot.create_plot(plot_mode, title=f\"$z_{{best}}$ (Best), N={np.sum(value_filter)}\")\n",
    "b = ax.bar(source_ticks, source_counts, color=plot_options.hist_colour)\n",
    "ax.bar_label(b, label_type='center', color=plot_options.hist_label_color, fontsize=10, rotation=90)\n",
    "ax.set_xticks(source_ticks)\n",
    "ax.set_xticklabels(sources, rotation=45, ha='right')\n",
    "ax.set_xlabel('Source')\n",
    "ax.set_ylabel('Galaxies')\n",
    "\n",
    "value_filter = (catalog_3DHST.sources['star_flag'] != 1) & (catalog_3DHST.redshift['z_best'] > 0.0) & (catalog_3DHST.best['z_best'] > 0.0) & (catalog_3DHST.best['z_best_flag'] > 2) & (catalog_3DHST.best['z_best_flag'] < 8)\n",
    "if np.sum(value_filter) > 0:\n",
    "    fig, ax = plot.create_plot(plot_mode, title=f\"$z_{{best}}$ (Other) vs {catalog_3DHST.catalog}, N={np.sum(value_filter)}\")\n",
    "    ax.scatter(catalog_3DHST.redshift['z_best'][value_filter], catalog_3DHST.best['z_best'][value_filter], s=5, marker='o', edgecolors='none', facecolors=plot_options.fit_data_colour)\n",
    "    ax.set_xlabel('$z_{peak}$')\n",
    "    ax.set_ylabel('$z_{best}$')\n",
    "    ax.set_xlim(zlim)\n",
    "    ax.set_ylim(zlim)\n",
    "\n",
    "    sources, source_counts = np.unique(catalog_3DHST.best['z_best_source'][value_filter], return_counts=True)\n",
    "    source_ticks = np.arange(len(sources))\n",
    "    fig, ax = plot.create_plot(plot_mode, title=f\"$z_{{best}}$ (Other), N={np.sum(value_filter)}\")\n",
    "    b = ax.bar(source_ticks, source_counts, color=plot_options.hist_colour)\n",
    "    ax.bar_label(b, label_type='center', color=plot_options.hist_label_color, fontsize=10, rotation=90)\n",
    "    ax.set_xticks(source_ticks, sources)\n",
    "    ax.set_xticklabels(sources, rotation=45, ha='right')\n",
    "    ax.set_xlabel('Source')\n",
    "    ax.set_ylabel('Galaxies')\n",
    "\n",
    "value_filter = (catalog_3DHST.sources['star_flag'] != 1) & (catalog_3DHST.redshift['z_best'] > 0.0) & (catalog_3DHST.best['z_best'] > 0.0) & (catalog_3DHST.best['z_best_flag'] == 8)\n",
    "if np.sum(value_filter) > 0:\n",
    "    fig, ax = plot.create_plot(plot_mode, title=f\"$z_{{best}}$ (Inconsistent) vs {catalog_3DHST.catalog}, N={np.sum(value_filter)}\")\n",
    "    ax.scatter(catalog_3DHST.redshift['z_best'][value_filter], catalog_3DHST.best['z_best'][value_filter], label='Inconsistent', s=5, marker='o', edgecolors='none', facecolors=plot_options.fit_data_colour)\n",
    "    ax.set_xlabel('$z_{peak}$')\n",
    "    ax.set_ylabel('$z_{best}$')\n",
    "    ax.set_xlim(zlim)\n",
    "    ax.set_ylim(zlim)\n",
    "\n",
    "    sources, source_counts = np.unique(catalog_3DHST.best['z_best_source'][value_filter], return_counts=True)\n",
    "    source_ticks = np.arange(len(sources))\n",
    "    fig, ax = plot.create_plot(plot_mode, title=f\"$z_{{best}}$ (Inconsistent), N={np.sum(value_filter)}\")\n",
    "    b = ax.bar(source_ticks, source_counts, color=plot_options.hist_colour)\n",
    "    ax.bar_label(b, label_type='center', color=plot_options.hist_label_color, fontsize=10, rotation=90)\n",
    "    ax.set_xticks(source_ticks, sources)\n",
    "    ax.set_xticklabels(sources, rotation=45, ha='right')\n",
    "    ax.set_xlabel('Source')\n",
    "    ax.set_ylabel('Galaxies')\n",
    "\n",
    "value_filter = (catalog_3DHST.sources['star_flag'] != 1) & (catalog_3DHST.redshift['z_best'] > 0.0) & (catalog_3DHST.best['z_best'] > 0.0) & (catalog_3DHST.best['z_best_flag'] == 9)\n",
    "if np.sum(value_filter) > 0:\n",
    "    fig, ax = plot.create_plot(plot_mode, title=f\"$z_{{best}}$ (Unreliable) vs {catalog_3DHST.catalog}, N={np.sum(value_filter)}\")\n",
    "    ax.scatter(catalog_3DHST.redshift['z_best'][value_filter], catalog_3DHST.best['z_best'][value_filter], label='Unreliable', s=5, marker='o', edgecolors='none', facecolors=plot_options.fit_data_colour)\n",
    "    ax.set_xlabel('$z_{peak}$')\n",
    "    ax.set_ylabel('$z_{best}$')\n",
    "    ax.set_xlim(zlim)\n",
    "    ax.set_ylim(zlim)\n",
    "\n",
    "    sources, source_counts = np.unique(catalog_3DHST.best['z_best_source'][value_filter], return_counts=True)\n",
    "    source_ticks = np.arange(len(sources))\n",
    "    fig, ax = plot.create_plot(plot_mode, title=f\"$z_{{best}}$ (Unreliable), N={np.sum(value_filter)}\")\n",
    "    b = ax.bar(source_ticks, source_counts, color=plot_options.hist_colour)\n",
    "    ax.bar_label(b, label_type='center', color=plot_options.hist_label_color, fontsize=10, rotation=90)\n",
    "    ax.set_xticks(source_ticks, sources)\n",
    "    ax.set_xticklabels(sources, rotation=45, ha='right')\n",
    "    ax.set_xlabel('Source')\n",
    "    ax.set_ylabel('Galaxies')\n",
    "\n",
    "value_filter = (catalog_3DHST.sources['star_flag'] != 1) & (catalog_3DHST.redshift['z_best'] > 0.0) & ((catalog_3DHST.best['z_best'] == 0.0) | (catalog_3DHST.best['z_best_flag'] == 99))\n",
    "if np.sum(value_filter) > 0:\n",
    "    fig, ax = plot.create_plot(plot_mode, title=f\"$z_{{best}}$ (None) vs {catalog_3DHST.catalog}, N={np.sum(value_filter)}\")\n",
    "    ax.scatter(catalog_3DHST.redshift['z_best'][value_filter], catalog_3DHST.best['z_best'][value_filter], s=5, marker='o', edgecolors='none', facecolors=plot_options.fit_data_colour)\n",
    "    ax.set_xlabel('$z_{peak}$')\n",
    "    ax.set_ylabel('$z_{best}$')\n",
    "    ax.set_xlim(zlim)\n",
    "    ax.set_ylim(zlim)\n",
    "\n",
    "del zlim, fig, ax, b, value_filter"
   ]
  },
  {
   "cell_type": "markdown",
   "metadata": {},
   "source": [
    "### Compare Emission Line Flux"
   ]
  },
  {
   "cell_type": "code",
   "execution_count": null,
   "metadata": {},
   "outputs": [],
   "source": [
    "catalog_3DHST.lines['f_Ha_3DHST']       = catalog_3DHST.lines['Ha_FLUX']\n",
    "catalog_3DHST.lines['e_Ha_3DHST']       = catalog_3DHST.lines['Ha_FLUX_ERR']\n",
    "catalog_3DHST.lines['flag_Ha_3DHST']    = 1\n",
    "\n",
    "catalog_3DHST.lines['f_OIIIb_3DHST']    = catalog_3DHST.lines['OIII_FLUX']\n",
    "catalog_3DHST.lines['e_OIIIb_3DHST']    = catalog_3DHST.lines['OIII_FLUX_ERR']\n",
    "catalog_3DHST.lines['flag_OIIIb_3DHST'] = 1\n",
    "\n",
    "catalog_3DHST.lines['f_Hb_3DHST']       = catalog_3DHST.lines['Hb_FLUX']\n",
    "catalog_3DHST.lines['e_Hb_3DHST']       = catalog_3DHST.lines['Hb_FLUX_ERR']\n",
    "catalog_3DHST.lines['flag_Hb_3DHST']    = 1\n",
    "\n",
    "catalog_3DHST.lines['f_OIIb_3DHST']     = catalog_3DHST.lines['OII_FLUX']\n",
    "catalog_3DHST.lines['e_OIIb_3DHST']     = catalog_3DHST.lines['OII_FLUX_ERR']\n",
    "catalog_3DHST.lines['flag_OIIb_3DHST']  = 1"
   ]
  },
  {
   "cell_type": "code",
   "execution_count": null,
   "metadata": {},
   "outputs": [],
   "source": [
    "line_names = ['Ha', 'OIIIb', 'Hb', 'OIIb']\n",
    "line_labels = ['Ha+[NII]', '[OIII]', 'Hb', '[OII]']\n",
    "line_other_names = [['NIIa', 'NIIb'], ['OIIIa'], [], ['OIIa']]\n",
    "if field == 'COSMOS':\n",
    "    line_sources = ['3DHST', 'MOSDEF', 'FMOS', 'KMOS3D', 'LEGAC', 'DESI']\n",
    "    line_markers = ['o'    , 's'     , '^'   , '>'     , 'v'    , 'p'  ]\n",
    "    line_sizes =   [15     , 15      , 25    , 25      , 25     , 25    ]\n",
    "elif field != 'GOODS-S' and field != 'UDS':\n",
    "    line_sources = ['3DHST', 'MOSDEF', 'DESI']\n",
    "    line_markers = ['o'    , 's'     , 'p'   ]\n",
    "    line_sizes =   [15     , 15      , 25    ]\n",
    "else:\n",
    "    line_sources = ['3DHST', 'MOSDEF', 'KMOS3D']\n",
    "    line_markers = ['o'    , 's'     , '>'     ]\n",
    "    line_sizes =   [15     , 15      , 25      ]\n",
    "\n",
    "line_colours = plot_options.colours[2:7]\n",
    "\n",
    "fluxLim = [1e-1, 1e3]\n",
    "\n",
    "for i in np.arange(len(line_names)):\n",
    "    fig, ax = plot.create_plot(plot_mode, title=f\"Compare $f_{{{line_labels[i]}}}$\")\n",
    "\n",
    "    for j in np.arange(len(line_sources)):\n",
    "        total_flux_j = np.zeros((len(catalog_3DHST.lines)))\n",
    "        value_filter = catalog_3DHST.lines[f\"flag_{line_names[i]}_{line_sources[j]}\"] < 9\n",
    "        total_flux_j[value_filter] = catalog_3DHST.lines[f\"f_{line_names[i]}_{line_sources[j]}\"][value_filter]\n",
    "\n",
    "        for l in np.arange(len(line_other_names[i])):\n",
    "            if table.has_field(catalog_3DHST.lines, f\"flag_{line_other_names[i][l]}_{line_sources[j]}\"):\n",
    "                value_filter = catalog_3DHST.lines[f\"flag_{line_other_names[i][l]}_{line_sources[j]}\"] < 9\n",
    "                total_flux_j[value_filter] += catalog_3DHST.lines[f\"f_{line_other_names[i][l]}_{line_sources[j]}\"][value_filter]\n",
    "\n",
    "        for k in np.arange(j+1, len(line_sources)):\n",
    "            total_flux_k = np.zeros((len(catalog_3DHST.lines)))\n",
    "            value_filter = catalog_3DHST.lines[f\"flag_{line_names[i]}_{line_sources[k]}\"] < 9\n",
    "            total_flux_k[value_filter] = catalog_3DHST.lines[f\"f_{line_names[i]}_{line_sources[k]}\"][value_filter]\n",
    "\n",
    "            for l in np.arange(len(line_other_names[i])):\n",
    "                value_filter = catalog_3DHST.lines[f\"flag_{line_other_names[i][l]}_{line_sources[k]}\"] < 9\n",
    "                total_flux_k[value_filter] += catalog_3DHST.lines[f\"f_{line_other_names[i][l]}_{line_sources[k]}\"][value_filter]\n",
    "\n",
    "            value_filter = (total_flux_j > 0) & (total_flux_k > 0)\n",
    "\n",
    "            if np.sum(value_filter) == 0:\n",
    "                continue\n",
    "\n",
    "            ax.scatter(total_flux_k[value_filter], total_flux_j[value_filter], label=f\"{line_sources[j]} vs {line_sources[k]} ({np.sum(value_filter)})\", s=line_sizes[k], marker=line_markers[k], facecolors=line_colours[j], edgecolors='k', linewidth=0.25)\n",
    "\n",
    "    ax.set_xlabel(f\"$f_{{{line_labels[i]}}}$\")\n",
    "    ax.set_ylabel(f\"$f_{{{line_labels[i]}}}$\")\n",
    "    ax.plot(fluxLim, fluxLim, linestyle='-', color=plot_options.colour7)\n",
    "    ax.set_xscale('log')\n",
    "    ax.set_yscale('log')\n",
    "    ax.set_xlim(fluxLim)\n",
    "    ax.set_ylim(fluxLim)\n",
    "    ax.legend(loc='lower right')\n",
    "\n",
    "del line_sources, line_names, line_other_names, line_labels, line_markers, line_sizes, line_colours, i, j, k, l, fluxLim, fig, ax\n"
   ]
  },
  {
   "cell_type": "code",
   "execution_count": null,
   "metadata": {},
   "outputs": [],
   "source": [
    "if table.has_field(catalog_3DHST.lines, 'f_Ha_3DHST'):\n",
    "    catalog_3DHST.lines.remove_columns(['f_Ha_3DHST'    ,'e_Ha_3DHST'    ,'flag_Ha_3DHST'   ])\n",
    "    catalog_3DHST.lines.remove_columns(['f_OIIIb_3DHST' ,'e_OIIIb_3DHST' ,'flag_OIIIb_3DHST'])\n",
    "    catalog_3DHST.lines.remove_columns(['f_Hb_3DHST'    ,'e_Hb_3DHST'    ,'flag_Hb_3DHST'   ])\n",
    "    catalog_3DHST.lines.remove_columns(['f_OIIb_3DHST'  ,'e_OIIb_3DHST'  ,'flag_OIIb_3DHST' ])"
   ]
  },
  {
   "cell_type": "markdown",
   "metadata": {},
   "source": [
    "### Save Cross-Matched 3D-HST Catalog"
   ]
  },
  {
   "cell_type": "code",
   "execution_count": null,
   "metadata": {},
   "outputs": [],
   "source": [
    "catalog_params_3DHSTPLUS = catalog.get_params('3D-HST-PLUS')\n",
    "\n",
    "if do_save:\n",
    "    catalog.save_matched_catalog(catalog_3DHST, catalog_params_3DHSTPLUS, save_format='pickel', new_name='3D-HST-PLUS')\n",
    "\n",
    "if do_save_ascii:\n",
    "    catalog.save_matched_catalog(catalog_3DHST, catalog_params_3DHSTPLUS, save_format='ascii', new_name='3D-HST-PLUS')"
   ]
  },
  {
   "cell_type": "markdown",
   "metadata": {},
   "source": [
    "### Close Catalog"
   ]
  },
  {
   "cell_type": "code",
   "execution_count": null,
   "metadata": {},
   "outputs": [],
   "source": [
    "if not keep_open and 'catalog_3DHST' in locals():\n",
    "    catalog.close(catalog_3DHST)\n",
    "    del catalog_3DHST, catalog_params_3DHST, catalog_params_3DHSTPLUS"
   ]
  }
 ],
 "metadata": {
  "kernelspec": {
   "display_name": ".venv",
   "language": "python",
   "name": "python3"
  },
  "language_info": {
   "codemirror_mode": {
    "name": "ipython",
    "version": 3
   },
   "file_extension": ".py",
   "mimetype": "text/x-python",
   "name": "python",
   "nbconvert_exporter": "python",
   "pygments_lexer": "ipython3",
   "version": "3.13.1"
  }
 },
 "nbformat": 4,
 "nbformat_minor": 2
}
