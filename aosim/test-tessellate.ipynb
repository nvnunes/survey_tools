{
 "cells": [
  {
   "cell_type": "markdown",
   "metadata": {},
   "source": [
    "### Imports"
   ]
  },
  {
   "cell_type": "code",
   "execution_count": null,
   "metadata": {},
   "outputs": [],
   "source": [
    "%load_ext autoreload\n",
    "%autoreload 2\n",
    "\n",
    "import astropy.units as u\n",
    "import numpy as np\n",
    "from tabulate import tabulate\n",
    "import tessellate\n",
    "from survey_tools import healpix"
   ]
  },
  {
   "cell_type": "markdown",
   "metadata": {},
   "source": [
    "### Options"
   ]
  },
  {
   "cell_type": "code",
   "execution_count": null,
   "metadata": {},
   "outputs": [],
   "source": [
    "inner_level = 14\n",
    "fov_radius = 60*u.arcsec"
   ]
  },
  {
   "cell_type": "markdown",
   "metadata": {},
   "source": [
    "### Tessellate Circle"
   ]
  },
  {
   "cell_type": "code",
   "execution_count": null,
   "metadata": {},
   "outputs": [],
   "source": [
    "pix_area = healpix.get_area(inner_level)\n",
    "print(f\"Pix Area at level {inner_level}: {pix_area.to(u.arcsec**2):.2f}\")\n",
    "num_pix_in_fov = int(np.ceil(np.pi * fov_radius**2 / pix_area))\n",
    "print(f\"Num Pix in FOV: {num_pix_in_fov}\")"
   ]
  },
  {
   "cell_type": "code",
   "execution_count": null,
   "metadata": {},
   "outputs": [],
   "source": [
    "num_rings = tessellate.closest_num_hex_rings(num_pix_in_fov)\n",
    "print(f\"Num Rings: {num_rings}\")\n",
    "\n",
    "points, cells = tessellate.tessellate_circle_with_hexagons(num_rings, fov_radius.to(u.arcsec).value, verbose=True)\n",
    "tessellate.plot_circle_tessellation(points, cells, fov_radius.to(u.arcsec).value)"
   ]
  },
  {
   "cell_type": "code",
   "execution_count": null,
   "metadata": {},
   "outputs": [],
   "source": [
    "r, theta = tessellate.to_polar_coordinates(points)\n",
    "theta = np.rad2deg(theta)\n",
    "display(tabulate(np.column_stack((np.arange(len(points)), r, theta)), headers=['Cell', 'r [arcsec]', 'theta [deg]'], floatfmt=['g', '.1f', '.1f'], tablefmt='html'))"
   ]
  }
 ],
 "metadata": {
  "kernelspec": {
   "display_name": ".venv",
   "language": "python",
   "name": "python3"
  },
  "language_info": {
   "codemirror_mode": {
    "name": "ipython",
    "version": 3
   },
   "file_extension": ".py",
   "mimetype": "text/x-python",
   "name": "python",
   "nbconvert_exporter": "python",
   "pygments_lexer": "ipython3",
   "version": "3.13.2"
  }
 },
 "nbformat": 4,
 "nbformat_minor": 2
}
