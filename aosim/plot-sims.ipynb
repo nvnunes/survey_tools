{
 "cells": [
  {
   "cell_type": "markdown",
   "id": "d699cf18",
   "metadata": {},
   "source": [
    "### Imports"
   ]
  },
  {
   "cell_type": "code",
   "execution_count": null,
   "id": "87ab539d",
   "metadata": {},
   "outputs": [],
   "source": [
    "%load_ext autoreload\n",
    "%autoreload 2\n",
    "\n",
    "import os\n",
    "import astropy.units as u\n",
    "import numpy as np\n",
    "import simulate"
   ]
  },
  {
   "cell_type": "markdown",
   "id": "0b1aba55",
   "metadata": {},
   "source": [
    "### Options"
   ]
  },
  {
   "cell_type": "code",
   "execution_count": null,
   "id": "75996675",
   "metadata": {},
   "outputs": [],
   "source": [
    "output_path = '/home/keita/projects/TIPTOP_Output'\n",
    "if not os.path.isdir(output_path):\n",
    "    output_path = '/Volumes/TIPTOP_Output'\n",
    "\n",
    "matlab_output_path = '../../oomao-GIRMOS/output'\n",
    "\n",
    "plot_value = 'SR'\n",
    "match plot_value:\n",
    "    case 'SR':\n",
    "        contour_levels = np.arange(0.05, 1.0, 0.05)\n",
    "    case 'FWHM':\n",
    "        contour_levels = np.arange(50, 120, 5)\n",
    "    case 'EE':\n",
    "        contour_levels = np.arange(0.05, 1.0, 0.05)\n",
    "\n",
    "print('Contour levels:', contour_levels)"
   ]
  },
  {
   "cell_type": "markdown",
   "id": "c52307b0",
   "metadata": {},
   "source": [
    "### Plot GNAO"
   ]
  },
  {
   "cell_type": "code",
   "execution_count": null,
   "id": "84de378e",
   "metadata": {},
   "outputs": [],
   "source": [
    "results = simulate.load_results(output_path, 'GNAO_1650nm_30deg_570mas_square121')\n",
    "simulate.plot_fov(results, plot_value=plot_value, fov=120*u.arcsec, skip_contours=True, fixed_range=True)"
   ]
  },
  {
   "cell_type": "markdown",
   "id": "df9bee1a",
   "metadata": {},
   "source": [
    "### Plot MOAO"
   ]
  },
  {
   "cell_type": "code",
   "execution_count": null,
   "id": "50955af8",
   "metadata": {},
   "outputs": [],
   "source": [
    "results = simulate.load_results(output_path, 'MOAO_1650nm_30deg_570mas_square121')\n",
    "simulate.plot_fov(results, plot_value=plot_value, fov=120*u.arcsec, contours=contour_levels, fixed_range=True)"
   ]
  },
  {
   "cell_type": "code",
   "execution_count": null,
   "id": "0490bda9",
   "metadata": {},
   "outputs": [],
   "source": [
    "results = simulate.load_results(output_path, 'MOAO_1650nm_30deg_570mas_hex91')\n",
    "simulate.plot_fov(results, plot_value=plot_value, fov=120*u.arcsec, contours=contour_levels, fixed_range=True)"
   ]
  },
  {
   "cell_type": "code",
   "execution_count": null,
   "id": "4e1fc78d",
   "metadata": {},
   "outputs": [],
   "source": [
    "results = simulate.load_matlab_results(matlab_output_path, 'psf_moao_atm_median_za_30_star1_150_30_0_star2_150_30_120_star3_150_30_240')\n",
    "simulate.plot_fov(results, plot_value=plot_value, fov=120*u.arcsec, contours=contour_levels, fixed_range=True)"
   ]
  },
  {
   "cell_type": "code",
   "execution_count": null,
   "id": "1898b7ca",
   "metadata": {},
   "outputs": [],
   "source": [
    "results = simulate.load_matlab_results(matlab_output_path, 'psf_moao_atm_median_za_30_star1_150_30_0_star2_150_30_120_star3_150_30_240', recompute=True)\n",
    "simulate.plot_fov(results, plot_value=plot_value, fov=120*u.arcsec, contours=contour_levels, fixed_range=True)"
   ]
  },
  {
   "cell_type": "code",
   "execution_count": null,
   "id": "6f39cd79",
   "metadata": {},
   "outputs": [],
   "source": [
    "results = simulate.load_matlab_results(matlab_output_path, 'psf_moao_atm_median_za_30_star1_170_30_0_star2_170_30_120_star3_170_30_240')\n",
    "simulate.plot_fov(results, plot_value=plot_value, fov=120*u.arcsec, contours=contour_levels, fixed_range=True)"
   ]
  },
  {
   "cell_type": "code",
   "execution_count": null,
   "id": "1d049210",
   "metadata": {},
   "outputs": [],
   "source": [
    "results = simulate.load_results(output_path, 'MOAO_1650nm_30deg_570mas_hex61')\n",
    "simulate.plot_fov(results, plot_value=plot_value, fov=120*u.arcsec, contours=contour_levels, fixed_range=True)"
   ]
  },
  {
   "cell_type": "code",
   "execution_count": null,
   "id": "89e7c5d8",
   "metadata": {},
   "outputs": [],
   "source": [
    "results = simulate.load_results(output_path, 'MOAO_1650nm_30deg_570mas_hex37')\n",
    "simulate.plot_fov(results, plot_value=plot_value, fov=120*u.arcsec, contours=contour_levels, fixed_range=True)"
   ]
  },
  {
   "cell_type": "markdown",
   "id": "9bbbbace",
   "metadata": {},
   "source": [
    "### Compare PSF"
   ]
  },
  {
   "cell_type": "code",
   "execution_count": null,
   "id": "58fa8c1f",
   "metadata": {},
   "outputs": [],
   "source": [
    "results = simulate.load_results(output_path, 'GNAO_1650nm_30deg_570mas_square121')\n",
    "index = np.where((results['r'] == 0.0) & (results['theta'] == 0.0))[0][0]\n",
    "simulate.plot_psf(results, index=index, fixed_range=True, zoom=200*u.mas)"
   ]
  },
  {
   "cell_type": "code",
   "execution_count": null,
   "id": "42d0d45b",
   "metadata": {},
   "outputs": [],
   "source": [
    "results = simulate.load_results(output_path, 'GNAO_1650nm_30deg_570mas_square121')\n",
    "simulate.plot_psf(results, index=0, fixed_range=False, zoom=200*u.mas)"
   ]
  },
  {
   "cell_type": "code",
   "execution_count": null,
   "id": "e9f5dc63",
   "metadata": {},
   "outputs": [],
   "source": [
    "results = simulate.load_results(output_path, 'MOAO_1650nm_30deg_570mas_square121')\n",
    "index = np.where((results['r'] == 0.0) & (results['theta'] == 0.0))[0][0]\n",
    "simulate.plot_psf(results, index=index, fixed_range=True, zoom=200*u.mas)"
   ]
  },
  {
   "cell_type": "code",
   "execution_count": null,
   "id": "0099b294",
   "metadata": {},
   "outputs": [],
   "source": [
    "results = simulate.load_results(output_path, 'MOAO_1650nm_30deg_570mas_square121')\n",
    "simulate.plot_psf(results, index=0, fixed_range=True, zoom=200*u.mas)"
   ]
  },
  {
   "cell_type": "markdown",
   "id": "df18f890",
   "metadata": {},
   "source": [
    "### Compare Raw Values"
   ]
  },
  {
   "cell_type": "code",
   "execution_count": null,
   "id": "29ab8d59",
   "metadata": {},
   "outputs": [],
   "source": [
    "results = simulate.load_results(output_path, 'MOAO_1650nm_30deg_570mas_origin1')\n",
    "print(f\"SR(0,0)={results['sr'][np.where((results['r'] == 0) & (results['theta'] == 0))[0][0]]:.2f}\")"
   ]
  },
  {
   "cell_type": "code",
   "execution_count": null,
   "id": "3a2fd122",
   "metadata": {},
   "outputs": [],
   "source": [
    "results = simulate.load_results(output_path, 'MOAO-serial_1650nm_30deg_570mas_square121')\n",
    "print(f\"SR(0,0)={results['sr'][np.where((results['r'] == 0) & (results['theta'] == 0))[0][0]]:.2f}\")\n",
    "simulate.plot_fov(results, plot_value=plot_value, fov=120*u.arcsec, contours=contour_levels, skip_smoothing=True, fixed_range=True, plot_points=True)"
   ]
  },
  {
   "cell_type": "code",
   "execution_count": null,
   "id": "b1a78186",
   "metadata": {},
   "outputs": [],
   "source": [
    "results = simulate.load_results(output_path, 'MOAO_1650nm_30deg_570mas_square121')\n",
    "print(f\"SR(0,0)={results['sr'][np.where((results['r'] == 0) & (results['theta'] == 0))[0][0]]:.2f}\")\n",
    "simulate.plot_fov(results, plot_value=plot_value, fov=120*u.arcsec, contours=contour_levels, skip_smoothing=True, fixed_range=True, plot_points=True)"
   ]
  },
  {
   "cell_type": "code",
   "execution_count": null,
   "id": "63056a51",
   "metadata": {},
   "outputs": [],
   "source": [
    "results = simulate.load_results(output_path, 'MOAO_1650nm_30deg_570mas_square81')\n",
    "print(f\"SR(0,0)={results['sr'][np.where((results['r'] == 0) & (results['theta'] == 0))[0][0]]:.2f}\")\n",
    "simulate.plot_fov(results, plot_value=plot_value, fov=120*u.arcsec, contours=contour_levels, skip_smoothing=True, fixed_range=True, plot_points=True)"
   ]
  },
  {
   "cell_type": "code",
   "execution_count": null,
   "id": "3dbdf006",
   "metadata": {},
   "outputs": [],
   "source": [
    "results = simulate.load_results(output_path, 'MOAO_1650nm_30deg_570mas_square49')\n",
    "print(f\"SR(0,0)={results['sr'][np.where((results['r'] == 0) & (results['theta'] == 0))[0][0]]:.2f}\")\n",
    "simulate.plot_fov(results, plot_value=plot_value, fov=120*u.arcsec, contours=contour_levels, skip_smoothing=True, fixed_range=True, plot_points=True)"
   ]
  },
  {
   "cell_type": "code",
   "execution_count": null,
   "id": "4e0aee4b",
   "metadata": {},
   "outputs": [],
   "source": [
    "results = simulate.load_results(output_path, 'MOAO_1650nm_30deg_570mas_hex91')\n",
    "print(f\"SR(0,0)={results['sr'][np.where((results['r'] == 0) & (results['theta'] == 0))[0][0]]:.2f}\")\n",
    "simulate.plot_fov(results, plot_value=plot_value, fov=120*u.arcsec, contours=contour_levels, skip_smoothing=True, fixed_range=True, plot_points=True)"
   ]
  },
  {
   "cell_type": "code",
   "execution_count": null,
   "id": "a943d811",
   "metadata": {},
   "outputs": [],
   "source": [
    "results = simulate.load_results(output_path, 'MOAO_1650nm_30deg_570mas_hex61')\n",
    "print(f\"SR(0,0)={results['sr'][np.where((results['r'] == 0) & (results['theta'] == 0))[0][0]]:.2f}\")\n",
    "simulate.plot_fov(results, plot_value=plot_value, fov=120*u.arcsec, contours=contour_levels, skip_smoothing=True, fixed_range=True, plot_points=True)"
   ]
  },
  {
   "cell_type": "code",
   "execution_count": null,
   "id": "053c6b02",
   "metadata": {},
   "outputs": [],
   "source": [
    "results = simulate.load_results(output_path, 'MOAO_1650nm_30deg_570mas_hex37')\n",
    "print(f\"SR(0,0)={results['sr'][np.where((results['r'] == 0) & (results['theta'] == 0))[0][0]]:.2f}\")\n",
    "simulate.plot_fov(results, plot_value=plot_value, fov=120*u.arcsec, contours=contour_levels, skip_smoothing=True, fixed_range=True, plot_points=True)"
   ]
  }
 ],
 "metadata": {
  "kernelspec": {
   "display_name": "Python 3",
   "language": "python",
   "name": "python3"
  },
  "language_info": {
   "codemirror_mode": {
    "name": "ipython",
    "version": 3
   },
   "file_extension": ".py",
   "mimetype": "text/x-python",
   "name": "python",
   "nbconvert_exporter": "python",
   "pygments_lexer": "ipython3",
   "version": "3.12.9"
  }
 },
 "nbformat": 4,
 "nbformat_minor": 5
}
