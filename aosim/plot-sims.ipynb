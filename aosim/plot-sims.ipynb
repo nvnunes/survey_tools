{
 "cells": [
  {
   "cell_type": "markdown",
   "id": "d699cf18",
   "metadata": {},
   "source": [
    "### Imports"
   ]
  },
  {
   "cell_type": "code",
   "execution_count": null,
   "id": "87ab539d",
   "metadata": {},
   "outputs": [],
   "source": [
    "%load_ext autoreload\n",
    "%autoreload 2\n",
    "\n",
    "import os\n",
    "import astropy.units as u\n",
    "import numpy as np\n",
    "import simulate"
   ]
  },
  {
   "cell_type": "markdown",
   "id": "0b1aba55",
   "metadata": {},
   "source": [
    "### Options"
   ]
  },
  {
   "cell_type": "code",
   "execution_count": null,
   "id": "75996675",
   "metadata": {},
   "outputs": [],
   "source": [
    "output_path = '/home/keita/projects/TIPTOP_Output'\n",
    "if not os.path.isdir(output_path):\n",
    "    output_path = '/Volumes/TIPTOP_Output'"
   ]
  },
  {
   "cell_type": "markdown",
   "id": "c52307b0",
   "metadata": {},
   "source": [
    "### Plot GNAO"
   ]
  },
  {
   "cell_type": "code",
   "execution_count": null,
   "id": "84de378e",
   "metadata": {},
   "outputs": [],
   "source": [
    "results = simulate.load_results(output_path, 'GNAO_1650nm_30deg_570mas_square121')\n",
    "simulate.plot_fov(results, plot_values='SR', fov=120*u.arcsec, fixed_range=True)"
   ]
  },
  {
   "cell_type": "markdown",
   "id": "df9bee1a",
   "metadata": {},
   "source": [
    "### Plot MOAO"
   ]
  },
  {
   "cell_type": "markdown",
   "id": "869d72eb",
   "metadata": {},
   "source": [
    "NOTE: Differences between the following are likely due to only using a single stage and the HO optimization applied to the NGS taking place over the science points which vary between each of the cases."
   ]
  },
  {
   "cell_type": "code",
   "execution_count": null,
   "id": "29ab8d59",
   "metadata": {},
   "outputs": [],
   "source": [
    "results = simulate.load_results(output_path, 'MOAO_1650nm_30deg_570mas_origin1')\n",
    "print(f\"SR(0,0)={results.sr[np.where((results.r == 0) & (results.theta == 0))[0][0]]:.2f}\")"
   ]
  },
  {
   "cell_type": "code",
   "execution_count": null,
   "id": "3a2fd122",
   "metadata": {},
   "outputs": [],
   "source": [
    "results = simulate.load_results(output_path, 'MOAO-serial_1650nm_30deg_570mas_square121')\n",
    "print(f\"SR(0,0)={results.sr[np.where((results.r == 0) & (results.theta == 0))[0][0]]:.2f}\")\n",
    "simulate.plot_fov(results, plot_values='SR', fov=120*u.arcsec, skip_interpolation=True, fixed_range=True, plot_points=True)"
   ]
  },
  {
   "cell_type": "code",
   "execution_count": null,
   "id": "b1a78186",
   "metadata": {},
   "outputs": [],
   "source": [
    "results = simulate.load_results(output_path, 'MOAO_1650nm_30deg_570mas_square121')\n",
    "print(f\"SR(0,0)={results.sr[np.where((results.r == 0) & (results.theta == 0))[0][0]]:.2f}\")\n",
    "simulate.plot_fov(results, plot_values='SR', fov=120*u.arcsec, skip_interpolation=True, fixed_range=True, plot_points=True)"
   ]
  },
  {
   "cell_type": "code",
   "execution_count": null,
   "id": "4e0aee4b",
   "metadata": {},
   "outputs": [],
   "source": [
    "results = simulate.load_results(output_path, 'MOAO_1650nm_30deg_570mas_hex91')\n",
    "print(f\"SR(0,0)={results.sr[np.where((results.r == 0) & (results.theta == 0))[0][0]]:.2f}\")\n",
    "simulate.plot_fov(results, plot_values='SR', fov=120*u.arcsec, skip_interpolation=True, fixed_range=True, plot_points=True)"
   ]
  },
  {
   "cell_type": "code",
   "execution_count": null,
   "id": "a943d811",
   "metadata": {},
   "outputs": [],
   "source": [
    "results = simulate.load_results(output_path, 'MOAO_1650nm_30deg_570mas_hex61')\n",
    "print(f\"SR(0,0)={results.sr[np.where((results.r == 0) & (results.theta == 0))[0][0]]:.2f}\")\n",
    "simulate.plot_fov(results, plot_values='SR', fov=120*u.arcsec, skip_interpolation=True, fixed_range=True, plot_points=True)"
   ]
  }
 ],
 "metadata": {
  "kernelspec": {
   "display_name": "Python 3",
   "language": "python",
   "name": "python3"
  },
  "language_info": {
   "codemirror_mode": {
    "name": "ipython",
    "version": 3
   },
   "file_extension": ".py",
   "mimetype": "text/x-python",
   "name": "python",
   "nbconvert_exporter": "python",
   "pygments_lexer": "ipython3",
   "version": "3.13.2"
  }
 },
 "nbformat": 4,
 "nbformat_minor": 5
}
