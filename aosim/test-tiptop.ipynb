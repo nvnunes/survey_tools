{
 "cells": [
  {
   "cell_type": "markdown",
   "metadata": {},
   "source": [
    "### Imports"
   ]
  },
  {
   "cell_type": "code",
   "execution_count": null,
   "metadata": {},
   "outputs": [],
   "source": [
    "%load_ext autoreload\n",
    "%autoreload 2\n",
    "\n",
    "import astropy.units as u\n",
    "import numpy as np\n",
    "from tabulate import tabulate\n",
    "import tessellate\n",
    "import simulate\n",
    "from survey_tools import healpix"
   ]
  },
  {
   "cell_type": "markdown",
   "metadata": {},
   "source": [
    "### Options"
   ]
  },
  {
   "cell_type": "code",
   "execution_count": null,
   "metadata": {},
   "outputs": [],
   "source": [
    "config_filename = 'LGSAO.ini'\n",
    "wavelength   = 1.65 * u.micron\n",
    "zenith_angle = 30.0 * u.deg\n",
    "seeing       = 0.60 * u.arcsec"
   ]
  },
  {
   "cell_type": "markdown",
   "metadata": {},
   "source": [
    "### Compute Location of Points in FOV to Simulate"
   ]
  },
  {
   "cell_type": "code",
   "execution_count": null,
   "metadata": {},
   "outputs": [],
   "source": [
    "inner_level = 14\n",
    "fov_radius = 60.0 * u.arcsec\n",
    "pix_area = healpix.get_area(inner_level)\n",
    "num_pix_in_fov = int(np.ceil(np.pi * fov_radius**2 / pix_area))\n",
    "num_rings = tessellate.closest_num_hex_rings(num_pix_in_fov)\n",
    "num_points = tessellate.num_points_using_hex_rings(num_rings)\n",
    "print(f\"Num Points in {fov_radius.to(u.arcsec):.0f} FoV: {num_points}\")\n",
    "\n",
    "points, cells = tessellate.tessellate_circle_with_hexagons(num_rings, fov_radius.to(u.arcsec).value)\n",
    "r, theta = tessellate.to_polar_coordinates(points)\n",
    "theta = np.rad2deg(theta)"
   ]
  },
  {
   "cell_type": "markdown",
   "metadata": {},
   "source": [
    "### Run Simulation"
   ]
  },
  {
   "cell_type": "code",
   "execution_count": null,
   "metadata": {},
   "outputs": [],
   "source": [
    "results, _ = simulate.run_simulation('LGSAO', config_filename, wavelength, zenith_angle, seeing, r, theta, do_plot=True, verbose=True)\n",
    "results['grid_mode'] = 'hex'"
   ]
  },
  {
   "cell_type": "markdown",
   "metadata": {},
   "source": [
    "### Key Metrics"
   ]
  },
  {
   "cell_type": "code",
   "execution_count": null,
   "metadata": {},
   "outputs": [],
   "source": [
    "print('Results:')\n",
    "print(f\"  Mean FWHM [mas]  : {np.mean(results['fwhm']):.1f} ± {np.std(results['fwhm'])/np.sqrt(len(results['fwhm'])):.1f}\")\n",
    "print(f\"  Mean Strehl Ratio: {np.mean(results['sr']):.3f} ± {np.std(results['sr'])/np.sqrt(len(results['sr'])):.3f}\")\n",
    "print(f\"  Mean EE [{results['ee_size']:.0f}] : {np.mean(results['ee']):.3f} ± {np.std(results['ee'])/np.sqrt(len(results['ee'])):.3f}\")\n",
    "\n",
    "display(tabulate(np.column_stack((np.arange(len(points)), results['r'], results['theta'], results['fwhm'], results['sr'], results['ee'])), headers=['Point', 'ZD [arcsec]', 'AZ [deg]', 'FWHM [mas]', 'SR', f\"EE{results['ee_size'].value:.0f}\"], floatfmt=['g', '.1f', '.1f', '.1f', '.2f', '.2f'], tablefmt='html'))"
   ]
  },
  {
   "cell_type": "markdown",
   "metadata": {},
   "source": [
    "### Plot PSF"
   ]
  },
  {
   "cell_type": "code",
   "execution_count": null,
   "metadata": {},
   "outputs": [],
   "source": [
    "simulate.plot_psf(results, index=0)"
   ]
  },
  {
   "cell_type": "markdown",
   "metadata": {},
   "source": [
    "### Plot FOV"
   ]
  },
  {
   "cell_type": "code",
   "execution_count": null,
   "metadata": {},
   "outputs": [],
   "source": [
    "simulate.plot_fov(results, fov=120*u.arcsec, plot_value='SR', skip_smoothing=False, plot_points=True)"
   ]
  }
 ],
 "metadata": {
  "kernelspec": {
   "display_name": "Python 3",
   "language": "python",
   "name": "python3"
  },
  "language_info": {
   "codemirror_mode": {
    "name": "ipython",
    "version": 3
   },
   "file_extension": ".py",
   "mimetype": "text/x-python",
   "name": "python",
   "nbconvert_exporter": "python",
   "pygments_lexer": "ipython3",
   "version": "3.12.9"
  }
 },
 "nbformat": 4,
 "nbformat_minor": 2
}
