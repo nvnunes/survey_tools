{
 "cells": [
  {
   "cell_type": "code",
   "execution_count": null,
   "id": "3c1022e5",
   "metadata": {},
   "outputs": [],
   "source": [
    "%load_ext autoreload\n",
    "%autoreload 2\n",
    "\n",
    "from collections import namedtuple\n",
    "import time\n",
    "from IPython.display import clear_output\n",
    "import numpy as np\n",
    "import matplotlib.pyplot as plt\n",
    "from tabulate import tabulate\n",
    "import tessellate\n"
   ]
  },
  {
   "cell_type": "code",
   "execution_count": null,
   "id": "4666bb77",
   "metadata": {},
   "outputs": [],
   "source": [
    "fov = 120.0\n",
    "radius = fov/2.0"
   ]
  },
  {
   "cell_type": "markdown",
   "id": "a1218a08",
   "metadata": {},
   "source": [
    "### Square Grid"
   ]
  },
  {
   "cell_type": "code",
   "execution_count": null,
   "id": "bfc534ba",
   "metadata": {},
   "outputs": [],
   "source": [
    "N = 11\n",
    "side = radius*2\n",
    "x = np.linspace(-side/2, side/2, N)\n",
    "y = np.linspace(-side/2, side/2, N)\n",
    "grid_x, grid_y = np.meshgrid(x, y)\n",
    "r = np.sqrt(grid_x**2 + grid_y**2).flatten()\n",
    "theta = np.rad2deg(np.arctan2(grid_y, grid_x)).flatten()\n",
    "\n",
    "included = r <= radius\n",
    "num_points_in_circle = np.sum(included)\n",
    "print(f\"Number of points in circle: {num_points_in_circle}\")\n",
    "\n",
    "fig, ax = plt.subplots()\n",
    "circle = plt.Circle((0, 0), radius, color='blue', fill=False, linestyle='--')\n",
    "ax.add_artist(circle)\n",
    "ax.scatter(grid_x.flatten()[included], grid_y.flatten()[included], color='red')\n",
    "ax.scatter(grid_x.flatten()[~included], grid_y.flatten()[~included], color='gray')\n",
    "ax.set_xlim(-radius - 10, radius + 10)\n",
    "ax.set_ylim(-radius - 10, radius + 10)\n",
    "ax.set_aspect('equal')\n",
    "ax.set_xlabel('X')\n",
    "ax.set_ylabel('Y')\n",
    "plt.title(f\"Square Grid 120x120 with {num_points_in_circle} points\")\n",
    "plt.grid(True)\n",
    "plt.show()"
   ]
  },
  {
   "cell_type": "code",
   "execution_count": null,
   "id": "e5111d12",
   "metadata": {},
   "outputs": [],
   "source": [
    "N = 7\n",
    "side = 85.0\n",
    "x = np.linspace(-side/2, side/2, N)\n",
    "y = np.linspace(-side/2, side/2, N)\n",
    "grid_x, grid_y = np.meshgrid(x, y)\n",
    "r = np.sqrt(grid_x**2 + grid_y**2).flatten()\n",
    "theta = np.rad2deg(np.arctan2(grid_y, grid_x)).flatten()\n",
    "\n",
    "included = r < radius\n",
    "num_points_in_circle = np.sum(included)\n",
    "print(f\"Number of points in circle: {num_points_in_circle}\")\n",
    "\n",
    "fig, ax = plt.subplots()\n",
    "circle = plt.Circle((0, 0), radius, color='blue', fill=False, linestyle='--')\n",
    "ax.add_artist(circle)\n",
    "ax.scatter(grid_x.flatten()[included], grid_y.flatten()[included], color='red')\n",
    "ax.scatter(grid_x.flatten()[~included], grid_y.flatten()[~included], color='gray')\n",
    "ax.set_xlim(-radius-10, radius+10)\n",
    "ax.set_ylim(-radius-10, radius+10)\n",
    "ax.set_aspect('equal')\n",
    "ax.set_xlabel('X')\n",
    "ax.set_ylabel('Y')\n",
    "plt.title(f\"Square Grid 85x85 with {num_points_in_circle} points\")\n",
    "plt.grid(True)\n",
    "plt.show()"
   ]
  },
  {
   "cell_type": "markdown",
   "id": "e51219a1",
   "metadata": {},
   "source": [
    "### Hexagonal Grid"
   ]
  },
  {
   "cell_type": "code",
   "execution_count": null,
   "id": "ba0f5eaf",
   "metadata": {},
   "outputs": [],
   "source": [
    "num_rings = 5\n",
    "points, _ = tessellate.tessellate_circle_with_hexagons(num_rings, radius)\n",
    "r, theta = tessellate.to_polar_coordinates(points)\n",
    "print(f\"Number of points in circle: {len(points)}\")\n",
    "\n",
    "fig, ax = plt.subplots(subplot_kw={'projection': 'polar'})\n",
    "ax.scatter(theta, r, color='red')\n",
    "ax.set_xlabel('Azimuth')\n",
    "ax.set_ylabel('Zenith')\n",
    "ax.set_rlim(0, radius)\n",
    "plt.title(f\"Hexagonal Grid with {len(points)} points\")\n",
    "plt.grid(True)\n",
    "plt.show()"
   ]
  },
  {
   "cell_type": "code",
   "execution_count": null,
   "id": "307411a2",
   "metadata": {},
   "outputs": [],
   "source": [
    "num_rings = 4\n",
    "points, _ = tessellate.tessellate_circle_with_hexagons(num_rings, radius)\n",
    "r, theta = tessellate.to_polar_coordinates(points)\n",
    "print(f\"Number of points in circle: {len(points)}\")\n",
    "\n",
    "fig, ax = plt.subplots(subplot_kw={'projection': 'polar'})\n",
    "ax.scatter(theta, r, color='red')\n",
    "ax.set_xlabel('Azimuth')\n",
    "ax.set_ylabel('Zenith')\n",
    "ax.set_rlim(0, radius)\n",
    "plt.title(f\"Hexagonal Grid with {len(points)} points\")\n",
    "plt.grid(True)\n",
    "plt.show()"
   ]
  },
  {
   "cell_type": "code",
   "execution_count": null,
   "id": "12fd3932",
   "metadata": {},
   "outputs": [],
   "source": [
    "num_rings = 3\n",
    "points, _ = tessellate.tessellate_circle_with_hexagons(num_rings, radius, omit_centre=True)\n",
    "r, theta = tessellate.to_polar_coordinates(points)\n",
    "print(f\"Number of points in circle: {len(points)}\")\n",
    "\n",
    "fig, ax = plt.subplots(subplot_kw={'projection': 'polar'})\n",
    "ax.scatter(theta, r, color='red')\n",
    "ax.set_xlabel('Azimuth')\n",
    "ax.set_ylabel('Zenith')\n",
    "ax.set_rlim(0, radius)\n",
    "plt.title(f\"Hexagonal Grid with {len(points)} points\")\n",
    "plt.grid(True)\n",
    "plt.show()"
   ]
  },
  {
   "cell_type": "code",
   "execution_count": null,
   "id": "f030b86b",
   "metadata": {},
   "outputs": [],
   "source": [
    "num_rings = 2\n",
    "points, _ = tessellate.tessellate_circle_with_hexagons(num_rings, radius, omit_centre=True)\n",
    "r, theta = tessellate.to_polar_coordinates(points)\n",
    "print(f\"Number of points in circle: {len(points)}\")\n",
    "\n",
    "fig, ax = plt.subplots(subplot_kw={'projection': 'polar'})\n",
    "ax.scatter(theta, r, color='red')\n",
    "ax.set_xlabel('Azimuth')\n",
    "ax.set_ylabel('Zenith')\n",
    "ax.set_rlim(0, radius)\n",
    "plt.title(f\"Hexagonal Grid with {len(points)} points\")\n",
    "plt.grid(True)\n",
    "plt.show()"
   ]
  },
  {
   "cell_type": "markdown",
   "id": "ff0af6b9",
   "metadata": {},
   "source": [
    "### Symmetric Grid"
   ]
  },
  {
   "cell_type": "code",
   "execution_count": null,
   "id": "d9dc177b",
   "metadata": {},
   "outputs": [],
   "source": [
    "r, theta = tessellate.generate_symmetric_polar_grid(\n",
    "    n_rings = 6,\n",
    "    n_first_ring=1,\n",
    "    r_min=10,\n",
    "    r_max=60,\n",
    "    delta_n=1,\n",
    "    return_polar=True\n",
    ")\n",
    "\n",
    "print(f\"Number of points in circle: {len(r)}\")\n",
    "\n",
    "fig, ax = plt.subplots(subplot_kw={'projection': 'polar'})\n",
    "ax.scatter(theta, r, color='red')\n",
    "ax.set_xlabel('Azimuth')\n",
    "ax.set_ylabel('Zenith')\n",
    "ax.set_rlim(0, radius)\n",
    "plt.title(f\"Symmetrical Grid with {len(r)} points\")\n",
    "plt.grid(True)\n",
    "plt.show()\n",
    "\n",
    "point_headers = [\"Point Index\", \"Radius\", \"Angle (°)\"]\n",
    "\n",
    "# Display the table\n",
    "display(tabulate(list(zip(np.arange(len(r)), r, np.rad2deg(theta))), headers=point_headers, tablefmt='html'))"
   ]
  },
  {
   "cell_type": "code",
   "execution_count": null,
   "id": "d376bc41",
   "metadata": {},
   "outputs": [],
   "source": [
    "asterisms, stats = tessellate.generate_asterisms(r, theta, max_incentre_distance=2.2, return_stats=True)\n",
    "print(f\"Number of possible asterisms: {stats.num_triplets}\")\n",
    "print(f\"Cut asterisms with multiple stars at a single point: {stats.num_non_repeat_triplets}\")\n",
    "print(f\"Number of asterisms that are not degenerate: {stats.num_non_repeat_triplets - stats.num_degenerate}\")\n",
    "print(f\"Number of asterisms with centroid within max radius ({stats.max_incentre_distance}): {stats.num_non_repeat_triplets - stats.num_degenerate - stats.num_not_centered}\")\n",
    "print(f\"Number of geometrically distinct asterisms: {stats.num_asterisms}\")"
   ]
  },
  {
   "cell_type": "code",
   "execution_count": null,
   "id": "99b8b894",
   "metadata": {},
   "outputs": [],
   "source": [
    "fig = plt.figure(figsize=(8, 8))\n",
    "ax = fig.add_subplot(111, projection='polar')\n",
    "ax.set_title(f\"{len(asterisms)} Geometrically Distinct Asterisms\")\n",
    "ax.set_rticks([10, 20, 30, 40, 50])\n",
    "ax.grid(True)\n",
    "ax.set_rlim(0, radius)\n",
    "\n",
    "for asterism in asterisms:\n",
    "    plot_r = list(asterism.r) + [asterism.r[0]]\n",
    "    plot_theta = list(asterism.theta) + [asterism.theta[0]]\n",
    "    ax.plot(plot_theta, plot_r, alpha=0.7)\n",
    "    clear_output(wait=True)\n",
    "    display(fig)\n",
    "    time.sleep(0.5)\n",
    "\n",
    "plt.close(fig)"
   ]
  },
  {
   "cell_type": "code",
   "execution_count": null,
   "id": "6d925c4e",
   "metadata": {},
   "outputs": [],
   "source": [
    "# --- Build asterism table data for display ---\n",
    "def build_asterism_table_data(asterisms, degrees=True):\n",
    "    \"\"\"\n",
    "    Builds the raw data and headers for a table of asterisms with star indices, r, and theta.\n",
    "    \"\"\"\n",
    "    table_data = []\n",
    "    for i, asterism in enumerate(asterisms):\n",
    "        row = []\n",
    "        row.append(i+1)\n",
    "        row.append(round(asterism.score, 3))\n",
    "        row.append(round(asterism.scale, 1))\n",
    "        row.append(round(asterism.area, 1))\n",
    "        for j in range(len(asterism.r)):\n",
    "            row.append(asterism.r[j])\n",
    "            angle = np.rad2deg(asterism.theta[j]) if degrees else asterism.theta[j]\n",
    "            row.append(round(angle, 1))\n",
    "        table_data.append(row)\n",
    "\n",
    "    headers = [\"Asterism\", \"Score\", \"Scale\", \"Area\"]\n",
    "    for i in range(1, len(asterisms[0].r)+1):\n",
    "        headers += [f\"r{i}\", f\"θ{i} (°)\" if degrees else f\"θ{i} (rad)\"]\n",
    "\n",
    "    return table_data, headers\n",
    "\n",
    "table_data, headers = build_asterism_table_data(asterisms)\n",
    "display(tabulate(table_data, headers=headers, tablefmt='html'))"
   ]
  },
  {
   "cell_type": "code",
   "execution_count": null,
   "id": "925037a1",
   "metadata": {},
   "outputs": [],
   "source": [
    "plt.figure(figsize=(10, 6))\n",
    "plt.plot(np.sort([asterism.scale for asterism in asterisms]), marker='o', linestyle='-', color='g', label='Asterism Scales')\n",
    "plt.xlabel('Asterism Count')\n",
    "plt.ylabel('Scale [arcsec]')\n",
    "plt.title('Asterism Scales')\n",
    "plt.axhline(y=fov, color='k', linestyle='--')\n",
    "plt.text(0, fov, 'Max Scale', color='k', ha='left', va='bottom')\n",
    "plt.ylim(0, fov*1.05)\n",
    "plt.grid(True)\n",
    "plt.legend()\n",
    "plt.show()"
   ]
  },
  {
   "cell_type": "code",
   "execution_count": null,
   "id": "5be94b6d",
   "metadata": {},
   "outputs": [],
   "source": [
    "max_area = 3 * np.sqrt(3) / 16 * fov**2\n",
    "plt.figure(figsize=(10, 6))\n",
    "plt.plot(np.sort([asterism.area for asterism in asterisms]), marker='o', linestyle='-', color='r', label='Asterism Areas')\n",
    "plt.xlabel('Asterism Count')\n",
    "plt.ylabel('Area [arcsec²]')\n",
    "plt.title('Asterism Areas')\n",
    "plt.axhline(y=max_area, color='k', linestyle='--')\n",
    "plt.text(0, max_area, 'Max Area', color='k', ha='left', va='bottom')\n",
    "plt.grid(True)\n",
    "plt.legend()\n",
    "plt.show()"
   ]
  },
  {
   "cell_type": "code",
   "execution_count": null,
   "id": "8ea42e1c",
   "metadata": {},
   "outputs": [],
   "source": [
    "plt.figure(figsize=(10, 6))\n",
    "plt.plot([asterism.score for asterism in asterisms], marker='o', linestyle='-', color='b', label='Asterism Scores')\n",
    "plt.xlabel('Asterism Index')\n",
    "plt.ylabel('Score')\n",
    "plt.title('Asterism Scores')\n",
    "plt.axhline(y=1.0, color='k', linestyle='--')\n",
    "plt.text(50, 1.0, 'Equilateral Triangle', color='k', ha='right', va='bottom')\n",
    "plt.grid(True)\n",
    "plt.legend()\n",
    "plt.show()"
   ]
  },
  {
   "cell_type": "code",
   "execution_count": null,
   "id": "80a0e0f5",
   "metadata": {},
   "outputs": [],
   "source": [
    "### Mean Magnitude\n",
    "### Median Magnitude\n",
    "### Max Magnitude\n",
    "### Magnitude PV"
   ]
  }
 ],
 "metadata": {
  "kernelspec": {
   "display_name": "Python 3",
   "language": "python",
   "name": "python3"
  },
  "language_info": {
   "codemirror_mode": {
    "name": "ipython",
    "version": 3
   },
   "file_extension": ".py",
   "mimetype": "text/x-python",
   "name": "python",
   "nbconvert_exporter": "python",
   "pygments_lexer": "ipython3",
   "version": "3.12.9"
  }
 },
 "nbformat": 4,
 "nbformat_minor": 5
}
