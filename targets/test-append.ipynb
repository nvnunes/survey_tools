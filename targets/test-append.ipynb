{
 "cells": [
  {
   "cell_type": "markdown",
   "metadata": {},
   "source": [
    "### Imports"
   ]
  },
  {
   "cell_type": "code",
   "execution_count": null,
   "metadata": {},
   "outputs": [],
   "source": [
    "%load_ext autoreload\n",
    "%autoreload 2\n",
    "\n",
    "import warnings\n",
    "from astropy.constants import si as constants\n",
    "from astropy.table import Table\n",
    "import matplotlib.pyplot as plt\n",
    "import numpy as np\n",
    "from scipy.stats import norm \n",
    "from tabulate import tabulate\n",
    "from survey_tools import sky\n",
    "from survey_tools.utility import plot\n",
    "import targets"
   ]
  },
  {
   "cell_type": "markdown",
   "metadata": {},
   "source": [
    "### Parameters"
   ]
  },
  {
   "cell_type": "code",
   "execution_count": 31,
   "metadata": {},
   "outputs": [],
   "source": [
    "instrument        = 'GNIRS'\n",
    "resolving_power   = 7200\n",
    "wavelength_ranges = np.array([[11700, 13700],[14900, 18000],[19100,24900]]) # angstrom\n",
    "location          = 'MaunaKea' # MaunaKea, Paranal\n",
    "min_ngs_mag       =  8.0\n",
    "max_ngs_mag       = 18.0\n",
    "max_ngs_sep       = 25.0\n",
    "wfs_band          = 'R'\n",
    "obs_epoch         = 2025.0\n",
    "\n",
    "airmass           = 1.5\n",
    "min_photon_rate   = 10   # ph/s/arcsec^2/nm/m^2\n",
    "trans_minimum     = 0.85 # percent\n",
    "trans_multiple    = 0.5  # FWHM of Ha\n",
    "avoid_multiple    = 0.5  # FWHM of Ha\n",
    "\n",
    "default_dz_z = 3e-4\n",
    "default_radius = 1.0/2 # arcsec\n",
    "default_flux_Ha = 15e-17 # erg/s/cm^2\n",
    "default_velocity_dispersion = 200 # km/s\n",
    "default_flux_NII_Ha_ratio = 0.10"
   ]
  },
  {
   "cell_type": "code",
   "execution_count": 32,
   "metadata": {},
   "outputs": [],
   "source": [
    "# From: Kalita et al (2025) arXiv:2501.03328v1\n",
    "galaxies = Table(rows=[\n",
    "    (1987, 149.721750, 1.965500, 1.626438, 10.97, 0.04, 10.25, 0.21, 2.15, 0.22, 10.95, 0.20, 2.15, 0.22,  0,  4),\n",
    "    ( 147, 149.745833, 2.125944, 1.556338, 11.07, 0.02, 10.07, 0.18, 2.00, 0.20, 10.88, 0.17, 2.00, 0.20,  3,  5),\n",
    "    (1704, 149.775542, 2.251639, 1.673098, 10.90, 0.04,  9.73, 0.17, 1.83, 0.20, 10.65, 0.16, 1.83, 0.20,  0,  1),\n",
    "    (2423, 149.825125, 1.978889, 1.487085, 10.91, 0.03, 10.60, 0.17, 1.85, 0.22, 10.45, 0.16, 1.85, 0.22,  1,  8),\n",
    "    (1943, 149.832750, 2.024306, 1.482637, 10.90, 0.02, 10.06, 0.20, 1.76, 0.17, 10.82, 0.11, 1.76, 0.17,  1,  3),\n",
    "    (1147, 149.854708, 2.115111, 1.481732, 11.05, 0.08, 10.34, 0.17, 2.01, 0.24, 10.74, 0.20, 2.01, 0.24,  0,  2),\n",
    "    (  89, 149.855750, 2.130222, 1.478401, 11.09, 0.03, 10.27, 0.13, 1.74, 0.23, 10.55, 0.18, 1.74, 0.23,  2,  2),\n",
    "    (1831, 149.877875, 2.297639, 1.509195, 10.96, 0.05, 10.32, 0.15, 1.90, 0.21, 10.71, 0.16, 1.90, 0.21,  0,  3),\n",
    "    (1766, 149.887792, 2.499833, 1.672921, 10.92, 0.02, 10.36, 0.20, 2.01, 0.17, 10.87, 0.13, 2.01, 0.17,  3,  3),\n",
    "    ( 682, 149.889708, 2.358778, 1.501451, 10.79, 0.02,  9.96, 0.16, 1.63, 0.20, 10.61, 0.14, 1.63, 0.20,  2,  6),\n",
    "    ( 126, 149.912250, 2.281639, 1.550443, 10.96, 0.02, 10.40, 0.20, 1.65, 0.16, 10.64, 0.15, 1.65, 0.16,  7,  8),\n",
    "    (1928, 149.923208, 1.898194, 1.552804, 11.02, 0.02,  9.91, 0.18, 1.89, 0.21, 10.81, 0.16, 1.89, 0.21,  0,  2),\n",
    "    ( 193, 149.925333, 2.135028, 1.470131, 10.91, 0.05, 10.14, 0.17, 1.85, 0.29, 10.66, 0.18, 1.85, 0.29,  2,  6),\n",
    "    (1945, 149.938375, 1.950056, 1.444649, 10.88, 0.05,  9.98, 0.23, 1.19, 0.22, 10.15, 0.15, 1.19, 0.22,  1,  3),\n",
    "    ( 285, 149.972667, 2.490139, 1.453462, 10.92, 0.02,  9.93, 0.18, 1.90, 0.24, 10.65, 0.19, 1.90, 0.24,  0,  1),\n",
    "    (3074, 149.985375, 2.561778, 1.557741, 10.96, 0.08, 10.23, 0.12, 1.90, 0.22, 10.80, 0.16, 1.90, 0.22,  1,  2),\n",
    "    (2074, 149.997875, 2.480861, 1.462140, 11.05, 0.02, 10.22, 0.17, 2.07, 0.23, 10.90, 0.17, 2.07, 0.23, 14, 15),\n",
    "    (1861, 150.001083, 2.321444, 1.459471, 11.00, 0.02, 10.34, 0.17, 1.69, 0.21, 10.59, 0.15, 1.69, 0.21,  2,  3),\n",
    "    (1749, 150.025000, 2.355278, 1.610989, 10.87, 0.06, 10.30, 0.20, 1.72, 0.23, 10.53, 0.18, 1.72, 0.23,  2,  3),\n",
    "    ( 281, 150.124042, 2.447583, 1.599120, 10.97, 0.03, 10.61, 0.16, 1.78, 0.22, 10.59, 0.18, 1.78, 0.22,  3,  3),\n",
    "    (  81, 150.164458, 1.936306, 1.525303, 10.94, 0.02, 10.09, 0.19, 1.84, 0.21, 10.65, 0.16, 1.84, 0.21,  7,  8),\n",
    "    (2151, 150.200875, 2.460639, 1.582532, 10.79, 0.04, 10.22, 0.20, 1.70, 0.23, 10.63, 0.16, 1.70, 0.23,  4,  7),\n",
    "    (1663, 150.220708, 2.013139, 1.604375, 10.86, 0.04, 10.11, 0.17, 1.99, 0.23, 10.81, 0.17, 1.99, 0.23,  4,  4),\n",
    "    ( 482, 150.258083, 2.240167, 1.603783, 10.89, 0.02, 10.15, 0.13, 1.88, 0.22, 10.72, 0.17, 1.88, 0.22,  7,  7),\n",
    "    ( 428, 150.292500, 2.422167, 1.635788, 11.05, 0.04, 10.19, 0.15, 2.19, 0.22, 10.96, 0.19, 2.19, 0.22,  7, 11),\n",
    "    (2905, 150.302250, 1.931889, 1.548028, 10.94, 0.05,  9.89, 0.17, 1.86, 0.19, 10.87, 0.14, 1.86, 0.19,  4,  7),\n",
    "    (1394, 150.365458, 2.227500, 1.699351, 11.28, 0.05, 10.38, 0.17, 1.99, 0.14, 11.02, 0.11, 1.99, 0.14,  3,  3),\n",
    "    (3165, 150.394917, 2.456361, 1.438470, 10.74, 0.04, 10.12, 0.17, 1.91, 0.24, 10.65, 0.19, 1.91, 0.24,  6,  9),\n",
    "    (1334, 150.402917, 2.408833, 1.514096, 10.54, 0.04,  9.93, 0.16, 1.88, 0.20, 10.79, 0.18, 1.88, 0.20,  3,  7),\n",
    "    ( 852, 150.441542, 2.129222, 1.557442, 11.44, 0.02, 10.44, 0.12, 2.27, 0.23, 10.98, 0.15, 2.27, 0.23,  6, 10),\n",
    "    (4003, 150.469292, 2.476528, 1.579673, 10.86, 0.10, 10.00, 0.15, 1.69, 0.22, 10.62, 0.16, 1.69, 0.22,  4,  4),\n",
    "    ( 495, 150.482708, 2.304139, 1.485021, 10.66, 0.02,  9.68, 0.18, 1.90, 0.23, 10.59, 0.18, 1.90, 0.23,  3,  7),\n",
    "], names=[\n",
    "    'id', 'ra', 'dec', 'z',\n",
    "    'mass', 'mass_unc',\n",
    "    'mass_buldge', 'mass_buldge_unc',\n",
    "    'sfr_buldge', 'sfr_buldge_unc',\n",
    "    'mass_disk', 'mass_disk_unc',\n",
    "    'sfr_disk', 'sfr_disk_unc',\n",
    "    'clumps', 'clump_candidates'\n",
    "])"
   ]
  },
  {
   "cell_type": "code",
   "execution_count": 33,
   "metadata": {},
   "outputs": [],
   "source": [
    "if 'z_unc' not in galaxies.colnames:\n",
    "    galaxies['z_unc'] = default_dz_z * (1 + galaxies['z'])\n",
    "if 'radius' not in galaxies.colnames:\n",
    "    galaxies['radius'] = default_radius\n",
    "if 'flux_Ha' not in galaxies.colnames:\n",
    "    galaxies['flux_Ha'] = default_flux_Ha\n",
    "if 'flux_NIIa' not in galaxies.colnames:\n",
    "    galaxies['flux_NIIa'] = default_flux_Ha * default_flux_NII_Ha_ratio\n",
    "if 'flux_NIIb' not in galaxies.colnames:\n",
    "    galaxies['flux_NIIb'] = default_flux_Ha * default_flux_NII_Ha_ratio\n",
    "if 'velocity_dispersion' not in galaxies.colnames:\n",
    "    galaxies['velocity_dispersion'] = default_velocity_dispersion"
   ]
  },
  {
   "cell_type": "code",
   "execution_count": 34,
   "metadata": {},
   "outputs": [],
   "source": [
    "if np.ndim(wavelength_ranges) == 1:\n",
    "    min_wavelength = wavelength_ranges[0]\n",
    "    max_wavelength = wavelength_ranges[1]\n",
    "else:\n",
    "    min_wavelength = wavelength_ranges[0,0]\n",
    "    max_wavelength = wavelength_ranges[-1,1]\n",
    "\n",
    "sky_transmission_data = sky.load_transmission_data(location, airmass)\n",
    "sky_background_data = sky.load_background_data(location, airmass)"
   ]
  },
  {
   "cell_type": "markdown",
   "metadata": {},
   "source": [
    "### Gather Emission Line Information"
   ]
  },
  {
   "cell_type": "code",
   "execution_count": 35,
   "metadata": {},
   "outputs": [],
   "source": [
    "eml_names = np.array(['Ha', 'NIIa', 'NIIb'])\n",
    "eml_wavelength_rest = np.array([6564.610, 6549.89, 6585.27])\n",
    "eml_wavelength_vac = np.zeros((len(galaxies), len(eml_names)))\n",
    "eml_wavelength_atm = np.zeros((len(galaxies), len(eml_names)))\n",
    "eml_transmission   = np.zeros((len(galaxies), len(eml_names)))\n",
    "eml_fwhm           = np.zeros((len(galaxies), len(eml_names)))\n",
    "eml_dwavelength    = np.zeros((len(galaxies), len(eml_names)))\n",
    "eml_sigma          = np.zeros((len(galaxies), len(eml_names)))\n",
    "eml_flux           = np.zeros((len(galaxies), len(eml_names)))\n",
    "eml_sb             = np.zeros((len(galaxies), len(eml_names)))\n",
    "eml_ph_energy      = np.zeros((len(galaxies), len(eml_names)))\n",
    "eml_ph_rate        = np.zeros((len(galaxies), len(eml_names)))\n",
    "eml_sky_rate       = np.zeros((len(galaxies), len(eml_names)))\n",
    "eml_reject         = np.zeros((len(galaxies), len(eml_names)), dtype=np.bool)\n",
    "\n",
    "for i in range(len(eml_names)):\n",
    "    eml_wavelength_vac[:,i] = eml_wavelength_rest[i] * (1 + galaxies['z'])\n",
    "    eml_wavelength_atm[:,i] = sky.get_vacuum_to_air_wavelength(eml_wavelength_vac[:,i])\n",
    "    eml_transmission[:,i] = sky.get_mean_transmission(sky_transmission_data, eml_wavelength_atm[:,i], default_velocity_dispersion, resolving_power, trans_multiple)\n",
    "    eml_fwhm[:,i] = eml_wavelength_atm[:,i] * default_velocity_dispersion / constants.c.to('km/s').value\n",
    "    eml_dwavelength[:,i] = np.sqrt((eml_wavelength_atm[:,i]/resolving_power)**2 + eml_fwhm[:,i]**2)\n",
    "    eml_sigma[:,i] = eml_dwavelength[:,i] / 2.35482 # FWHM -> sigma\n",
    "    eml_flux[:,i] = galaxies[f\"flux_{eml_names[i]}\"]\n",
    "    eml_sb[:,i] = eml_flux[:,i]/(np.pi*galaxies['radius']**2) # erg/s/cm^2/arcsec^2\n",
    "    eml_ph_energy[:,i] = 6.626e-27 * 2.998e10 / (eml_wavelength_atm[:,i]/1e8) # erg\n",
    "    eml_ph_rate[:,i] = eml_sb[:,i] / eml_ph_energy[:,i] / (eml_fwhm[:,i]/10) * 100**2  # ph/s/arcsec^2/nm/m^2\n",
    "    eml_sky_rate[:,i] = sky.get_background(sky_background_data, eml_wavelength_atm[:,i], [eml_wavelength_atm[:,i] - eml_fwhm[:,i]*10, eml_wavelength_atm[:,i] + eml_fwhm[:,i]*10], resolving_power)\n",
    "    eml_reject[:,i] = sky.reject_emission_line(sky_background_data, sky_transmission_data, eml_wavelength_atm[:,i], default_velocity_dispersion, resolving_power, wavelength_ranges, trans_minimum, trans_multiple, avoid_multiple, min_photon_rate)\n",
    "\n",
    "for i in range(len(eml_names)):\n",
    "    galaxies[f\"trans_{eml_names[i]}\"] = eml_transmission[:,i]\n",
    "    galaxies[f\"reject_{eml_names[i]}\"] = eml_reject[:,i]\n",
    "\n",
    "index_Ha = np.where(eml_names == 'Ha')[0][0]\n",
    "index_NIIa = np.where(eml_names == 'NIIa')[0][0]\n",
    "index_NIIb= np.where(eml_names == 'NIIb')[0][0]\n",
    "\n",
    "min_wavelength_range = (eml_wavelength_atm[:,index_NIIb] - eml_wavelength_atm[:,index_Ha]) * 1.2\n",
    "\n",
    "del i"
   ]
  },
  {
   "cell_type": "markdown",
   "metadata": {},
   "source": [
    "### Gather NGS Information"
   ]
  },
  {
   "cell_type": "code",
   "execution_count": 36,
   "metadata": {},
   "outputs": [],
   "source": [
    "galaxies['ngs_count'] = np.zeros(len(galaxies))\n",
    "galaxies['ngs_best_sep'] = np.full(len(galaxies), np.nan)\n",
    "galaxies['ngs_best_mag'] = np.full(len(galaxies), np.nan)\n",
    "\n",
    "for i in range(len(galaxies)):\n",
    "    stars = targets.find_nearby_stars(galaxies['ra'][i], galaxies['dec'][i], min_mag=min_ngs_mag, max_mag=max_ngs_mag, max_sep=max_ngs_sep, wfs_band=wfs_band, epoch=obs_epoch)\n",
    "    galaxies['ngs_count'][i] = len(stars)\n",
    "    if len(stars) > 0:\n",
    "        galaxies['ngs_best_sep'][i] = np.min(stars['sep'])\n",
    "        galaxies['ngs_best_mag'][i] = np.min(stars[f\"gaia_{wfs_band}\"])\n",
    "\n",
    "del i"
   ]
  },
  {
   "cell_type": "markdown",
   "metadata": {},
   "source": [
    "### Export Target Data"
   ]
  },
  {
   "cell_type": "code",
   "execution_count": 37,
   "metadata": {},
   "outputs": [],
   "source": [
    "galaxies.write(f\"../output/{instrument}-galaxies.txt\", format='ascii', overwrite=True)"
   ]
  },
  {
   "cell_type": "markdown",
   "metadata": {},
   "source": [
    "### Details on Selected Target"
   ]
  },
  {
   "cell_type": "code",
   "execution_count": 38,
   "metadata": {},
   "outputs": [],
   "source": [
    "selected_target_id = 682\n",
    "target_index = np.where(galaxies['id'] == selected_target_id)[0][0]"
   ]
  },
  {
   "cell_type": "code",
   "execution_count": null,
   "metadata": {},
   "outputs": [],
   "source": [
    "print(f\"  Target ID: {galaxies['id'][target_index]}\")\n",
    "print(f\"   Redshift: {galaxies['z'][target_index]:.4f}\")\n",
    "print(f\"  Ha in Vac: {eml_wavelength_vac[target_index, index_Ha]/10:.2f} nm\")\n",
    "print(f\"        Atm: {eml_wavelength_atm[target_index, index_Ha]/10:.2f} nm\")\n",
    "print(f\"       FWHM: {eml_fwhm[target_index, index_Ha]/10:.2f} nm [{default_velocity_dispersion:.0f} km/s]\")\n",
    "print(f\"          R: {resolving_power:.0f} [dLambda = {eml_dwavelength[target_index, index_Ha]/10:.1f} nm]\")\n",
    "print(f\"  Line Flux: {galaxies['flux_Ha'][target_index]:.1e} erg/s/cm^2\")\n",
    "print(f\"         SB: {eml_sb[target_index, index_Ha]:.1e} erg/s/cm^2/arcsec^2  [{eml_sb[target_index, index_Ha]/1000:.1e} W/m^2/arcsec^2    ]\")\n",
    "print(f\"    Ph Rate: {eml_ph_rate[target_index, index_Ha]:.1f}     ph/s/arcsec^2/nm/m^2 [{eml_ph_rate[target_index, index_Ha]*eml_ph_energy[target_index, index_Ha]*1e-7*1e9:.1e} J/s/m^2/m/arcsec^2]\")\n",
    "print(f\"Sky Ph Rate: {eml_sky_rate[target_index, index_Ha]:.1f}     ph/s/arcsec^2/nm/m^2 [{eml_sky_rate[target_index, index_Ha]*eml_ph_energy[target_index, index_Ha]*1e-7*1e9:.1e} J/s/m^2/m/arcsec^2]\")"
   ]
  },
  {
   "cell_type": "markdown",
   "metadata": {},
   "source": [
    "### Sky Transmission Near Selected Target"
   ]
  },
  {
   "cell_type": "code",
   "execution_count": null,
   "metadata": {},
   "outputs": [],
   "source": [
    "plot_dwavelength = max(min_wavelength_range[target_index], eml_dwavelength[target_index,index_Ha]*8)\n",
    "plot_xrange = np.round(np.array([eml_wavelength_atm[target_index,index_Ha] - plot_dwavelength, eml_wavelength_atm[target_index,index_Ha] + plot_dwavelength])/10, 0)*10\n",
    "plot_yrange = [70, 101]\n",
    "\n",
    "wavelength_filter = (sky_transmission_data['wavelength'] >= plot_xrange[0]) & (sky_transmission_data['wavelength'] <= plot_xrange[1])\n",
    "sky_wavelengths = sky_transmission_data['wavelength'][wavelength_filter]\n",
    "\n",
    "_, ax = plot.create_plot(title=f\"{location} IR Sky Transmission\")\n",
    "ax.plot(sky_wavelengths, sky_transmission_data['transmission'][wavelength_filter]*100, linestyle='-', color='b', linewidth=1)\n",
    "ax.set_xlabel('Wavelength [Angstrom]')\n",
    "ax.set_ylabel('Transmission [%]')\n",
    "ax.set_ylim(plot_yrange)\n",
    "\n",
    "for i in range(len(eml_names)):\n",
    "    wavelength_unc = eml_wavelength_atm[target_index,i] * galaxies['z_unc'][target_index]\n",
    "    color = 'r' if eml_transmission[target_index,i] < trans_minimum else 'g'\n",
    "    plt.axvline(x=eml_wavelength_atm[target_index,i]-wavelength_unc, linestyle='-', linewidth=0.5, color='k')\n",
    "    ax.fill_between(sky_wavelengths, plot_yrange[0], plot_yrange[1], where=(abs(sky_wavelengths - eml_wavelength_atm[target_index,i]) < wavelength_unc), facecolor=[0.8,0.8,0.8], alpha=0.3)\n",
    "    plt.axvline(x=eml_wavelength_atm[target_index,i]+wavelength_unc, linestyle='-', linewidth=0.5, color='k')\n",
    "    ax.fill_between(sky_wavelengths, plot_yrange[0], plot_yrange[1], where=(abs(sky_wavelengths - eml_wavelength_atm[target_index,i]) < eml_dwavelength[target_index,i]*trans_multiple), facecolor=[0.5,0.5,0.5], alpha=0.3)\n",
    "    plt.axvline(x=eml_wavelength_atm[target_index,i], linestyle=':', linewidth=1, color='k')\n",
    "    plt.hlines(y=eml_transmission[target_index,i]*100, xmin=(eml_wavelength_atm[target_index,i] - eml_dwavelength[target_index,i]*trans_multiple), xmax=(eml_wavelength_atm[target_index,i] + eml_dwavelength[target_index,i]*trans_multiple), linestyle='-', linewidth=2, color=color)\n",
    "    plt.text(0.05, 0.07, f\"id={galaxies['id'][target_index]}\\nz={galaxies['z'][target_index]:.4f}\\ndz={galaxies['z_unc'][target_index]:.4f}\", transform=ax.transAxes, bbox=dict(facecolor='white', alpha=0.5))\n",
    "\n",
    "    print(f\"Sky Transmission at {eml_wavelength_atm[target_index,i]/10:.2f} nm ({eml_names[i]}): {eml_transmission[target_index,i]*100:.1f}%\")\n",
    "\n",
    "plt.show()\n",
    "\n",
    "# Legend:\n",
    "# - Dotted line is expected wavelength based on redshift\n",
    "# - Shadded light gray is uncertainty of wavelength based on redshift uncertainty\n",
    "# - Shadded dark gray is region over which transmision is calculated\n",
    "# - Horizontal lines are average transmission (green means averge above threshold while red means below)\n",
    "\n",
    "del plot_dwavelength, plot_xrange, plot_yrange, wavelength_filter, sky_wavelengths, ax, i, color"
   ]
  },
  {
   "cell_type": "markdown",
   "metadata": {},
   "source": [
    "### Sky Background Near Selected Target"
   ]
  },
  {
   "cell_type": "code",
   "execution_count": null,
   "metadata": {},
   "outputs": [],
   "source": [
    "plot_dwavelength = max(min_wavelength_range[target_index], eml_dwavelength[target_index,index_Ha]*5)\n",
    "plot_xrange = np.round(np.array([eml_wavelength_atm[target_index, index_Ha] - plot_dwavelength, eml_wavelength_atm[target_index, index_Ha] + plot_dwavelength])/10, 0)*10\n",
    "plot_yrange = [0.1, 1e4]\n",
    "\n",
    "sky_wavelengths = np.linspace(plot_xrange[0], plot_xrange[1], 1000)\n",
    "sky_background_data_low_res = sky.get_low_res_background(sky_background_data, plot_xrange, resolving_power)\n",
    "sky_lines = sky.find_sky_lines(sky_background_data_low_res, min_photon_rate)\n",
    "\n",
    "_, ax = plot.create_plot(title=f\"{location} IR Sky Background\")\n",
    "ax.plot(sky_background_data_low_res['wavelength'], sky_background_data_low_res['emission'], linestyle='-', color='b', linewidth=1)\n",
    "ax.scatter(sky_lines['wavelength'], sky_lines['emission'], marker='x', color='b')\n",
    "plt.hlines(y=sky_lines[\"width_height\"], xmin=sky_lines[\"wavelength_low\"], xmax=sky_lines[\"wavelength_high\"], linestyle='-', color='b')        \n",
    "ax.axhline(min_photon_rate, linestyle=':', linewidth=1, color='k')\n",
    "ax.set_xlim(plot_xrange)\n",
    "ax.set_ylim(plot_yrange)\n",
    "ax.set_yscale('log')\n",
    "ax.set_xlabel('Wavelength [Angstrom]')\n",
    "ax.set_ylabel('Emission [$ph/s/arcsec^2/nm/m^2$]')\n",
    "\n",
    "for i in range(len(eml_names)):\n",
    "    wavelength_unc = eml_wavelength_atm[target_index,i] * galaxies['z_unc'][target_index]\n",
    "    color = 'r' if eml_reject[target_index,i] else 'g'\n",
    "    plt.axvline(x=eml_wavelength_atm[target_index,i]-wavelength_unc, linestyle='-', linewidth=0.5, color='k')\n",
    "    ax.fill_between(sky_wavelengths, plot_yrange[0], plot_yrange[1], where=(abs(sky_wavelengths - eml_wavelength_atm[target_index,i]) < wavelength_unc), facecolor=[0.8,0.8,0.8], alpha=0.3)\n",
    "    plt.axvline(x=eml_wavelength_atm[target_index,i]+wavelength_unc, linestyle='-', linewidth=0.5, color='k')\n",
    "    ax.fill_between(sky_background_data_low_res['wavelength'], plot_yrange[0], plot_yrange[1], where=(abs(sky_background_data_low_res['wavelength'] - eml_wavelength_atm[target_index,i]) < eml_dwavelength[target_index,i]*avoid_multiple), facecolor=[0.5,0.5,0.5], alpha=0.3)\n",
    "    ax.plot(sky_wavelengths, eml_ph_rate[target_index,i] * np.sqrt(2*np.pi) * eml_sigma[target_index,i] * norm.pdf(sky_wavelengths, eml_wavelength_atm[target_index,i], eml_sigma[target_index,i]), linestyle='-', linewidth=2, color=color)\n",
    "    plt.axvline(x=eml_wavelength_atm[target_index,i], linestyle=':', linewidth=1, color='k')\n",
    "    plt.text(0.05, 0.82, f\"id={galaxies['id'][target_index]}\\nz={galaxies['z'][target_index]:.4f}\\ndz={galaxies['z_unc'][target_index]:.4f}\", transform=ax.transAxes, bbox=dict(facecolor='white', alpha=0.5))\n",
    "\n",
    "    index = np.argmin(np.abs(sky_background_data_low_res['wavelength'] - eml_wavelength_atm[target_index,i]))\n",
    "    print(f\"Sky Background at {sky_background_data_low_res['wavelength'][index]/10:.2f} nm ({eml_names[i]}) = {sky_background_data_low_res['emission'][index]:.1f} ph/s/arcsec^2/nm/m^2\")\n",
    "\n",
    "plt.show()\n",
    "\n",
    "# Legend:\n",
    "# - Dotted line is expected wavelength based on redshift\n",
    "# - Shadded light gray is uncertainty of wavelength based on redshift uncertainty\n",
    "# - Shadded dark gray is sky line avoidance region\n",
    "# - Green profile means no line in avoidance region\n",
    "# - Red profile means there is a sky line in avoidance region\n",
    "\n",
    "del plot_dwavelength, plot_xrange, plot_yrange, ax, i, color, index"
   ]
  },
  {
   "cell_type": "markdown",
   "metadata": {},
   "source": [
    "### Stars Near Selected Target"
   ]
  },
  {
   "cell_type": "code",
   "execution_count": null,
   "metadata": {},
   "outputs": [],
   "source": [
    "stars = targets.find_nearby_stars(galaxies['ra'][target_index], galaxies['dec'][target_index], min_mag=min_ngs_mag, max_mag=max_ngs_mag, max_sep=max_ngs_sep, wfs_band=wfs_band, epoch=obs_epoch)\n",
    "\n",
    "if len(stars) == 0:\n",
    "    print(\"No stars found\")\n",
    "else:\n",
    "    warnings.simplefilter('ignore', UserWarning)\n",
    "    display(tabulate(stars, headers=stars.colnames, tablefmt='html'))\n",
    "    warnings.resetwarnings()"
   ]
  }
 ],
 "metadata": {
  "kernelspec": {
   "display_name": ".venv",
   "language": "python",
   "name": "python3"
  },
  "language_info": {
   "codemirror_mode": {
    "name": "ipython",
    "version": 3
   },
   "file_extension": ".py",
   "mimetype": "text/x-python",
   "name": "python",
   "nbconvert_exporter": "python",
   "pygments_lexer": "ipython3",
   "version": "3.13.1"
  }
 },
 "nbformat": 4,
 "nbformat_minor": 2
}
