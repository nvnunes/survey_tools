{
 "cells": [
  {
   "cell_type": "markdown",
   "metadata": {},
   "source": [
    "### Imports"
   ]
  },
  {
   "cell_type": "code",
   "execution_count": null,
   "metadata": {},
   "outputs": [],
   "source": [
    "%load_ext autoreload\n",
    "%autoreload 2\n",
    "\n",
    "from tabulate import tabulate\n",
    "from survey_tools import catalog\n",
    "import targets"
   ]
  },
  {
   "cell_type": "markdown",
   "metadata": {},
   "source": [
    "### Options"
   ]
  },
  {
   "cell_type": "code",
   "execution_count": 124,
   "metadata": {},
   "outputs": [],
   "source": [
    "experiment = 'RainingClumps'\n",
    "catalog_name = 'UVISTA-PLUS'\n",
    "field = 'COSMOS'\n",
    "galaxy_ids = [25607, 67378, 145441, 189607, 212368, 253525]\n",
    "target_id = 145441\n",
    "\n",
    "options = {\n",
    "    'instrument'        : 'GNIRS-LR_IFU-Altair-LGSAO',\n",
    "    'resolving_power'   : 7200,\n",
    "    'obs_epoch'         : 2025.0,\n",
    "    'lines'             : ['NIIa', 'Ha', 'NIIb'],\n",
    "    'default_dz'        : 3e-4, # deprectate\n",
    "    'default_dispersion': 200.0, # deprectate\n",
    "}\n",
    "\n",
    "reload = False"
   ]
  },
  {
   "cell_type": "markdown",
   "metadata": {},
   "source": [
    "### Load Target"
   ]
  },
  {
   "cell_type": "code",
   "execution_count": 125,
   "metadata": {},
   "outputs": [],
   "source": [
    "if reload or not targets.exists_details(experiment):\n",
    "    galaxies, lines, options = targets.append_details(options, [catalog_name, galaxy_ids])\n",
    "    targets.save_details(experiment, galaxies, lines, options)\n",
    "    del galaxies, lines, options"
   ]
  },
  {
   "cell_type": "code",
   "execution_count": 126,
   "metadata": {},
   "outputs": [],
   "source": [
    "galaxy, lines, options = targets.load_details(experiment, id=target_id)"
   ]
  },
  {
   "cell_type": "code",
   "execution_count": 127,
   "metadata": {},
   "outputs": [],
   "source": [
    "catalog_ids, catalog_zs, catalog_spp, catalog_lines = catalog.get_source_info(catalog_name, target_id, reload=reload)"
   ]
  },
  {
   "cell_type": "markdown",
   "metadata": {},
   "source": [
    "### Details on Target"
   ]
  },
  {
   "cell_type": "code",
   "execution_count": null,
   "metadata": {},
   "outputs": [],
   "source": [
    "targets.print_summary(galaxy, lines, options, line_name='Ha')"
   ]
  },
  {
   "cell_type": "markdown",
   "metadata": {},
   "source": [
    "### Catalog Info"
   ]
  },
  {
   "cell_type": "code",
   "execution_count": null,
   "metadata": {},
   "outputs": [],
   "source": [
    "if catalog_ids is not None:\n",
    "    display(tabulate(catalog_ids, headers=catalog_ids.colnames, tablefmt='html', floatfmt='.0f'))"
   ]
  },
  {
   "cell_type": "code",
   "execution_count": null,
   "metadata": {},
   "outputs": [],
   "source": [
    "if catalog_zs is not None:\n",
    "    display(tabulate(catalog_zs, headers=catalog_zs.colnames, tablefmt='html', floatfmt='.4f'))"
   ]
  },
  {
   "cell_type": "code",
   "execution_count": null,
   "metadata": {},
   "outputs": [],
   "source": [
    "if catalog_spp is not None:\n",
    "    display(tabulate(catalog_spp, headers=catalog_spp.colnames, tablefmt='html', floatfmt='.2f'))"
   ]
  },
  {
   "cell_type": "code",
   "execution_count": null,
   "metadata": {},
   "outputs": [],
   "source": [
    "if catalog_lines is not None:\n",
    "    display(tabulate(catalog_lines, headers=catalog_lines.colnames, floatfmt='.1e', tablefmt='html'))"
   ]
  },
  {
   "cell_type": "markdown",
   "metadata": {},
   "source": [
    "### Target Spectra"
   ]
  },
  {
   "cell_type": "code",
   "execution_count": null,
   "metadata": {},
   "outputs": [],
   "source": [
    "targets.plot_catalog_spectra(galaxy, catalog_ids, field, figsize=(10, 3), options=options, lines=lines)"
   ]
  },
  {
   "cell_type": "markdown",
   "metadata": {},
   "source": [
    "### Nearby Stars"
   ]
  },
  {
   "cell_type": "code",
   "execution_count": null,
   "metadata": {},
   "outputs": [],
   "source": [
    "stars = targets.find_nearby_stars(galaxy['ra'], galaxy['dec'], options)\n",
    "if len(stars) == 0:\n",
    "    print(\"No stars found\")\n",
    "else:\n",
    "    display(tabulate(stars, headers=stars.colnames, floatfmt='.0f', tablefmt='html'))"
   ]
  }
 ],
 "metadata": {
  "kernelspec": {
   "display_name": ".venv",
   "language": "python",
   "name": "python3"
  },
  "language_info": {
   "codemirror_mode": {
    "name": "ipython",
    "version": 3
   },
   "file_extension": ".py",
   "mimetype": "text/x-python",
   "name": "python",
   "nbconvert_exporter": "python",
   "pygments_lexer": "ipython3",
   "version": "3.13.1"
  }
 },
 "nbformat": 4,
 "nbformat_minor": 2
}
