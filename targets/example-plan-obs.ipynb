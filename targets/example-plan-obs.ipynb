{
 "cells": [
  {
   "cell_type": "markdown",
   "metadata": {},
   "source": [
    "### Imports"
   ]
  },
  {
   "cell_type": "code",
   "execution_count": null,
   "metadata": {},
   "outputs": [],
   "source": [
    "%load_ext autoreload\n",
    "%autoreload 2\n",
    "\n",
    "import numpy as np\n",
    "from tabulate import tabulate\n",
    "import targets"
   ]
  },
  {
   "cell_type": "markdown",
   "metadata": {},
   "source": [
    "### Options"
   ]
  },
  {
   "cell_type": "code",
   "execution_count": null,
   "metadata": {},
   "outputs": [],
   "source": [
    "experiment = 'RainingClumps'\n",
    "catalog_name = 'UVISTA-PLUS'\n",
    "field = 'COSMOS'\n",
    "target_id = 145441 # COSMOS2015 489594\n",
    "\n",
    "options = {\n",
    "    'instrument'        : 'GNIRS-LR_IFU-Altair-LGSAO',\n",
    "    'resolving_power'   : 7200,\n",
    "    'obs_epoch'         : 2025.1068, # 2025-02-08\n",
    "    'lines'             : ['NIIa', 'Ha', 'NIIb'],\n",
    "    'default_dz'        : 3e-4, # deprectate\n",
    "    'default_dispersion': 200.0, # deprectate\n",
    "}\n",
    "\n",
    "reload = False"
   ]
  },
  {
   "cell_type": "markdown",
   "metadata": {},
   "source": [
    "### Load Target"
   ]
  },
  {
   "cell_type": "code",
   "execution_count": null,
   "metadata": {},
   "outputs": [],
   "source": [
    "if reload or not targets.exists_details(experiment):\n",
    "    galaxies, lines, options = targets.append_details(options, [catalog_name, [target_id]])\n",
    "    targets.save_details(experiment, galaxies, lines, options)\n",
    "    del galaxies, lines, options"
   ]
  },
  {
   "cell_type": "code",
   "execution_count": null,
   "metadata": {},
   "outputs": [],
   "source": [
    "galaxy, lines, options = targets.load_details(experiment, id=target_id)"
   ]
  },
  {
   "cell_type": "markdown",
   "metadata": {},
   "source": [
    "### Details on Selected Target"
   ]
  },
  {
   "cell_type": "code",
   "execution_count": null,
   "metadata": {},
   "outputs": [],
   "source": [
    "targets.print_summary(galaxy, lines, options, line_name='Ha')"
   ]
  },
  {
   "cell_type": "markdown",
   "metadata": {},
   "source": [
    "### Sky Transmission"
   ]
  },
  {
   "cell_type": "code",
   "execution_count": null,
   "metadata": {},
   "outputs": [],
   "source": [
    "targets.plot_sky_transmission(galaxy, lines, options)"
   ]
  },
  {
   "cell_type": "markdown",
   "metadata": {},
   "source": [
    "### Sky Background"
   ]
  },
  {
   "cell_type": "code",
   "execution_count": null,
   "metadata": {},
   "outputs": [],
   "source": [
    "targets.plot_sky_background(galaxy, lines, options)"
   ]
  },
  {
   "cell_type": "markdown",
   "metadata": {},
   "source": [
    "### Nearby Stars"
   ]
  },
  {
   "cell_type": "code",
   "execution_count": null,
   "metadata": {},
   "outputs": [],
   "source": [
    "stars = targets.find_nearby_stars(galaxy['ra'], galaxy['dec'], options)\n",
    "if len(stars) == 0:\n",
    "    print(\"No stars found\")\n",
    "else:\n",
    "    display(tabulate(targets.fix_gaia_ids_for_display(stars), headers=stars.colnames, tablefmt='html'))\n",
    "\n",
    "    ngs_id = 3836241737698207488\n",
    "\n",
    "    stars_idx = np.where(stars['gaia_id'] == ngs_id)[0][0]\n",
    "    print(f\"Obs Epoch ({options['obs_epoch']}): ra={stars['obs_ra'][stars_idx]:.10f} dec={stars['obs_dec'][stars_idx]:.10f}\")\n",
    "    del stars_idx"
   ]
  },
  {
   "cell_type": "markdown",
   "metadata": {},
   "source": [
    "### Available Images"
   ]
  },
  {
   "cell_type": "code",
   "execution_count": null,
   "metadata": {},
   "outputs": [],
   "source": [
    "catalog_filters = targets.get_catalog_filters(field, galaxy)\n",
    "if catalog_filters is None or len(catalog_filters) == 0:\n",
    "    print(\"No catalog images found\")\n",
    "else:\n",
    "    display(tabulate(catalog_filters, headers=catalog_filters.colnames, tablefmt='html'))\n",
    "\n",
    "catalog_filter_index = 1"
   ]
  },
  {
   "cell_type": "code",
   "execution_count": null,
   "metadata": {},
   "outputs": [],
   "source": [
    "space_filters = targets.get_space_filters(field, galaxy)\n",
    "if space_filters is None or len(space_filters) == 0:\n",
    "    print('No space imaging found')\n",
    "else:\n",
    "    display(tabulate(space_filters, headers=space_filters.colnames, tablefmt='html'))\n",
    "\n",
    "space_filter_index = 1"
   ]
  },
  {
   "cell_type": "markdown",
   "metadata": {},
   "source": [
    "### Cut-Outs"
   ]
  },
  {
   "cell_type": "code",
   "execution_count": null,
   "metadata": {},
   "outputs": [],
   "source": [
    "catalog_cutout = targets.get_catalog_cutout(field, galaxy, options, catalog_filters['filter'][catalog_filter_index])\n",
    "decon_cutout = targets.get_decon_cutout(field, galaxy, return_none_if_missing=True)\n",
    "space_cutout = targets.get_space_cutout(field, galaxy, space_filters['filter'][space_filter_index])"
   ]
  },
  {
   "cell_type": "code",
   "execution_count": null,
   "metadata": {},
   "outputs": [],
   "source": [
    "if decon_cutout is None:\n",
    "    targets.plot_galaxy_cutouts(galaxy, options, [catalog_cutout, space_cutout])\n",
    "else:\n",
    "    targets.plot_galaxy_cutouts(galaxy, options, [catalog_cutout, decon_cutout, space_cutout])"
   ]
  },
  {
   "cell_type": "code",
   "execution_count": null,
   "metadata": {},
   "outputs": [],
   "source": [
    "targets.plot_galaxy_cutouts(galaxy, options, catalog_cutout, cbar=True, skip_norm=True)"
   ]
  },
  {
   "cell_type": "markdown",
   "metadata": {},
   "source": [
    "### Simulate IFU"
   ]
  },
  {
   "cell_type": "code",
   "execution_count": null,
   "metadata": {},
   "outputs": [],
   "source": [
    "ifu = targets.get_ifu_position(galaxy, options,\n",
    "    pa=90, # degrees\n",
    "    sp=1,  # spaxels\n",
    "    sq=2,  # spaxels\n",
    ")\n",
    "\n",
    "targets.plot_galaxy_cutouts(galaxy, options, space_cutout, ifu=ifu,\n",
    "    resolution=0.15, # arcsec\n",
    "    segmap=True,\n",
    "    ifu_grid=True\n",
    ")"
   ]
  },
  {
   "cell_type": "code",
   "execution_count": null,
   "metadata": {},
   "outputs": [],
   "source": [
    "targets.plot_dithers(galaxy, options, space_cutout, ifu,\n",
    "    sp=[-2.5,  2.0, -2.5, 2.0],\n",
    "    sq=[ 5.5, -5.0, -5.0, 5.5],\n",
    "    resolution=0.15, # arcsec\n",
    "    segmap=True,\n",
    "    ifu_grid=True\n",
    ")"
   ]
  },
  {
   "cell_type": "markdown",
   "metadata": {},
   "source": [
    "### Finder Chart"
   ]
  },
  {
   "cell_type": "code",
   "execution_count": null,
   "metadata": {},
   "outputs": [],
   "source": [
    "targets.plot_finder_chart(catalog_cutout, options, ifu=ifu, stars=stars, ngs_id=ngs_id,\n",
    "    vmin=0,\n",
    "    vmax=50\n",
    ")"
   ]
  },
  {
   "cell_type": "markdown",
   "metadata": {},
   "source": [
    "### Check Blind Offset"
   ]
  },
  {
   "cell_type": "code",
   "execution_count": null,
   "metadata": {},
   "outputs": [],
   "source": [
    "if len(stars) > 0:\n",
    "    targets.compare_star_centroid(catalog_cutout, stars, ngs_id, options, ifu=ifu,\n",
    "        radius=2.5 # arcsec\n",
    "    )"
   ]
  }
 ],
 "metadata": {
  "kernelspec": {
   "display_name": "Python 3",
   "language": "python",
   "name": "python3"
  },
  "language_info": {
   "codemirror_mode": {
    "name": "ipython",
    "version": 3
   },
   "file_extension": ".py",
   "mimetype": "text/x-python",
   "name": "python",
   "nbconvert_exporter": "python",
   "pygments_lexer": "ipython3",
   "version": "3.13.2"
  }
 },
 "nbformat": 4,
 "nbformat_minor": 2
}
